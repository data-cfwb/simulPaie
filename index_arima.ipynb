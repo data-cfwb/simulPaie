{
 "cells": [
  {
   "cell_type": "markdown",
   "metadata": {},
   "source": [
    "# Prediction of index using ARIMA\n",
    "\n",
    "This notebook shows how to use ARIMA to predict the index of a time series.\n",
    "\n",
    "Author: Martin Erpicum\n",
    "\n",
    "\n",
    "## Importing the libraries"
   ]
  },
  {
   "cell_type": "code",
   "execution_count": 76,
   "metadata": {},
   "outputs": [
    {
     "name": "stdout",
     "output_type": "stream",
     "text": [
      "Requirement already satisfied: statsmodels in /opt/homebrew/lib/python3.10/site-packages (0.13.2)\n",
      "Requirement already satisfied: numpy>=1.17 in /opt/homebrew/lib/python3.10/site-packages (from statsmodels) (1.23.2)\n",
      "Requirement already satisfied: scipy>=1.3 in /opt/homebrew/lib/python3.10/site-packages (from statsmodels) (1.9.2)\n",
      "Requirement already satisfied: pandas>=0.25 in /opt/homebrew/lib/python3.10/site-packages (from statsmodels) (1.4.3)\n",
      "Requirement already satisfied: packaging>=21.3 in /opt/homebrew/lib/python3.10/site-packages (from statsmodels) (21.3)\n",
      "Requirement already satisfied: patsy>=0.5.2 in /opt/homebrew/lib/python3.10/site-packages (from statsmodels) (0.5.3)\n",
      "Requirement already satisfied: pyparsing!=3.0.5,>=2.0.2 in /opt/homebrew/lib/python3.10/site-packages (from packaging>=21.3->statsmodels) (3.0.9)\n",
      "Requirement already satisfied: pytz>=2020.1 in /opt/homebrew/lib/python3.10/site-packages (from pandas>=0.25->statsmodels) (2022.2.1)\n",
      "Requirement already satisfied: python-dateutil>=2.8.1 in /opt/homebrew/lib/python3.10/site-packages (from pandas>=0.25->statsmodels) (2.8.2)\n",
      "Requirement already satisfied: six in /opt/homebrew/lib/python3.10/site-packages (from patsy>=0.5.2->statsmodels) (1.16.0)\n"
     ]
    }
   ],
   "source": [
    "!pip3 install statsmodels\n",
    "import pandas as pd\n",
    "import plotly.express as px\n",
    "from plotly.subplots import make_subplots\n",
    "from statsmodels.tsa.arima.model import ARIMA\n",
    "import matplotlib.pyplot as plt\n",
    "import datetime as dt"
   ]
  },
  {
   "cell_type": "code",
   "execution_count": 77,
   "metadata": {},
   "outputs": [
    {
     "data": {
      "text/html": [
       "<div>\n",
       "<style scoped>\n",
       "    .dataframe tbody tr th:only-of-type {\n",
       "        vertical-align: middle;\n",
       "    }\n",
       "\n",
       "    .dataframe tbody tr th {\n",
       "        vertical-align: top;\n",
       "    }\n",
       "\n",
       "    .dataframe thead th {\n",
       "        text-align: right;\n",
       "    }\n",
       "</style>\n",
       "<table border=\"1\" class=\"dataframe\">\n",
       "  <thead>\n",
       "    <tr style=\"text-align: right;\">\n",
       "      <th></th>\n",
       "      <th>valid_since</th>\n",
       "      <th>index</th>\n",
       "      <th>rank</th>\n",
       "    </tr>\n",
       "    <tr>\n",
       "      <th>valid_since</th>\n",
       "      <th></th>\n",
       "      <th></th>\n",
       "      <th></th>\n",
       "    </tr>\n",
       "  </thead>\n",
       "  <tbody>\n",
       "    <tr>\n",
       "      <th>1990-01-01</th>\n",
       "      <td>1990-01-01</td>\n",
       "      <td>1.0000</td>\n",
       "      <td>0</td>\n",
       "    </tr>\n",
       "    <tr>\n",
       "      <th>1990-02-01</th>\n",
       "      <td>1990-02-01</td>\n",
       "      <td>1.0200</td>\n",
       "      <td>1</td>\n",
       "    </tr>\n",
       "    <tr>\n",
       "      <th>1990-10-01</th>\n",
       "      <td>1990-10-01</td>\n",
       "      <td>1.0404</td>\n",
       "      <td>2</td>\n",
       "    </tr>\n",
       "    <tr>\n",
       "      <th>1991-03-01</th>\n",
       "      <td>1991-03-01</td>\n",
       "      <td>1.0612</td>\n",
       "      <td>3</td>\n",
       "    </tr>\n",
       "    <tr>\n",
       "      <th>1991-12-01</th>\n",
       "      <td>1991-12-01</td>\n",
       "      <td>1.0824</td>\n",
       "      <td>4</td>\n",
       "    </tr>\n",
       "  </tbody>\n",
       "</table>\n",
       "</div>"
      ],
      "text/plain": [
       "            valid_since   index  rank\n",
       "valid_since                          \n",
       "1990-01-01   1990-01-01  1.0000     0\n",
       "1990-02-01   1990-02-01  1.0200     1\n",
       "1990-10-01   1990-10-01  1.0404     2\n",
       "1991-03-01   1991-03-01  1.0612     3\n",
       "1991-12-01   1991-12-01  1.0824     4"
      ]
     },
     "execution_count": 77,
     "metadata": {},
     "output_type": "execute_result"
    }
   ],
   "source": [
    "\n",
    "df = pd.read_csv('./index_df.csv', sep=';')\n",
    "\n",
    "df['valid_since'] = pd.to_datetime(df['valid_since'], format='%d/%m/%Y')\n",
    "df.index = df['valid_since']\n",
    "df['index'] = df['index'].str.replace(',', '.').astype(float)\n",
    "df.head()\n",
    "\n"
   ]
  },
  {
   "cell_type": "code",
   "execution_count": 78,
   "metadata": {},
   "outputs": [
    {
     "name": "stdout",
     "output_type": "stream",
     "text": [
      "                               SARIMAX Results                                \n",
      "==============================================================================\n",
      "Dep. Variable:                  index   No. Observations:                   34\n",
      "Model:                 ARIMA(1, 1, 0)   Log Likelihood                 182.015\n",
      "Date:                Mon, 10 Oct 2022   AIC                           -360.030\n",
      "Time:                        15:19:55   BIC                           -357.037\n",
      "Sample:                             0   HQIC                          -359.023\n",
      "                                 - 34                                         \n",
      "Covariance Type:                  opg                                         \n",
      "==============================================================================\n",
      "                 coef    std err          z      P>|z|      [0.025      0.975]\n",
      "------------------------------------------------------------------------------\n",
      "ar.L1          0.9942      0.003    351.171      0.000       0.989       1.000\n",
      "sigma2      8.195e-07   2.17e-07      3.783      0.000    3.95e-07    1.24e-06\n",
      "===================================================================================\n",
      "Ljung-Box (L1) (Q):                   7.08   Jarque-Bera (JB):                62.95\n",
      "Prob(Q):                              0.01   Prob(JB):                         0.00\n",
      "Heteroskedasticity (H):               1.06   Skew:                             1.67\n",
      "Prob(H) (two-sided):                  0.92   Kurtosis:                         8.88\n",
      "===================================================================================\n",
      "\n",
      "Warnings:\n",
      "[1] Covariance matrix calculated using the outer product of gradients (complex-step).\n"
     ]
    },
    {
     "name": "stderr",
     "output_type": "stream",
     "text": [
      "/opt/homebrew/lib/python3.10/site-packages/statsmodels/tsa/base/tsa_model.py:471: ValueWarning:\n",
      "\n",
      "A date index has been provided, but it has no associated frequency information and so will be ignored when e.g. forecasting.\n",
      "\n",
      "/opt/homebrew/lib/python3.10/site-packages/statsmodels/tsa/base/tsa_model.py:471: ValueWarning:\n",
      "\n",
      "A date index has been provided, but it has no associated frequency information and so will be ignored when e.g. forecasting.\n",
      "\n",
      "/opt/homebrew/lib/python3.10/site-packages/statsmodels/tsa/base/tsa_model.py:471: ValueWarning:\n",
      "\n",
      "A date index has been provided, but it has no associated frequency information and so will be ignored when e.g. forecasting.\n",
      "\n",
      "/opt/homebrew/lib/python3.10/site-packages/statsmodels/tsa/statespace/sarimax.py:966: UserWarning:\n",
      "\n",
      "Non-stationary starting autoregressive parameters found. Using zeros as starting parameters.\n",
      "\n",
      "/opt/homebrew/lib/python3.10/site-packages/statsmodels/base/model.py:604: ConvergenceWarning:\n",
      "\n",
      "Maximum Likelihood optimization failed to converge. Check mle_retvals\n",
      "\n"
     ]
    }
   ],
   "source": [
    "arima_model = ARIMA(df['index'], order=(1, 1, 0))\n",
    "arima_model_fit = arima_model.fit()\n",
    "print(arima_model_fit.summary())"
   ]
  },
  {
   "cell_type": "code",
   "execution_count": 79,
   "metadata": {},
   "outputs": [
    {
     "data": {
      "image/png": "[encoded data removed]",
      "text/plain": [
       "<Figure size 640x480 with 4 Axes>"
      ]
     },
     "metadata": {},
     "output_type": "display_data"
    }
   ],
   "source": [
    "# plot arima model fit\n",
    "arima_model_fit.plot_diagnostics()\n",
    "plt.show()\n"
   ]
  },
  {
   "cell_type": "code",
   "execution_count": 80,
   "metadata": {},
   "outputs": [
    {
     "data": {
      "application/vnd.plotly.v1+json": {
       "config": {
        "plotlyServerURL": "https://plot.ly"
       },
       "data": [
        {
         "hovertemplate": "valid_since=%{x}<br>index=%{y}<extra></extra>",
         "legendgroup": "",
         "line": {
          "color": "#636efa",
          "dash": "solid"
         },
         "marker": {
          "symbol": "circle"
         },
         "mode": "lines",
         "name": "",
         "orientation": "v",
         "showlegend": false,
         "type": "scatter",
         "x": [
          "1990-01-01T00:00:00",
          "1990-02-01T00:00:00",
          "1990-10-01T00:00:00",
          "1991-03-01T00:00:00",
          "1991-12-01T00:00:00",
          "1992-10-01T00:00:00",
          "1993-07-01T00:00:00",
          "1994-11-01T00:00:00",
          "1996-05-01T00:00:00",
          "1997-10-01T00:00:00",
          "1999-06-01T00:00:00",
          "2000-09-01T00:00:00",
          "2001-07-01T00:00:00",
          "2002-03-01T00:00:00",
          "2003-07-01T00:00:00",
          "2004-11-01T00:00:00",
          "2005-09-01T00:00:00",
          "2006-11-01T00:00:00",
          "2008-02-01T00:00:00",
          "2008-06-01T00:00:00",
          "2008-10-01T00:00:00",
          "2010-10-01T00:00:00",
          "2011-06-01T00:00:00",
          "2012-03-01T00:00:00",
          "2013-01-01T00:00:00",
          "2016-07-01T00:00:00",
          "2017-07-01T00:00:00",
          "2018-10-01T00:00:00",
          "2020-04-01T00:00:00",
          "2021-10-01T00:00:00",
          "2022-02-01T00:00:00",
          "2022-04-01T00:00:00",
          "2022-06-01T00:00:00",
          "2022-09-01T00:00:00"
         ],
         "xaxis": "x",
         "y": [
          1,
          1.02,
          1.0404,
          1.0612,
          1.0824,
          1.1041,
          1.1262,
          1.1487,
          1.1717,
          1.1951,
          1.219,
          1.2434,
          1.2682,
          1.2936,
          1.3195,
          1.3459,
          1.3718,
          1.4002,
          1.4282,
          1.4568,
          1.4859,
          1.5157,
          1.546,
          1.5769,
          1.6084,
          1.6406,
          1.6734,
          1.7069,
          1.741,
          1.7758,
          1.8114,
          1.8476,
          1.8845,
          1.9222
         ],
         "yaxis": "y"
        },
        {
         "hovertemplate": "valid_since=%{x}<br>y=%{y}<extra></extra>",
         "legendgroup": "",
         "line": {
          "color": "red",
          "dash": "dash"
         },
         "marker": {
          "symbol": "circle"
         },
         "mode": "lines",
         "name": "ARIMA model fit",
         "orientation": "v",
         "showlegend": false,
         "type": "scatter",
         "x": [
          "1990-01-01T00:00:00",
          "1990-02-01T00:00:00",
          "1990-10-01T00:00:00",
          "1991-03-01T00:00:00",
          "1991-12-01T00:00:00",
          "1992-10-01T00:00:00",
          "1993-07-01T00:00:00",
          "1994-11-01T00:00:00",
          "1996-05-01T00:00:00",
          "1997-10-01T00:00:00",
          "1999-06-01T00:00:00",
          "2000-09-01T00:00:00",
          "2001-07-01T00:00:00",
          "2002-03-01T00:00:00",
          "2003-07-01T00:00:00",
          "2004-11-01T00:00:00",
          "2005-09-01T00:00:00",
          "2006-11-01T00:00:00",
          "2008-02-01T00:00:00",
          "2008-06-01T00:00:00",
          "2008-10-01T00:00:00",
          "2010-10-01T00:00:00",
          "2011-06-01T00:00:00",
          "2012-03-01T00:00:00",
          "2013-01-01T00:00:00",
          "2016-07-01T00:00:00",
          "2017-07-01T00:00:00",
          "2018-10-01T00:00:00",
          "2020-04-01T00:00:00",
          "2021-10-01T00:00:00",
          "2022-02-01T00:00:00",
          "2022-04-01T00:00:00",
          "2022-06-01T00:00:00",
          "2022-09-01T00:00:00"
         ],
         "xaxis": "x",
         "y": [
          0,
          1.0000000000705256,
          1.039884169062885,
          1.0606818164370213,
          1.0818796560970585,
          1.1034771035231183,
          1.1256742851315378,
          1.1481719678067734,
          1.171069650482009,
          1.1945667538260536,
          1.2183644365012896,
          1.242761539845334,
          1.2676586431893788,
          1.2928563258646142,
          1.3188528498774683,
          1.3452499532215123,
          1.3721470565655576,
          1.3975499532215123,
          1.4284354699417356,
          1.4560377872665,
          1.485234311279354,
          1.5148314146233983,
          1.545327359305061,
          1.5761244626491056,
          1.6076209866619589,
          1.6397175106748128,
          1.6726134553564753,
          1.7060099793693286,
          1.7402059240509913,
          1.774902448063845,
          1.8103983927455074,
          1.8467937580959783,
          1.8835902821088324,
          1.9211862267904949
         ],
         "yaxis": "y"
        }
       ],
       "layout": {
        "showlegend": true,
        "template": {
         "data": {
          "bar": [
           {
            "error_x": {
             "color": "#2a3f5f"
            },
            "error_y": {
             "color": "#2a3f5f"
            },
            "marker": {
             "line": {
              "color": "#E5ECF6",
              "width": 0.5
             },
             "pattern": {
              "fillmode": "overlay",
              "size": 10,
              "solidity": 0.2
             }
            },
            "type": "bar"
           }
          ],
          "barpolar": [
           {
            "marker": {
             "line": {
              "color": "#E5ECF6",
              "width": 0.5
             },
             "pattern": {
              "fillmode": "overlay",
              "size": 10,
              "solidity": 0.2
             }
            },
            "type": "barpolar"
           }
          ],
          "carpet": [
           {
            "aaxis": {
             "endlinecolor": "#2a3f5f",
             "gridcolor": "white",
             "linecolor": "white",
             "minorgridcolor": "white",
             "startlinecolor": "#2a3f5f"
            },
            "baxis": {
             "endlinecolor": "#2a3f5f",
             "gridcolor": "white",
             "linecolor": "white",
             "minorgridcolor": "white",
             "startlinecolor": "#2a3f5f"
            },
            "type": "carpet"
           }
          ],
          "choropleth": [
           {
            "colorbar": {
             "outlinewidth": 0,
             "ticks": ""
            },
            "type": "choropleth"
           }
          ],
          "contour": [
           {
            "colorbar": {
             "outlinewidth": 0,
             "ticks": ""
            },
            "colorscale": [
             [
              0,
              "#0d0887"
             ],
             [
              0.1111111111111111,
              "#46039f"
             ],
             [
              0.2222222222222222,
              "#7201a8"
             ],
             [
              0.3333333333333333,
              "#9c179e"
             ],
             [
              0.4444444444444444,
              "#bd3786"
             ],
             [
              0.5555555555555556,
              "#d8576b"
             ],
             [
              0.6666666666666666,
              "#ed7953"
             ],
             [
              0.7777777777777778,
              "#fb9f3a"
             ],
             [
              0.8888888888888888,
              "#fdca26"
             ],
             [
              1,
              "#f0f921"
             ]
            ],
            "type": "contour"
           }
          ],
          "contourcarpet": [
           {
            "colorbar": {
             "outlinewidth": 0,
             "ticks": ""
            },
            "type": "contourcarpet"
           }
          ],
          "heatmap": [
           {
            "colorbar": {
             "outlinewidth": 0,
             "ticks": ""
            },
            "colorscale": [
             [
              0,
              "#0d0887"
             ],
             [
              0.1111111111111111,
              "#46039f"
             ],
             [
              0.2222222222222222,
              "#7201a8"
             ],
             [
              0.3333333333333333,
              "#9c179e"
             ],
             [
              0.4444444444444444,
              "#bd3786"
             ],
             [
              0.5555555555555556,
              "#d8576b"
             ],
             [
              0.6666666666666666,
              "#ed7953"
             ],
             [
              0.7777777777777778,
              "#fb9f3a"
             ],
             [
              0.8888888888888888,
              "#fdca26"
             ],
             [
              1,
              "#f0f921"
             ]
            ],
            "type": "heatmap"
           }
          ],
          "heatmapgl": [
           {
            "colorbar": {
             "outlinewidth": 0,
             "ticks": ""
            },
            "colorscale": [
             [
              0,
              "#0d0887"
             ],
             [
              0.1111111111111111,
              "#46039f"
             ],
             [
              0.2222222222222222,
              "#7201a8"
             ],
             [
              0.3333333333333333,
              "#9c179e"
             ],
             [
              0.4444444444444444,
              "#bd3786"
             ],
             [
              0.5555555555555556,
              "#d8576b"
             ],
             [
              0.6666666666666666,
              "#ed7953"
             ],
             [
              0.7777777777777778,
              "#fb9f3a"
             ],
             [
              0.8888888888888888,
              "#fdca26"
             ],
             [
              1,
              "#f0f921"
             ]
            ],
            "type": "heatmapgl"
           }
          ],
          "histogram": [
           {
            "marker": {
             "pattern": {
              "fillmode": "overlay",
              "size": 10,
              "solidity": 0.2
             }
            },
            "type": "histogram"
           }
          ],
          "histogram2d": [
           {
            "colorbar": {
             "outlinewidth": 0,
             "ticks": ""
            },
            "colorscale": [
             [
              0,
              "#0d0887"
             ],
             [
              0.1111111111111111,
              "#46039f"
             ],
             [
              0.2222222222222222,
              "#7201a8"
             ],
             [
              0.3333333333333333,
              "#9c179e"
             ],
             [
              0.4444444444444444,
              "#bd3786"
             ],
             [
              0.5555555555555556,
              "#d8576b"
             ],
             [
              0.6666666666666666,
              "#ed7953"
             ],
             [
              0.7777777777777778,
              "#fb9f3a"
             ],
             [
              0.8888888888888888,
              "#fdca26"
             ],
             [
              1,
              "#f0f921"
             ]
            ],
            "type": "histogram2d"
           }
          ],
          "histogram2dcontour": [
           {
            "colorbar": {
             "outlinewidth": 0,
             "ticks": ""
            },
            "colorscale": [
             [
              0,
              "#0d0887"
             ],
             [
              0.1111111111111111,
              "#46039f"
             ],
             [
              0.2222222222222222,
              "#7201a8"
             ],
             [
              0.3333333333333333,
              "#9c179e"
             ],
             [
              0.4444444444444444,
              "#bd3786"
             ],
             [
              0.5555555555555556,
              "#d8576b"
             ],
             [
              0.6666666666666666,
              "#ed7953"
             ],
             [
              0.7777777777777778,
              "#fb9f3a"
             ],
             [
              0.8888888888888888,
              "#fdca26"
             ],
             [
              1,
              "#f0f921"
             ]
            ],
            "type": "histogram2dcontour"
           }
          ],
          "mesh3d": [
           {
            "colorbar": {
             "outlinewidth": 0,
             "ticks": ""
            },
            "type": "mesh3d"
           }
          ],
          "parcoords": [
           {
            "line": {
             "colorbar": {
              "outlinewidth": 0,
              "ticks": ""
             }
            },
            "type": "parcoords"
           }
          ],
          "pie": [
           {
            "automargin": true,
            "type": "pie"
           }
          ],
          "scatter": [
           {
            "fillpattern": {
             "fillmode": "overlay",
             "size": 10,
             "solidity": 0.2
            },
            "type": "scatter"
           }
          ],
          "scatter3d": [
           {
            "line": {
             "colorbar": {
              "outlinewidth": 0,
              "ticks": ""
             }
            },
            "marker": {
             "colorbar": {
              "outlinewidth": 0,
              "ticks": ""
             }
            },
            "type": "scatter3d"
           }
          ],
          "scattercarpet": [
           {
            "marker": {
             "colorbar": {
              "outlinewidth": 0,
              "ticks": ""
             }
            },
            "type": "scattercarpet"
           }
          ],
          "scattergeo": [
           {
            "marker": {
             "colorbar": {
              "outlinewidth": 0,
              "ticks": ""
             }
            },
            "type": "scattergeo"
           }
          ],
          "scattergl": [
           {
            "marker": {
             "colorbar": {
              "outlinewidth": 0,
              "ticks": ""
             }
            },
            "type": "scattergl"
           }
          ],
          "scattermapbox": [
           {
            "marker": {
             "colorbar": {
              "outlinewidth": 0,
              "ticks": ""
             }
            },
            "type": "scattermapbox"
           }
          ],
          "scatterpolar": [
           {
            "marker": {
             "colorbar": {
              "outlinewidth": 0,
              "ticks": ""
             }
            },
            "type": "scatterpolar"
           }
          ],
          "scatterpolargl": [
           {
            "marker": {
             "colorbar": {
              "outlinewidth": 0,
              "ticks": ""
             }
            },
            "type": "scatterpolargl"
           }
          ],
          "scatterternary": [
           {
            "marker": {
             "colorbar": {
              "outlinewidth": 0,
              "ticks": ""
             }
            },
            "type": "scatterternary"
           }
          ],
          "surface": [
           {
            "colorbar": {
             "outlinewidth": 0,
             "ticks": ""
            },
            "colorscale": [
             [
              0,
              "#0d0887"
             ],
             [
              0.1111111111111111,
              "#46039f"
             ],
             [
              0.2222222222222222,
              "#7201a8"
             ],
             [
              0.3333333333333333,
              "#9c179e"
             ],
             [
              0.4444444444444444,
              "#bd3786"
             ],
             [
              0.5555555555555556,
              "#d8576b"
             ],
             [
              0.6666666666666666,
              "#ed7953"
             ],
             [
              0.7777777777777778,
              "#fb9f3a"
             ],
             [
              0.8888888888888888,
              "#fdca26"
             ],
             [
              1,
              "#f0f921"
             ]
            ],
            "type": "surface"
           }
          ],
          "table": [
           {
            "cells": {
             "fill": {
              "color": "#EBF0F8"
             },
             "line": {
              "color": "white"
             }
            },
            "header": {
             "fill": {
              "color": "#C8D4E3"
             },
             "line": {
              "color": "white"
             }
            },
            "type": "table"
           }
          ]
         },
         "layout": {
          "annotationdefaults": {
           "arrowcolor": "#2a3f5f",
           "arrowhead": 0,
           "arrowwidth": 1
          },
          "autotypenumbers": "strict",
          "coloraxis": {
           "colorbar": {
            "outlinewidth": 0,
            "ticks": ""
           }
          },
          "colorscale": {
           "diverging": [
            [
             0,
             "#8e0152"
            ],
            [
             0.1,
             "#c51b7d"
            ],
            [
             0.2,
             "#de77ae"
            ],
            [
             0.3,
             "#f1b6da"
            ],
            [
             0.4,
             "#fde0ef"
            ],
            [
             0.5,
             "#f7f7f7"
            ],
            [
             0.6,
             "#e6f5d0"
            ],
            [
             0.7,
             "#b8e186"
            ],
            [
             0.8,
             "#7fbc41"
            ],
            [
             0.9,
             "#4d9221"
            ],
            [
             1,
             "#276419"
            ]
           ],
           "sequential": [
            [
             0,
             "#0d0887"
            ],
            [
             0.1111111111111111,
             "#46039f"
            ],
            [
             0.2222222222222222,
             "#7201a8"
            ],
            [
             0.3333333333333333,
             "#9c179e"
            ],
            [
             0.4444444444444444,
             "#bd3786"
            ],
            [
             0.5555555555555556,
             "#d8576b"
            ],
            [
             0.6666666666666666,
             "#ed7953"
            ],
            [
             0.7777777777777778,
             "#fb9f3a"
            ],
            [
             0.8888888888888888,
             "#fdca26"
            ],
            [
             1,
             "#f0f921"
            ]
           ],
           "sequentialminus": [
            [
             0,
             "#0d0887"
            ],
            [
             0.1111111111111111,
             "#46039f"
            ],
            [
             0.2222222222222222,
             "#7201a8"
            ],
            [
             0.3333333333333333,
             "#9c179e"
            ],
            [
             0.4444444444444444,
             "#bd3786"
            ],
            [
             0.5555555555555556,
             "#d8576b"
            ],
            [
             0.6666666666666666,
             "#ed7953"
            ],
            [
             0.7777777777777778,
             "#fb9f3a"
            ],
            [
             0.8888888888888888,
             "#fdca26"
            ],
            [
             1,
             "#f0f921"
            ]
           ]
          },
          "colorway": [
           "#636efa",
           "#EF553B",
           "#00cc96",
           "#ab63fa",
           "#FFA15A",
           "#19d3f3",
           "#FF6692",
           "#B6E880",
           "#FF97FF",
           "#FECB52"
          ],
          "font": {
           "color": "#2a3f5f"
          },
          "geo": {
           "bgcolor": "white",
           "lakecolor": "white",
           "landcolor": "#E5ECF6",
           "showlakes": true,
           "showland": true,
           "subunitcolor": "white"
          },
          "hoverlabel": {
           "align": "left"
          },
          "hovermode": "closest",
          "mapbox": {
           "style": "light"
          },
          "paper_bgcolor": "white",
          "plot_bgcolor": "#E5ECF6",
          "polar": {
           "angularaxis": {
            "gridcolor": "white",
            "linecolor": "white",
            "ticks": ""
           },
           "bgcolor": "#E5ECF6",
           "radialaxis": {
            "gridcolor": "white",
            "linecolor": "white",
            "ticks": ""
           }
          },
          "scene": {
           "xaxis": {
            "backgroundcolor": "#E5ECF6",
            "gridcolor": "white",
            "gridwidth": 2,
            "linecolor": "white",
            "showbackground": true,
            "ticks": "",
            "zerolinecolor": "white"
           },
           "yaxis": {
            "backgroundcolor": "#E5ECF6",
            "gridcolor": "white",
            "gridwidth": 2,
            "linecolor": "white",
            "showbackground": true,
            "ticks": "",
            "zerolinecolor": "white"
           },
           "zaxis": {
            "backgroundcolor": "#E5ECF6",
            "gridcolor": "white",
            "gridwidth": 2,
            "linecolor": "white",
            "showbackground": true,
            "ticks": "",
            "zerolinecolor": "white"
           }
          },
          "shapedefaults": {
           "line": {
            "color": "#2a3f5f"
           }
          },
          "ternary": {
           "aaxis": {
            "gridcolor": "white",
            "linecolor": "white",
            "ticks": ""
           },
           "baxis": {
            "gridcolor": "white",
            "linecolor": "white",
            "ticks": ""
           },
           "bgcolor": "#E5ECF6",
           "caxis": {
            "gridcolor": "white",
            "linecolor": "white",
            "ticks": ""
           }
          },
          "title": {
           "x": 0.05
          },
          "xaxis": {
           "automargin": true,
           "gridcolor": "white",
           "linecolor": "white",
           "ticks": "",
           "title": {
            "standoff": 15
           },
           "zerolinecolor": "white",
           "zerolinewidth": 2
          },
          "yaxis": {
           "automargin": true,
           "gridcolor": "white",
           "linecolor": "white",
           "ticks": "",
           "title": {
            "standoff": 15
           },
           "zerolinecolor": "white",
           "zerolinewidth": 2
          }
         }
        },
        "xaxis": {
         "anchor": "y",
         "domain": [
          0,
          1
         ]
        },
        "yaxis": {
         "anchor": "x",
         "domain": [
          0,
          1
         ]
        }
       }
      }
     },
     "metadata": {},
     "output_type": "display_data"
    }
   ],
   "source": [
    "fig = make_subplots()\n",
    "fig.add_trace(px.line(df, x='valid_since', y='index', title='Indexation').data[0])\n",
    "fig.add_trace(px.line(df, x='valid_since', y=arima_model_fit.fittedvalues, title='Indexation').data[0])\n",
    "\n",
    "# change color of trace \n",
    "fig.data[1].line.color = 'red'\n",
    "# add name \n",
    "fig.data[1].name = 'ARIMA model fit'\n",
    "# dashed line\n",
    "fig.data[1].line.dash = 'dash'\n",
    "\n",
    "# add legend\n",
    "fig.update_layout(showlegend=True)\n",
    "\n",
    "\n",
    "fig.show()\n"
   ]
  },
  {
   "cell_type": "code",
   "execution_count": 81,
   "metadata": {},
   "outputs": [
    {
     "name": "stderr",
     "output_type": "stream",
     "text": [
      "/opt/homebrew/lib/python3.10/site-packages/statsmodels/tsa/base/tsa_model.py:834: ValueWarning:\n",
      "\n",
      "No supported index is available. Prediction results will be given with an integer index beginning at `start`.\n",
      "\n"
     ]
    }
   ],
   "source": [
    "# forecast for next 5 years every 6 months\n",
    "forecast = arima_model_fit.get_forecast(steps=100)\n",
    "forecast_df = forecast.summary_frame(alpha=0.05)\n",
    "# add date to forecast\n",
    "forecast_df.head()\n",
    "\n",
    "# add 6 months to last date\n",
    "last_date = df.index[-1] + dt.timedelta(days=180)\n",
    "\n",
    "# change index to datetime for each month after last date\n",
    "forecast_df.index = pd.date_range(start=last_date, periods=100, freq='6M')\n"
   ]
  },
  {
   "cell_type": "code",
   "execution_count": 82,
   "metadata": {},
   "outputs": [
    {
     "data": {
      "application/vnd.plotly.v1+json": {
       "config": {
        "plotlyServerURL": "https://plot.ly"
       },
       "data": [
        {
         "hovertemplate": "valid_since=%{x}<br>index=%{y}<extra></extra>",
         "legendgroup": "",
         "line": {
          "color": "#636efa",
          "dash": "solid"
         },
         "marker": {
          "symbol": "circle"
         },
         "mode": "lines",
         "name": "",
         "orientation": "v",
         "showlegend": false,
         "type": "scatter",
         "x": [
          "1990-01-01T00:00:00",
          "1990-02-01T00:00:00",
          "1990-10-01T00:00:00",
          "1991-03-01T00:00:00",
          "1991-12-01T00:00:00",
          "1992-10-01T00:00:00",
          "1993-07-01T00:00:00",
          "1994-11-01T00:00:00",
          "1996-05-01T00:00:00",
          "1997-10-01T00:00:00",
          "1999-06-01T00:00:00",
          "2000-09-01T00:00:00",
          "2001-07-01T00:00:00",
          "2002-03-01T00:00:00",
          "2003-07-01T00:00:00",
          "2004-11-01T00:00:00",
          "2005-09-01T00:00:00",
          "2006-11-01T00:00:00",
          "2008-02-01T00:00:00",
          "2008-06-01T00:00:00",
          "2008-10-01T00:00:00",
          "2010-10-01T00:00:00",
          "2011-06-01T00:00:00",
          "2012-03-01T00:00:00",
          "2013-01-01T00:00:00",
          "2016-07-01T00:00:00",
          "2017-07-01T00:00:00",
          "2018-10-01T00:00:00",
          "2020-04-01T00:00:00",
          "2021-10-01T00:00:00",
          "2022-02-01T00:00:00",
          "2022-04-01T00:00:00",
          "2022-06-01T00:00:00",
          "2022-09-01T00:00:00"
         ],
         "xaxis": "x",
         "y": [
          1,
          1.02,
          1.0404,
          1.0612,
          1.0824,
          1.1041,
          1.1262,
          1.1487,
          1.1717,
          1.1951,
          1.219,
          1.2434,
          1.2682,
          1.2936,
          1.3195,
          1.3459,
          1.3718,
          1.4002,
          1.4282,
          1.4568,
          1.4859,
          1.5157,
          1.546,
          1.5769,
          1.6084,
          1.6406,
          1.6734,
          1.7069,
          1.741,
          1.7758,
          1.8114,
          1.8476,
          1.8845,
          1.9222
         ],
         "yaxis": "y"
        },
        {
         "hovertemplate": "valid_since=%{x}<br>y=%{y}<extra></extra>",
         "legendgroup": "",
         "line": {
          "color": "red",
          "dash": "dash"
         },
         "marker": {
          "symbol": "circle"
         },
         "mode": "lines",
         "name": "ARIMA model fit",
         "orientation": "v",
         "showlegend": false,
         "type": "scatter",
         "x": [
          "1990-01-01T00:00:00",
          "1990-02-01T00:00:00",
          "1990-10-01T00:00:00",
          "1991-03-01T00:00:00",
          "1991-12-01T00:00:00",
          "1992-10-01T00:00:00",
          "1993-07-01T00:00:00",
          "1994-11-01T00:00:00",
          "1996-05-01T00:00:00",
          "1997-10-01T00:00:00",
          "1999-06-01T00:00:00",
          "2000-09-01T00:00:00",
          "2001-07-01T00:00:00",
          "2002-03-01T00:00:00",
          "2003-07-01T00:00:00",
          "2004-11-01T00:00:00",
          "2005-09-01T00:00:00",
          "2006-11-01T00:00:00",
          "2008-02-01T00:00:00",
          "2008-06-01T00:00:00",
          "2008-10-01T00:00:00",
          "2010-10-01T00:00:00",
          "2011-06-01T00:00:00",
          "2012-03-01T00:00:00",
          "2013-01-01T00:00:00",
          "2016-07-01T00:00:00",
          "2017-07-01T00:00:00",
          "2018-10-01T00:00:00",
          "2020-04-01T00:00:00",
          "2021-10-01T00:00:00",
          "2022-02-01T00:00:00",
          "2022-04-01T00:00:00",
          "2022-06-01T00:00:00",
          "2022-09-01T00:00:00"
         ],
         "xaxis": "x",
         "y": [
          0,
          1.0000000000705256,
          1.039884169062885,
          1.0606818164370213,
          1.0818796560970585,
          1.1034771035231183,
          1.1256742851315378,
          1.1481719678067734,
          1.171069650482009,
          1.1945667538260536,
          1.2183644365012896,
          1.242761539845334,
          1.2676586431893788,
          1.2928563258646142,
          1.3188528498774683,
          1.3452499532215123,
          1.3721470565655576,
          1.3975499532215123,
          1.4284354699417356,
          1.4560377872665,
          1.485234311279354,
          1.5148314146233983,
          1.545327359305061,
          1.5761244626491056,
          1.6076209866619589,
          1.6397175106748128,
          1.6726134553564753,
          1.7060099793693286,
          1.7402059240509913,
          1.774902448063845,
          1.8103983927455074,
          1.8467937580959783,
          1.8835902821088324,
          1.9211862267904949
         ],
         "yaxis": "y"
        },
        {
         "hovertemplate": "index=%{x}<br>mean=%{y}<extra></extra>",
         "legendgroup": "",
         "line": {
          "color": "green",
          "dash": "solid"
         },
         "marker": {
          "symbol": "circle"
         },
         "mode": "lines",
         "name": "",
         "orientation": "v",
         "showlegend": false,
         "type": "scatter",
         "x": [
          "2023-02-28T00:00:00",
          "2023-08-31T00:00:00",
          "2024-02-29T00:00:00",
          "2024-08-31T00:00:00",
          "2025-02-28T00:00:00",
          "2025-08-31T00:00:00",
          "2026-02-28T00:00:00",
          "2026-08-31T00:00:00",
          "2027-02-28T00:00:00",
          "2027-08-31T00:00:00",
          "2028-02-29T00:00:00",
          "2028-08-31T00:00:00",
          "2029-02-28T00:00:00",
          "2029-08-31T00:00:00",
          "2030-02-28T00:00:00",
          "2030-08-31T00:00:00",
          "2031-02-28T00:00:00",
          "2031-08-31T00:00:00",
          "2032-02-29T00:00:00",
          "2032-08-31T00:00:00",
          "2033-02-28T00:00:00",
          "2033-08-31T00:00:00",
          "2034-02-28T00:00:00",
          "2034-08-31T00:00:00",
          "2035-02-28T00:00:00",
          "2035-08-31T00:00:00",
          "2036-02-29T00:00:00",
          "2036-08-31T00:00:00",
          "2037-02-28T00:00:00",
          "2037-08-31T00:00:00",
          "2038-02-28T00:00:00",
          "2038-08-31T00:00:00",
          "2039-02-28T00:00:00",
          "2039-08-31T00:00:00",
          "2040-02-29T00:00:00",
          "2040-08-31T00:00:00",
          "2041-02-28T00:00:00",
          "2041-08-31T00:00:00",
          "2042-02-28T00:00:00",
          "2042-08-31T00:00:00",
          "2043-02-28T00:00:00",
          "2043-08-31T00:00:00",
          "2044-02-29T00:00:00",
          "2044-08-31T00:00:00",
          "2045-02-28T00:00:00",
          "2045-08-31T00:00:00",
          "2046-02-28T00:00:00",
          "2046-08-31T00:00:00",
          "2047-02-28T00:00:00",
          "2047-08-31T00:00:00",
          "2048-02-29T00:00:00",
          "2048-08-31T00:00:00",
          "2049-02-28T00:00:00",
          "2049-08-31T00:00:00",
          "2050-02-28T00:00:00",
          "2050-08-31T00:00:00",
          "2051-02-28T00:00:00",
          "2051-08-31T00:00:00",
          "2052-02-29T00:00:00",
          "2052-08-31T00:00:00",
          "2053-02-28T00:00:00",
          "2053-08-31T00:00:00",
          "2054-02-28T00:00:00",
          "2054-08-31T00:00:00",
          "2055-02-28T00:00:00",
          "2055-08-31T00:00:00",
          "2056-02-29T00:00:00",
          "2056-08-31T00:00:00",
          "2057-02-28T00:00:00",
          "2057-08-31T00:00:00",
          "2058-02-28T00:00:00",
          "2058-08-31T00:00:00",
          "2059-02-28T00:00:00",
          "2059-08-31T00:00:00",
          "2060-02-29T00:00:00",
          "2060-08-31T00:00:00",
          "2061-02-28T00:00:00",
          "2061-08-31T00:00:00",
          "2062-02-28T00:00:00",
          "2062-08-31T00:00:00",
          "2063-02-28T00:00:00",
          "2063-08-31T00:00:00",
          "2064-02-29T00:00:00",
          "2064-08-31T00:00:00",
          "2065-02-28T00:00:00",
          "2065-08-31T00:00:00",
          "2066-02-28T00:00:00",
          "2066-08-31T00:00:00",
          "2067-02-28T00:00:00",
          "2067-08-31T00:00:00",
          "2068-02-29T00:00:00",
          "2068-08-31T00:00:00",
          "2069-02-28T00:00:00",
          "2069-08-31T00:00:00",
          "2070-02-28T00:00:00",
          "2070-08-31T00:00:00",
          "2071-02-28T00:00:00",
          "2071-08-31T00:00:00",
          "2072-02-29T00:00:00",
          "2072-08-31T00:00:00"
         ],
         "xaxis": "x",
         "y": [
          1.959681592140966,
          1.9969460417277496,
          2.033994606734896,
          2.0708285378491116,
          2.107449078511485,
          2.1438574649594626,
          2.1800549262685815,
          2.216042684393961,
          2.2518219542115525,
          2.2873939435591537,
          2.3227598532771796,
          2.357920877249203,
          2.392878202442257,
          2.427633008946903,
          2.462186470017071,
          2.496539752109665,
          2.5306940149239403,
          2.564650411440652,
          2.598410087960979,
          2.6319741841452187,
          2.665343833051262,
          2.698520161172842,
          2.7315042884775615,
          2.764297328444702,
          2.796900388102813,
          2.8293145680670806,
          2.8615409625764854,
          2.89358065953074,
          2.9254347405270136,
          2.9571042808964467,
          2.988590349740451,
          3.0198940099668,
          3.051016318325511,
          3.0819583254445186,
          3.1127210758651422,
          3.143305608077348,
          3.173712954554805,
          3.2039441417897416,
          3.234000190327595,
          3.263882114801465,
          3.2935909239663657,
          3.3231276207332785,
          3.3524932022030085,
          3.381688659699845,
          3.4107149788050264,
          3.4395731393900117,
          3.468264115649559,
          3.4967888761346115,
          3.525148383784996,
          3.5533435959619277,
          3.5813754644803297,
          3.6092449356409646,
          3.6369529502623794,
          3.664500443712666,
          3.6918883459410368,
          3.719117581509219,
          3.746189069622664,
          3.773103724161581,
          3.7998624537117847,
          3.82646616159537,
          3.8529157459012042,
          3.879212099515246,
          3.905356110150688,
          3.9313486603779215,
          3.957190627654334,
          3.982882884353928,
          4.008426297796771,
          4.033821730278276,
          4.059070039098308,
          4.084172076590127,
          4.109128690149162,
          4.133940722261614,
          4.1586090105329,
          4.183134387715928,
          4.207517681739207,
          4.231759715734798,
          4.255861308066103,
          4.279823272355487,
          4.30364641751175,
          4.327331547757429,
          4.350879462655948,
          4.374290957138614,
          4.397566821531446,
          4.420707841581859,
          4.443714798485187,
          4.466588468911058,
          4.48932962502961,
          4.511939034537557,
          4.534417460684107,
          4.556765662296728,
          4.578984393806764,
          4.601074405274902,
          4.6230364424164945,
          4.644871246626731,
          4.666579555005668,
          4.688162100383112,
          4.709619611343357,
          4.730952812249782,
          4.7521624232693025,
          4.773249160396682
         ],
         "yaxis": "y"
        },
        {
         "hovertemplate": "index=%{x}<br>mean_ci_lower=%{y}<extra></extra>",
         "legendgroup": "",
         "line": {
          "color": "grey",
          "dash": "solid"
         },
         "marker": {
          "symbol": "circle"
         },
         "mode": "lines",
         "name": "",
         "orientation": "v",
         "showlegend": false,
         "type": "scatter",
         "x": [
          "2023-02-28T00:00:00",
          "2023-08-31T00:00:00",
          "2024-02-29T00:00:00",
          "2024-08-31T00:00:00",
          "2025-02-28T00:00:00",
          "2025-08-31T00:00:00",
          "2026-02-28T00:00:00",
          "2026-08-31T00:00:00",
          "2027-02-28T00:00:00",
          "2027-08-31T00:00:00",
          "2028-02-29T00:00:00",
          "2028-08-31T00:00:00",
          "2029-02-28T00:00:00",
          "2029-08-31T00:00:00",
          "2030-02-28T00:00:00",
          "2030-08-31T00:00:00",
          "2031-02-28T00:00:00",
          "2031-08-31T00:00:00",
          "2032-02-29T00:00:00",
          "2032-08-31T00:00:00",
          "2033-02-28T00:00:00",
          "2033-08-31T00:00:00",
          "2034-02-28T00:00:00",
          "2034-08-31T00:00:00",
          "2035-02-28T00:00:00",
          "2035-08-31T00:00:00",
          "2036-02-29T00:00:00",
          "2036-08-31T00:00:00",
          "2037-02-28T00:00:00",
          "2037-08-31T00:00:00",
          "2038-02-28T00:00:00",
          "2038-08-31T00:00:00",
          "2039-02-28T00:00:00",
          "2039-08-31T00:00:00",
          "2040-02-29T00:00:00",
          "2040-08-31T00:00:00",
          "2041-02-28T00:00:00",
          "2041-08-31T00:00:00",
          "2042-02-28T00:00:00",
          "2042-08-31T00:00:00",
          "2043-02-28T00:00:00",
          "2043-08-31T00:00:00",
          "2044-02-29T00:00:00",
          "2044-08-31T00:00:00",
          "2045-02-28T00:00:00",
          "2045-08-31T00:00:00",
          "2046-02-28T00:00:00",
          "2046-08-31T00:00:00",
          "2047-02-28T00:00:00",
          "2047-08-31T00:00:00",
          "2048-02-29T00:00:00",
          "2048-08-31T00:00:00",
          "2049-02-28T00:00:00",
          "2049-08-31T00:00:00",
          "2050-02-28T00:00:00",
          "2050-08-31T00:00:00",
          "2051-02-28T00:00:00",
          "2051-08-31T00:00:00",
          "2052-02-29T00:00:00",
          "2052-08-31T00:00:00",
          "2053-02-28T00:00:00",
          "2053-08-31T00:00:00",
          "2054-02-28T00:00:00",
          "2054-08-31T00:00:00",
          "2055-02-28T00:00:00",
          "2055-08-31T00:00:00",
          "2056-02-29T00:00:00",
          "2056-08-31T00:00:00",
          "2057-02-28T00:00:00",
          "2057-08-31T00:00:00",
          "2058-02-28T00:00:00",
          "2058-08-31T00:00:00",
          "2059-02-28T00:00:00",
          "2059-08-31T00:00:00",
          "2060-02-29T00:00:00",
          "2060-08-31T00:00:00",
          "2061-02-28T00:00:00",
          "2061-08-31T00:00:00",
          "2062-02-28T00:00:00",
          "2062-08-31T00:00:00",
          "2063-02-28T00:00:00",
          "2063-08-31T00:00:00",
          "2064-02-29T00:00:00",
          "2064-08-31T00:00:00",
          "2065-02-28T00:00:00",
          "2065-08-31T00:00:00",
          "2066-02-28T00:00:00",
          "2066-08-31T00:00:00",
          "2067-02-28T00:00:00",
          "2067-08-31T00:00:00",
          "2068-02-29T00:00:00",
          "2068-08-31T00:00:00",
          "2069-02-28T00:00:00",
          "2069-08-31T00:00:00",
          "2070-02-28T00:00:00",
          "2070-08-31T00:00:00",
          "2071-02-28T00:00:00",
          "2071-08-31T00:00:00",
          "2072-02-29T00:00:00",
          "2072-08-31T00:00:00"
         ],
         "xaxis": "x",
         "y": [
          1.957907409875519,
          1.99298797977367,
          2.0273862031284136,
          2.061176043358164,
          2.0944080417554463,
          2.1271193480998463,
          2.159338856377186,
          2.1910899744641337,
          2.22239224932278,
          2.2532623884769367,
          2.2837149377748522,
          2.313762750969171,
          2.343417326706887,
          2.3726890575118023,
          2.401587418301822,
          2.4301211121336737,
          2.4582981849245247,
          2.486126117179843,
          2.513611898352892,
          2.540762087864144,
          2.567582865721501,
          2.594080074925647,
          2.6202592573081667,
          2.6461256840626524,
          2.6716843819449347,
          2.696940155907265,
          2.721897608772024,
          2.7465611584290985,
          2.7709350529474044,
          2.795023383918128,
          2.818830098289888,
          2.842359008910559,
          2.8656138039541386,
          2.8885980553817445,
          2.9113152265620763,
          2.933768679157267,
          2.9559616793641137,
          2.977897403587491,
          2.9995789436118048,
          3.0210093113271994,
          3.0421914430595423,
          3.063128203546739,
          3.083822389598442,
          3.104276733471552,
          3.124493905989916,
          3.14447651943322,
          3.164227130217119,
          3.183748241384121,
          3.203042304922531,
          3.222111723928862,
          3.2409588546274324,
          3.2595860082594434,
          3.2779954528525233,
          3.2961894148806183,
          3.314170080823125,
          3.3319395986312736,
          3.349500079109002,
          3.366853597214886,
          3.3840021932910567,
          3.4009478742245185,
          3.4176926145457713,
          3.434238357469228,
          3.4505870158795076,
          3.466740473267346,
          3.482700584618557,
          3.49846917725917,
          3.514048051659641,
          3.5294389822007775,
          3.544643717903835,
          3.559663983127014,
          3.5745014782304607,
          3.5891578802116655,
          3.6036348433130643,
          3.617933999603464,
          3.6320569595348298,
          3.646005312475856,
          3.659780627223625,
          3.6733844524945876,
          3.686818317396006,
          3.7000837318789133,
          3.713182187173592,
          3.7261151562084933,
          3.738884094013457,
          3.7514904381080534,
          3.7639356088757916,
          3.7762210099249156,
          3.78834802843645,
          3.800318035500112,
          3.8121323864386936,
          3.8237924211214493,
          3.83529946426702,
          3.84665482573637,
          3.8578598008162115,
          3.868915670493332,
          3.879823701720254,
          3.8905851476725957,
          3.9012012479985065,
          3.9116732290605176,
          3.922002304170139,
          3.932189673815502
         ],
         "yaxis": "y"
        },
        {
         "hovertemplate": "index=%{x}<br>mean_ci_upper=%{y}<extra></extra>",
         "legendgroup": "",
         "line": {
          "color": "purple",
          "dash": "solid"
         },
         "marker": {
          "symbol": "circle"
         },
         "mode": "lines",
         "name": "",
         "orientation": "v",
         "showlegend": false,
         "type": "scatter",
         "x": [
          "2023-02-28T00:00:00",
          "2023-08-31T00:00:00",
          "2024-02-29T00:00:00",
          "2024-08-31T00:00:00",
          "2025-02-28T00:00:00",
          "2025-08-31T00:00:00",
          "2026-02-28T00:00:00",
          "2026-08-31T00:00:00",
          "2027-02-28T00:00:00",
          "2027-08-31T00:00:00",
          "2028-02-29T00:00:00",
          "2028-08-31T00:00:00",
          "2029-02-28T00:00:00",
          "2029-08-31T00:00:00",
          "2030-02-28T00:00:00",
          "2030-08-31T00:00:00",
          "2031-02-28T00:00:00",
          "2031-08-31T00:00:00",
          "2032-02-29T00:00:00",
          "2032-08-31T00:00:00",
          "2033-02-28T00:00:00",
          "2033-08-31T00:00:00",
          "2034-02-28T00:00:00",
          "2034-08-31T00:00:00",
          "2035-02-28T00:00:00",
          "2035-08-31T00:00:00",
          "2036-02-29T00:00:00",
          "2036-08-31T00:00:00",
          "2037-02-28T00:00:00",
          "2037-08-31T00:00:00",
          "2038-02-28T00:00:00",
          "2038-08-31T00:00:00",
          "2039-02-28T00:00:00",
          "2039-08-31T00:00:00",
          "2040-02-29T00:00:00",
          "2040-08-31T00:00:00",
          "2041-02-28T00:00:00",
          "2041-08-31T00:00:00",
          "2042-02-28T00:00:00",
          "2042-08-31T00:00:00",
          "2043-02-28T00:00:00",
          "2043-08-31T00:00:00",
          "2044-02-29T00:00:00",
          "2044-08-31T00:00:00",
          "2045-02-28T00:00:00",
          "2045-08-31T00:00:00",
          "2046-02-28T00:00:00",
          "2046-08-31T00:00:00",
          "2047-02-28T00:00:00",
          "2047-08-31T00:00:00",
          "2048-02-29T00:00:00",
          "2048-08-31T00:00:00",
          "2049-02-28T00:00:00",
          "2049-08-31T00:00:00",
          "2050-02-28T00:00:00",
          "2050-08-31T00:00:00",
          "2051-02-28T00:00:00",
          "2051-08-31T00:00:00",
          "2052-02-29T00:00:00",
          "2052-08-31T00:00:00",
          "2053-02-28T00:00:00",
          "2053-08-31T00:00:00",
          "2054-02-28T00:00:00",
          "2054-08-31T00:00:00",
          "2055-02-28T00:00:00",
          "2055-08-31T00:00:00",
          "2056-02-29T00:00:00",
          "2056-08-31T00:00:00",
          "2057-02-28T00:00:00",
          "2057-08-31T00:00:00",
          "2058-02-28T00:00:00",
          "2058-08-31T00:00:00",
          "2059-02-28T00:00:00",
          "2059-08-31T00:00:00",
          "2060-02-29T00:00:00",
          "2060-08-31T00:00:00",
          "2061-02-28T00:00:00",
          "2061-08-31T00:00:00",
          "2062-02-28T00:00:00",
          "2062-08-31T00:00:00",
          "2063-02-28T00:00:00",
          "2063-08-31T00:00:00",
          "2064-02-29T00:00:00",
          "2064-08-31T00:00:00",
          "2065-02-28T00:00:00",
          "2065-08-31T00:00:00",
          "2066-02-28T00:00:00",
          "2066-08-31T00:00:00",
          "2067-02-28T00:00:00",
          "2067-08-31T00:00:00",
          "2068-02-29T00:00:00",
          "2068-08-31T00:00:00",
          "2069-02-28T00:00:00",
          "2069-08-31T00:00:00",
          "2070-02-28T00:00:00",
          "2070-08-31T00:00:00",
          "2071-02-28T00:00:00",
          "2071-08-31T00:00:00",
          "2072-02-29T00:00:00",
          "2072-08-31T00:00:00"
         ],
         "xaxis": "x",
         "y": [
          1.9614557744064132,
          2.000904103681829,
          2.0406030103413784,
          2.0804810323400593,
          2.120490115267524,
          2.160595581819079,
          2.200770996159977,
          2.240995394323788,
          2.281251659100325,
          2.3215254986413707,
          2.361804768779507,
          2.402079003529235,
          2.4423390781776266,
          2.4825769603820036,
          2.52278552173232,
          2.5629583920856565,
          2.603089844923356,
          2.643174705701461,
          2.6832082775690655,
          2.7231862804262934,
          2.7631048003810235,
          2.802960247420037,
          2.8427493196469564,
          2.882468972826752,
          2.922116394260691,
          2.961688980226896,
          3.0011843163809466,
          3.040600160632381,
          3.0799344281066228,
          3.1191851778747655,
          3.1583506011910143,
          3.1974290110230412,
          3.2364188326968835,
          3.2753185955072928,
          3.314126925168208,
          3.3528425369974286,
          3.3914642297454964,
          3.4299908799919923,
          3.4684214370433852,
          3.5067549182757305,
          3.544990404873189,
          3.583127037919818,
          3.621164014807575,
          3.659100585928138,
          3.6969360516201366,
          3.7346697593468035,
          3.7723011010819985,
          3.809829510885102,
          3.8472544626474607,
          3.8845754679949933,
          3.921792074333227,
          3.9589038630224858,
          3.9959104476722356,
          4.032811472544713,
          4.069606611058949,
          4.106295564387164,
          4.142878060136326,
          4.179353851108276,
          4.215722714132513,
          4.251984448966221,
          4.288138877256637,
          4.324185841561264,
          4.360125204421868,
          4.395956847488497,
          4.4316806706901115,
          4.467296591448686,
          4.502804543933902,
          4.538204478355774,
          4.573496360292781,
          4.60868017005324,
          4.643755902067864,
          4.6787235643115626,
          4.713583177752736,
          4.748334775828392,
          4.782978403943583,
          4.81751411899374,
          4.851941988908581,
          4.886262092216386,
          4.920474517627494,
          4.954579363635944,
          4.988576738138304,
          5.0224667580687345,
          5.056249549049435,
          5.089925245055664,
          5.123493988094583,
          5.156955927897201,
          5.190311221622769,
          5.223560033575001,
          5.256702534929521,
          5.289738903472007,
          5.322669323346508,
          5.355493984813434,
          5.388213084016778,
          5.420826822760129,
          5.453335408291082,
          5.485739053093628,
          5.518037974688208,
          5.550232395439047,
          5.582322542368466,
          5.614308646977861
         ],
         "yaxis": "y"
        }
       ],
       "layout": {
        "showlegend": true,
        "template": {
         "data": {
          "bar": [
           {
            "error_x": {
             "color": "#2a3f5f"
            },
            "error_y": {
             "color": "#2a3f5f"
            },
            "marker": {
             "line": {
              "color": "#E5ECF6",
              "width": 0.5
             },
             "pattern": {
              "fillmode": "overlay",
              "size": 10,
              "solidity": 0.2
             }
            },
            "type": "bar"
           }
          ],
          "barpolar": [
           {
            "marker": {
             "line": {
              "color": "#E5ECF6",
              "width": 0.5
             },
             "pattern": {
              "fillmode": "overlay",
              "size": 10,
              "solidity": 0.2
             }
            },
            "type": "barpolar"
           }
          ],
          "carpet": [
           {
            "aaxis": {
             "endlinecolor": "#2a3f5f",
             "gridcolor": "white",
             "linecolor": "white",
             "minorgridcolor": "white",
             "startlinecolor": "#2a3f5f"
            },
            "baxis": {
             "endlinecolor": "#2a3f5f",
             "gridcolor": "white",
             "linecolor": "white",
             "minorgridcolor": "white",
             "startlinecolor": "#2a3f5f"
            },
            "type": "carpet"
           }
          ],
          "choropleth": [
           {
            "colorbar": {
             "outlinewidth": 0,
             "ticks": ""
            },
            "type": "choropleth"
           }
          ],
          "contour": [
           {
            "colorbar": {
             "outlinewidth": 0,
             "ticks": ""
            },
            "colorscale": [
             [
              0,
              "#0d0887"
             ],
             [
              0.1111111111111111,
              "#46039f"
             ],
             [
              0.2222222222222222,
              "#7201a8"
             ],
             [
              0.3333333333333333,
              "#9c179e"
             ],
             [
              0.4444444444444444,
              "#bd3786"
             ],
             [
              0.5555555555555556,
              "#d8576b"
             ],
             [
              0.6666666666666666,
              "#ed7953"
             ],
             [
              0.7777777777777778,
              "#fb9f3a"
             ],
             [
              0.8888888888888888,
              "#fdca26"
             ],
             [
              1,
              "#f0f921"
             ]
            ],
            "type": "contour"
           }
          ],
          "contourcarpet": [
           {
            "colorbar": {
             "outlinewidth": 0,
             "ticks": ""
            },
            "type": "contourcarpet"
           }
          ],
          "heatmap": [
           {
            "colorbar": {
             "outlinewidth": 0,
             "ticks": ""
            },
            "colorscale": [
             [
              0,
              "#0d0887"
             ],
             [
              0.1111111111111111,
              "#46039f"
             ],
             [
              0.2222222222222222,
              "#7201a8"
             ],
             [
              0.3333333333333333,
              "#9c179e"
             ],
             [
              0.4444444444444444,
              "#bd3786"
             ],
             [
              0.5555555555555556,
              "#d8576b"
             ],
             [
              0.6666666666666666,
              "#ed7953"
             ],
             [
              0.7777777777777778,
              "#fb9f3a"
             ],
             [
              0.8888888888888888,
              "#fdca26"
             ],
             [
              1,
              "#f0f921"
             ]
            ],
            "type": "heatmap"
           }
          ],
          "heatmapgl": [
           {
            "colorbar": {
             "outlinewidth": 0,
             "ticks": ""
            },
            "colorscale": [
             [
              0,
              "#0d0887"
             ],
             [
              0.1111111111111111,
              "#46039f"
             ],
             [
              0.2222222222222222,
              "#7201a8"
             ],
             [
              0.3333333333333333,
              "#9c179e"
             ],
             [
              0.4444444444444444,
              "#bd3786"
             ],
             [
              0.5555555555555556,
              "#d8576b"
             ],
             [
              0.6666666666666666,
              "#ed7953"
             ],
             [
              0.7777777777777778,
              "#fb9f3a"
             ],
             [
              0.8888888888888888,
              "#fdca26"
             ],
             [
              1,
              "#f0f921"
             ]
            ],
            "type": "heatmapgl"
           }
          ],
          "histogram": [
           {
            "marker": {
             "pattern": {
              "fillmode": "overlay",
              "size": 10,
              "solidity": 0.2
             }
            },
            "type": "histogram"
           }
          ],
          "histogram2d": [
           {
            "colorbar": {
             "outlinewidth": 0,
             "ticks": ""
            },
            "colorscale": [
             [
              0,
              "#0d0887"
             ],
             [
              0.1111111111111111,
              "#46039f"
             ],
             [
              0.2222222222222222,
              "#7201a8"
             ],
             [
              0.3333333333333333,
              "#9c179e"
             ],
             [
              0.4444444444444444,
              "#bd3786"
             ],
             [
              0.5555555555555556,
              "#d8576b"
             ],
             [
              0.6666666666666666,
              "#ed7953"
             ],
             [
              0.7777777777777778,
              "#fb9f3a"
             ],
             [
              0.8888888888888888,
              "#fdca26"
             ],
             [
              1,
              "#f0f921"
             ]
            ],
            "type": "histogram2d"
           }
          ],
          "histogram2dcontour": [
           {
            "colorbar": {
             "outlinewidth": 0,
             "ticks": ""
            },
            "colorscale": [
             [
              0,
              "#0d0887"
             ],
             [
              0.1111111111111111,
              "#46039f"
             ],
             [
              0.2222222222222222,
              "#7201a8"
             ],
             [
              0.3333333333333333,
              "#9c179e"
             ],
             [
              0.4444444444444444,
              "#bd3786"
             ],
             [
              0.5555555555555556,
              "#d8576b"
             ],
             [
              0.6666666666666666,
              "#ed7953"
             ],
             [
              0.7777777777777778,
              "#fb9f3a"
             ],
             [
              0.8888888888888888,
              "#fdca26"
             ],
             [
              1,
              "#f0f921"
             ]
            ],
            "type": "histogram2dcontour"
           }
          ],
          "mesh3d": [
           {
            "colorbar": {
             "outlinewidth": 0,
             "ticks": ""
            },
            "type": "mesh3d"
           }
          ],
          "parcoords": [
           {
            "line": {
             "colorbar": {
              "outlinewidth": 0,
              "ticks": ""
             }
            },
            "type": "parcoords"
           }
          ],
          "pie": [
           {
            "automargin": true,
            "type": "pie"
           }
          ],
          "scatter": [
           {
            "fillpattern": {
             "fillmode": "overlay",
             "size": 10,
             "solidity": 0.2
            },
            "type": "scatter"
           }
          ],
          "scatter3d": [
           {
            "line": {
             "colorbar": {
              "outlinewidth": 0,
              "ticks": ""
             }
            },
            "marker": {
             "colorbar": {
              "outlinewidth": 0,
              "ticks": ""
             }
            },
            "type": "scatter3d"
           }
          ],
          "scattercarpet": [
           {
            "marker": {
             "colorbar": {
              "outlinewidth": 0,
              "ticks": ""
             }
            },
            "type": "scattercarpet"
           }
          ],
          "scattergeo": [
           {
            "marker": {
             "colorbar": {
              "outlinewidth": 0,
              "ticks": ""
             }
            },
            "type": "scattergeo"
           }
          ],
          "scattergl": [
           {
            "marker": {
             "colorbar": {
              "outlinewidth": 0,
              "ticks": ""
             }
            },
            "type": "scattergl"
           }
          ],
          "scattermapbox": [
           {
            "marker": {
             "colorbar": {
              "outlinewidth": 0,
              "ticks": ""
             }
            },
            "type": "scattermapbox"
           }
          ],
          "scatterpolar": [
           {
            "marker": {
             "colorbar": {
              "outlinewidth": 0,
              "ticks": ""
             }
            },
            "type": "scatterpolar"
           }
          ],
          "scatterpolargl": [
           {
            "marker": {
             "colorbar": {
              "outlinewidth": 0,
              "ticks": ""
             }
            },
            "type": "scatterpolargl"
           }
          ],
          "scatterternary": [
           {
            "marker": {
             "colorbar": {
              "outlinewidth": 0,
              "ticks": ""
             }
            },
            "type": "scatterternary"
           }
          ],
          "surface": [
           {
            "colorbar": {
             "outlinewidth": 0,
             "ticks": ""
            },
            "colorscale": [
             [
              0,
              "#0d0887"
             ],
             [
              0.1111111111111111,
              "#46039f"
             ],
             [
              0.2222222222222222,
              "#7201a8"
             ],
             [
              0.3333333333333333,
              "#9c179e"
             ],
             [
              0.4444444444444444,
              "#bd3786"
             ],
             [
              0.5555555555555556,
              "#d8576b"
             ],
             [
              0.6666666666666666,
              "#ed7953"
             ],
             [
              0.7777777777777778,
              "#fb9f3a"
             ],
             [
              0.8888888888888888,
              "#fdca26"
             ],
             [
              1,
              "#f0f921"
             ]
            ],
            "type": "surface"
           }
          ],
          "table": [
           {
            "cells": {
             "fill": {
              "color": "#EBF0F8"
             },
             "line": {
              "color": "white"
             }
            },
            "header": {
             "fill": {
              "color": "#C8D4E3"
             },
             "line": {
              "color": "white"
             }
            },
            "type": "table"
           }
          ]
         },
         "layout": {
          "annotationdefaults": {
           "arrowcolor": "#2a3f5f",
           "arrowhead": 0,
           "arrowwidth": 1
          },
          "autotypenumbers": "strict",
          "coloraxis": {
           "colorbar": {
            "outlinewidth": 0,
            "ticks": ""
           }
          },
          "colorscale": {
           "diverging": [
            [
             0,
             "#8e0152"
            ],
            [
             0.1,
             "#c51b7d"
            ],
            [
             0.2,
             "#de77ae"
            ],
            [
             0.3,
             "#f1b6da"
            ],
            [
             0.4,
             "#fde0ef"
            ],
            [
             0.5,
             "#f7f7f7"
            ],
            [
             0.6,
             "#e6f5d0"
            ],
            [
             0.7,
             "#b8e186"
            ],
            [
             0.8,
             "#7fbc41"
            ],
            [
             0.9,
             "#4d9221"
            ],
            [
             1,
             "#276419"
            ]
           ],
           "sequential": [
            [
             0,
             "#0d0887"
            ],
            [
             0.1111111111111111,
             "#46039f"
            ],
            [
             0.2222222222222222,
             "#7201a8"
            ],
            [
             0.3333333333333333,
             "#9c179e"
            ],
            [
             0.4444444444444444,
             "#bd3786"
            ],
            [
             0.5555555555555556,
             "#d8576b"
            ],
            [
             0.6666666666666666,
             "#ed7953"
            ],
            [
             0.7777777777777778,
             "#fb9f3a"
            ],
            [
             0.8888888888888888,
             "#fdca26"
            ],
            [
             1,
             "#f0f921"
            ]
           ],
           "sequentialminus": [
            [
             0,
             "#0d0887"
            ],
            [
             0.1111111111111111,
             "#46039f"
            ],
            [
             0.2222222222222222,
             "#7201a8"
            ],
            [
             0.3333333333333333,
             "#9c179e"
            ],
            [
             0.4444444444444444,
             "#bd3786"
            ],
            [
             0.5555555555555556,
             "#d8576b"
            ],
            [
             0.6666666666666666,
             "#ed7953"
            ],
            [
             0.7777777777777778,
             "#fb9f3a"
            ],
            [
             0.8888888888888888,
             "#fdca26"
            ],
            [
             1,
             "#f0f921"
            ]
           ]
          },
          "colorway": [
           "#636efa",
           "#EF553B",
           "#00cc96",
           "#ab63fa",
           "#FFA15A",
           "#19d3f3",
           "#FF6692",
           "#B6E880",
           "#FF97FF",
           "#FECB52"
          ],
          "font": {
           "color": "#2a3f5f"
          },
          "geo": {
           "bgcolor": "white",
           "lakecolor": "white",
           "landcolor": "#E5ECF6",
           "showlakes": true,
           "showland": true,
           "subunitcolor": "white"
          },
          "hoverlabel": {
           "align": "left"
          },
          "hovermode": "closest",
          "mapbox": {
           "style": "light"
          },
          "paper_bgcolor": "white",
          "plot_bgcolor": "#E5ECF6",
          "polar": {
           "angularaxis": {
            "gridcolor": "white",
            "linecolor": "white",
            "ticks": ""
           },
           "bgcolor": "#E5ECF6",
           "radialaxis": {
            "gridcolor": "white",
            "linecolor": "white",
            "ticks": ""
           }
          },
          "scene": {
           "xaxis": {
            "backgroundcolor": "#E5ECF6",
            "gridcolor": "white",
            "gridwidth": 2,
            "linecolor": "white",
            "showbackground": true,
            "ticks": "",
            "zerolinecolor": "white"
           },
           "yaxis": {
            "backgroundcolor": "#E5ECF6",
            "gridcolor": "white",
            "gridwidth": 2,
            "linecolor": "white",
            "showbackground": true,
            "ticks": "",
            "zerolinecolor": "white"
           },
           "zaxis": {
            "backgroundcolor": "#E5ECF6",
            "gridcolor": "white",
            "gridwidth": 2,
            "linecolor": "white",
            "showbackground": true,
            "ticks": "",
            "zerolinecolor": "white"
           }
          },
          "shapedefaults": {
           "line": {
            "color": "#2a3f5f"
           }
          },
          "ternary": {
           "aaxis": {
            "gridcolor": "white",
            "linecolor": "white",
            "ticks": ""
           },
           "baxis": {
            "gridcolor": "white",
            "linecolor": "white",
            "ticks": ""
           },
           "bgcolor": "#E5ECF6",
           "caxis": {
            "gridcolor": "white",
            "linecolor": "white",
            "ticks": ""
           }
          },
          "title": {
           "x": 0.05
          },
          "xaxis": {
           "automargin": true,
           "gridcolor": "white",
           "linecolor": "white",
           "ticks": "",
           "title": {
            "standoff": 15
           },
           "zerolinecolor": "white",
           "zerolinewidth": 2
          },
          "yaxis": {
           "automargin": true,
           "gridcolor": "white",
           "linecolor": "white",
           "ticks": "",
           "title": {
            "standoff": 15
           },
           "zerolinecolor": "white",
           "zerolinewidth": 2
          }
         }
        },
        "title": {
         "text": "Indexation forecast"
        },
        "xaxis": {
         "anchor": "y",
         "domain": [
          0,
          1
         ]
        },
        "yaxis": {
         "anchor": "x",
         "domain": [
          0,
          1
         ]
        }
       }
      }
     },
     "metadata": {},
     "output_type": "display_data"
    }
   ],
   "source": [
    "\n",
    "\n",
    "# plot forecast\n",
    "fig = make_subplots(rows=1, cols=1)\n",
    "fig.add_trace(px.line(df, x='valid_since', y='index', title='Indexation').data[0], row=1, col=1)\n",
    "fig.add_trace(px.line(df, x='valid_since', y=arima_model_fit.fittedvalues, title='Indexation').data[0], row=1, col=1)\n",
    "fig.add_trace(px.line(forecast_df, x=forecast_df.index, y='mean', title='Indexation').data[0], row=1, col=1)\n",
    "fig.add_trace(px.line(forecast_df, x=forecast_df.index, y='mean_ci_lower', title='Indexation').data[0], row=1, col=1)\n",
    "fig.add_trace(px.line(forecast_df, x=forecast_df.index, y='mean_ci_upper', title='Indexation').data[0], row=1, col=1)\n",
    "\n",
    "# change color of trace\n",
    "# change color of trace \n",
    "fig.data[1].line.color = 'red'\n",
    "# add name \n",
    "fig.data[1].name = 'ARIMA model fit'\n",
    "# dashed line\n",
    "fig.data[1].line.dash = 'dash'\n",
    "\n",
    "# change color of trace\n",
    "fig.data[2].line.color = 'green'\n",
    "fig.data[3].line.color = 'grey'\n",
    "fig.data[4].line.color = 'purple'\n",
    "\n",
    "# add legend\n",
    "fig.update_layout(showlegend=True, title='Indexation forecast')\n",
    "\n",
    "fig.show()\n",
    "\n"
   ]
  },
  {
   "cell_type": "code",
   "execution_count": 83,
   "metadata": {},
   "outputs": [
    {
     "data": {
      "text/html": [
       "<div>\n",
       "<style scoped>\n",
       "    .dataframe tbody tr th:only-of-type {\n",
       "        vertical-align: middle;\n",
       "    }\n",
       "\n",
       "    .dataframe tbody tr th {\n",
       "        vertical-align: top;\n",
       "    }\n",
       "\n",
       "    .dataframe thead th {\n",
       "        text-align: right;\n",
       "    }\n",
       "</style>\n",
       "<table border=\"1\" class=\"dataframe\">\n",
       "  <thead>\n",
       "    <tr style=\"text-align: right;\">\n",
       "      <th>index</th>\n",
       "      <th>mean</th>\n",
       "      <th>mean_se</th>\n",
       "      <th>mean_ci_lower</th>\n",
       "      <th>mean_ci_upper</th>\n",
       "    </tr>\n",
       "  </thead>\n",
       "  <tbody>\n",
       "    <tr>\n",
       "      <th>2023-02-28</th>\n",
       "      <td>1.959682</td>\n",
       "      <td>0.000905</td>\n",
       "      <td>1.957907</td>\n",
       "      <td>1.961456</td>\n",
       "    </tr>\n",
       "    <tr>\n",
       "      <th>2023-08-31</th>\n",
       "      <td>1.996946</td>\n",
       "      <td>0.002019</td>\n",
       "      <td>1.992988</td>\n",
       "      <td>2.000904</td>\n",
       "    </tr>\n",
       "    <tr>\n",
       "      <th>2024-02-29</th>\n",
       "      <td>2.033995</td>\n",
       "      <td>0.003372</td>\n",
       "      <td>2.027386</td>\n",
       "      <td>2.040603</td>\n",
       "    </tr>\n",
       "    <tr>\n",
       "      <th>2024-08-31</th>\n",
       "      <td>2.070829</td>\n",
       "      <td>0.004925</td>\n",
       "      <td>2.061176</td>\n",
       "      <td>2.080481</td>\n",
       "    </tr>\n",
       "    <tr>\n",
       "      <th>2025-02-28</th>\n",
       "      <td>2.107449</td>\n",
       "      <td>0.006654</td>\n",
       "      <td>2.094408</td>\n",
       "      <td>2.120490</td>\n",
       "    </tr>\n",
       "    <tr>\n",
       "      <th>...</th>\n",
       "      <td>...</td>\n",
       "      <td>...</td>\n",
       "      <td>...</td>\n",
       "      <td>...</td>\n",
       "    </tr>\n",
       "    <tr>\n",
       "      <th>2070-08-31</th>\n",
       "      <td>4.688162</td>\n",
       "      <td>0.406934</td>\n",
       "      <td>3.890585</td>\n",
       "      <td>5.485739</td>\n",
       "    </tr>\n",
       "    <tr>\n",
       "      <th>2071-02-28</th>\n",
       "      <td>4.709620</td>\n",
       "      <td>0.412466</td>\n",
       "      <td>3.901201</td>\n",
       "      <td>5.518038</td>\n",
       "    </tr>\n",
       "    <tr>\n",
       "      <th>2071-08-31</th>\n",
       "      <td>4.730953</td>\n",
       "      <td>0.418007</td>\n",
       "      <td>3.911673</td>\n",
       "      <td>5.550232</td>\n",
       "    </tr>\n",
       "    <tr>\n",
       "      <th>2072-02-29</th>\n",
       "      <td>4.752162</td>\n",
       "      <td>0.423559</td>\n",
       "      <td>3.922002</td>\n",
       "      <td>5.582323</td>\n",
       "    </tr>\n",
       "    <tr>\n",
       "      <th>2072-08-31</th>\n",
       "      <td>4.773249</td>\n",
       "      <td>0.429120</td>\n",
       "      <td>3.932190</td>\n",
       "      <td>5.614309</td>\n",
       "    </tr>\n",
       "  </tbody>\n",
       "</table>\n",
       "<p>100 rows × 4 columns</p>\n",
       "</div>"
      ],
      "text/plain": [
       "index           mean   mean_se  mean_ci_lower  mean_ci_upper\n",
       "2023-02-28  1.959682  0.000905       1.957907       1.961456\n",
       "2023-08-31  1.996946  0.002019       1.992988       2.000904\n",
       "2024-02-29  2.033995  0.003372       2.027386       2.040603\n",
       "2024-08-31  2.070829  0.004925       2.061176       2.080481\n",
       "2025-02-28  2.107449  0.006654       2.094408       2.120490\n",
       "...              ...       ...            ...            ...\n",
       "2070-08-31  4.688162  0.406934       3.890585       5.485739\n",
       "2071-02-28  4.709620  0.412466       3.901201       5.518038\n",
       "2071-08-31  4.730953  0.418007       3.911673       5.550232\n",
       "2072-02-29  4.752162  0.423559       3.922002       5.582323\n",
       "2072-08-31  4.773249  0.429120       3.932190       5.614309\n",
       "\n",
       "[100 rows x 4 columns]"
      ]
     },
     "execution_count": 83,
     "metadata": {},
     "output_type": "execute_result"
    }
   ],
   "source": [
    "# show data of prediction\n",
    "forecast_df\n",
    "\n",
    "\n",
    "\n"
   ]
  },
  {
   "cell_type": "code",
   "execution_count": 84,
   "metadata": {},
   "outputs": [],
   "source": [
    "# add column to df\n",
    "df['coefficient'] = 1\n",
    "\n",
    "# drop rank\n",
    "df = df.drop(columns=['rank'])\n",
    "df = df.drop(columns=['valid_since'])\n",
    "\n",
    "forecast_to_combine_df = forecast_df.copy()\n",
    "\n",
    "# add coefficient to forecast based on the prediction of arima\n",
    "forecast_to_combine_df['coefficient'] = forecast_to_combine_df['mean'] / forecast_to_combine_df['mean'].iloc[0]\n",
    "\n",
    "forecast_to_combine_df['coefficient'] = round(1 / forecast_to_combine_df['coefficient'], 2)\n",
    "\n",
    "forecast_to_combine_df['index'] = round(forecast_to_combine_df['mean'], 4)\n",
    "forecast_to_combine_df = forecast_to_combine_df.drop(columns=['mean', 'mean_se', 'mean_ci_lower', 'mean_ci_upper'])\n",
    "\n",
    "# combine data of prediction with original data\n",
    "df = pd.concat([df, forecast_to_combine_df], axis=0)\n",
    "df\n",
    "\n",
    "# name to index\n",
    "df.index.name = 'valid_since'\n",
    "\n",
    "df.to_csv('./index_df_with_prediction.csv')\n"
   ]
  }
 ],
 "metadata": {
  "kernelspec": {
   "display_name": "Python 3.10.6 64-bit",
   "language": "python",
   "name": "python3"
  },
  "language_info": {
   "codemirror_mode": {
    "name": "ipython",
    "version": 3
   },
   "file_extension": ".py",
   "mimetype": "text/x-python",
   "name": "python",
   "nbconvert_exporter": "python",
   "pygments_lexer": "ipython3",
   "version": "3.10.6"
  },
  "orig_nbformat": 4,
  "vscode": {
   "interpreter": {
    "hash": "b0fa6594d8f4cbf19f97940f81e996739fb7646882a419484c72d19e05852a7e"
   }
  }
 },
 "nbformat": 4,
 "nbformat_minor": 2
}
