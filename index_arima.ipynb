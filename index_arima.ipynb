{
 "cells": [
  {
   "cell_type": "markdown",
   "metadata": {},
   "source": [
    "# Prediction of index using ARIMA\n",
    "\n",
    "This notebook shows how to use ARIMA to predict the index of a time series.\n",
    "\n",
    "Author: Martin Erpicum\n",
    "\n",
    "\n",
    "## Importing the libraries"
   ]
  },
  {
   "cell_type": "code",
   "execution_count": 307,
   "metadata": {},
   "outputs": [
    {
     "name": "stdout",
     "output_type": "stream",
     "text": [
      "Requirement already satisfied: statsmodels in /opt/homebrew/lib/python3.10/site-packages (0.13.2)\n",
      "Requirement already satisfied: packaging>=21.3 in /opt/homebrew/lib/python3.10/site-packages (from statsmodels) (21.3)\n",
      "Requirement already satisfied: scipy>=1.3 in /opt/homebrew/lib/python3.10/site-packages (from statsmodels) (1.9.2)\n",
      "Requirement already satisfied: patsy>=0.5.2 in /opt/homebrew/lib/python3.10/site-packages (from statsmodels) (0.5.3)\n",
      "Requirement already satisfied: numpy>=1.17 in /opt/homebrew/lib/python3.10/site-packages (from statsmodels) (1.23.2)\n",
      "Requirement already satisfied: pandas>=0.25 in /opt/homebrew/lib/python3.10/site-packages (from statsmodels) (1.4.3)\n",
      "Requirement already satisfied: pyparsing!=3.0.5,>=2.0.2 in /opt/homebrew/lib/python3.10/site-packages (from packaging>=21.3->statsmodels) (3.0.9)\n",
      "Requirement already satisfied: pytz>=2020.1 in /opt/homebrew/lib/python3.10/site-packages (from pandas>=0.25->statsmodels) (2022.2.1)\n",
      "Requirement already satisfied: python-dateutil>=2.8.1 in /opt/homebrew/lib/python3.10/site-packages (from pandas>=0.25->statsmodels) (2.8.2)\n",
      "Requirement already satisfied: six in /opt/homebrew/lib/python3.10/site-packages (from patsy>=0.5.2->statsmodels) (1.16.0)\n"
     ]
    }
   ],
   "source": [
    "!pip3 install statsmodels\n",
    "import pandas as pd\n",
    "import plotly.express as px\n",
    "from plotly.subplots import make_subplots\n",
    "from statsmodels.tsa.arima.model import ARIMA\n",
    "import matplotlib.pyplot as plt\n",
    "import datetime as dt"
   ]
  },
  {
   "cell_type": "code",
   "execution_count": 308,
   "metadata": {},
   "outputs": [],
   "source": [
    "\n",
    "df = pd.read_csv('./index_df.csv', sep=';')\n",
    "\n",
    "df['valid_since'] = pd.to_datetime(df['valid_since'], format='%d/%m/%Y')\n",
    "df.index = df['valid_since']\n",
    "df['index'] = df['index'].str.replace(',', '.').astype(float)\n",
    "df.head()\n",
    "\n",
    "# split train and test\n",
    "train = df.iloc[:-12]\n",
    "test = df.iloc[-12:]"
   ]
  },
  {
   "cell_type": "code",
   "execution_count": 309,
   "metadata": {},
   "outputs": [
    {
     "name": "stdout",
     "output_type": "stream",
     "text": [
      "                               SARIMAX Results                                \n",
      "==============================================================================\n",
      "Dep. Variable:                  index   No. Observations:                   34\n",
      "Model:                 ARIMA(1, 1, 1)   Log Likelihood                 122.533\n",
      "Date:                Tue, 11 Oct 2022   AIC                           -239.066\n",
      "Time:                        13:48:59   BIC                           -234.577\n",
      "Sample:                             0   HQIC                          -237.556\n",
      "                                 - 34                                         \n",
      "Covariance Type:                  opg                                         \n",
      "==============================================================================\n",
      "                 coef    std err          z      P>|z|      [0.025      0.975]\n",
      "------------------------------------------------------------------------------\n",
      "ar.L1          1.0000      0.000   3080.841      0.000       0.999       1.001\n",
      "ma.L1         -0.9783      0.089    -11.015      0.000      -1.152      -0.804\n",
      "sigma2          3e-05   1.68e-05      1.785      0.074   -2.95e-06     6.3e-05\n",
      "===================================================================================\n",
      "Ljung-Box (L1) (Q):                  26.70   Jarque-Bera (JB):                 2.53\n",
      "Prob(Q):                              0.00   Prob(JB):                         0.28\n",
      "Heteroskedasticity (H):               7.95   Skew:                             0.30\n",
      "Prob(H) (two-sided):                  0.00   Kurtosis:                         1.78\n",
      "===================================================================================\n",
      "\n",
      "Warnings:\n",
      "[1] Covariance matrix calculated using the outer product of gradients (complex-step).\n"
     ]
    },
    {
     "name": "stderr",
     "output_type": "stream",
     "text": [
      "/opt/homebrew/lib/python3.10/site-packages/statsmodels/tsa/base/tsa_model.py:471: ValueWarning:\n",
      "\n",
      "A date index has been provided, but it has no associated frequency information and so will be ignored when e.g. forecasting.\n",
      "\n",
      "/opt/homebrew/lib/python3.10/site-packages/statsmodels/tsa/base/tsa_model.py:471: ValueWarning:\n",
      "\n",
      "A date index has been provided, but it has no associated frequency information and so will be ignored when e.g. forecasting.\n",
      "\n",
      "/opt/homebrew/lib/python3.10/site-packages/statsmodels/tsa/base/tsa_model.py:471: ValueWarning:\n",
      "\n",
      "A date index has been provided, but it has no associated frequency information and so will be ignored when e.g. forecasting.\n",
      "\n",
      "/opt/homebrew/lib/python3.10/site-packages/statsmodels/tsa/statespace/sarimax.py:966: UserWarning:\n",
      "\n",
      "Non-stationary starting autoregressive parameters found. Using zeros as starting parameters.\n",
      "\n"
     ]
    }
   ],
   "source": [
    "arima_model = ARIMA(df['index'], order=(1, 1, 1))\n",
    "arima_model_fit = arima_model.fit()\n",
    "print(arima_model_fit.summary())"
   ]
  },
  {
   "cell_type": "code",
   "execution_count": 310,
   "metadata": {},
   "outputs": [
    {
     "data": {
      "image/png": "[encoded data removed]",
      "text/plain": [
       "<Figure size 640x480 with 4 Axes>"
      ]
     },
     "metadata": {},
     "output_type": "display_data"
    }
   ],
   "source": [
    "# plot arima model fit\n",
    "arima_model_fit.plot_diagnostics()\n",
    "plt.show()\n"
   ]
  },
  {
   "cell_type": "code",
   "execution_count": 311,
   "metadata": {},
   "outputs": [
    {
     "data": {
      "application/vnd.plotly.v1+json": {
       "config": {
        "plotlyServerURL": "https://plot.ly"
       },
       "data": [
        {
         "hovertemplate": "valid_since=%{x}<br>index=%{y}<extra></extra>",
         "legendgroup": "",
         "line": {
          "color": "#636efa",
          "dash": "solid"
         },
         "marker": {
          "symbol": "circle"
         },
         "mode": "lines",
         "name": "",
         "orientation": "v",
         "showlegend": false,
         "type": "scatter",
         "x": [
          "1990-01-01T00:00:00",
          "1990-02-01T00:00:00",
          "1990-10-01T00:00:00",
          "1991-03-01T00:00:00",
          "1991-12-01T00:00:00",
          "1992-10-01T00:00:00",
          "1993-07-01T00:00:00",
          "1994-11-01T00:00:00",
          "1996-05-01T00:00:00",
          "1997-10-01T00:00:00",
          "1999-06-01T00:00:00",
          "2000-09-01T00:00:00",
          "2001-07-01T00:00:00",
          "2002-03-01T00:00:00",
          "2003-07-01T00:00:00",
          "2004-11-01T00:00:00",
          "2005-09-01T00:00:00",
          "2006-11-01T00:00:00",
          "2008-02-01T00:00:00",
          "2008-06-01T00:00:00",
          "2008-10-01T00:00:00",
          "2010-10-01T00:00:00",
          "2011-06-01T00:00:00",
          "2012-03-01T00:00:00",
          "2013-01-01T00:00:00",
          "2016-07-01T00:00:00",
          "2017-07-01T00:00:00",
          "2018-10-01T00:00:00",
          "2020-04-01T00:00:00",
          "2021-10-01T00:00:00",
          "2022-02-01T00:00:00",
          "2022-04-01T00:00:00",
          "2022-06-01T00:00:00",
          "2022-09-01T00:00:00"
         ],
         "xaxis": "x",
         "y": [
          1,
          1.02,
          1.0404,
          1.0612,
          1.0824,
          1.1041,
          1.1262,
          1.1487,
          1.1717,
          1.1951,
          1.219,
          1.2434,
          1.2682,
          1.2936,
          1.3195,
          1.3459,
          1.3718,
          1.4002,
          1.4282,
          1.4568,
          1.4859,
          1.5157,
          1.546,
          1.5769,
          1.6084,
          1.6406,
          1.6734,
          1.7069,
          1.741,
          1.7758,
          1.8114,
          1.8476,
          1.8845,
          1.9222
         ],
         "yaxis": "y"
        },
        {
         "hovertemplate": "valid_since=%{x}<br>y=%{y}<extra></extra>",
         "legendgroup": "",
         "line": {
          "color": "red",
          "dash": "dash"
         },
         "marker": {
          "symbol": "circle"
         },
         "mode": "lines",
         "name": "ARIMA model fit",
         "orientation": "v",
         "showlegend": false,
         "type": "scatter",
         "x": [
          "1990-01-01T00:00:00",
          "1990-02-01T00:00:00",
          "1990-10-01T00:00:00",
          "1991-03-01T00:00:00",
          "1991-12-01T00:00:00",
          "1992-10-01T00:00:00",
          "1993-07-01T00:00:00",
          "1994-11-01T00:00:00",
          "1996-05-01T00:00:00",
          "1997-10-01T00:00:00",
          "1999-06-01T00:00:00",
          "2000-09-01T00:00:00",
          "2001-07-01T00:00:00",
          "2002-03-01T00:00:00",
          "2003-07-01T00:00:00",
          "2004-11-01T00:00:00",
          "2005-09-01T00:00:00",
          "2006-11-01T00:00:00",
          "2008-02-01T00:00:00",
          "2008-06-01T00:00:00",
          "2008-10-01T00:00:00",
          "2010-10-01T00:00:00",
          "2011-06-01T00:00:00",
          "2012-03-01T00:00:00",
          "2013-01-01T00:00:00",
          "2016-07-01T00:00:00",
          "2017-07-01T00:00:00",
          "2018-10-01T00:00:00",
          "2020-04-01T00:00:00",
          "2021-10-01T00:00:00",
          "2022-02-01T00:00:00",
          "2022-04-01T00:00:00",
          "2022-06-01T00:00:00",
          "2022-09-01T00:00:00"
         ],
         "xaxis": "x",
         "y": [
          0,
          1.000000000221211,
          1.0376565933289583,
          1.0593426806879946,
          1.0807354328178056,
          1.1023382706756226,
          1.1243818669833494,
          1.1467789987664703,
          1.1695493559618035,
          1.1928153669720956,
          1.2164675849502475,
          1.2406202562611688,
          1.265273459459443,
          1.2903188565526822,
          1.3159739877332544,
          1.3421297590067722,
          1.3687862486927715,
          1.3948792472082328,
          1.4236021147775884,
          1.4518669213711732,
          1.4807376226762754,
          1.510108327054188,
          1.540189313960304,
          1.5707697936705733,
          1.6019546915404514,
          1.6337436978792987,
          1.6662409065044064,
          1.6993414434228147,
          1.733149257103476,
          1.7675598762647096,
          1.8026771001782158,
          1.8386042983926811,
          1.8751334755168898,
          1.9123682498012176
         ],
         "yaxis": "y"
        }
       ],
       "layout": {
        "showlegend": true,
        "template": {
         "data": {
          "bar": [
           {
            "error_x": {
             "color": "#2a3f5f"
            },
            "error_y": {
             "color": "#2a3f5f"
            },
            "marker": {
             "line": {
              "color": "#E5ECF6",
              "width": 0.5
             },
             "pattern": {
              "fillmode": "overlay",
              "size": 10,
              "solidity": 0.2
             }
            },
            "type": "bar"
           }
          ],
          "barpolar": [
           {
            "marker": {
             "line": {
              "color": "#E5ECF6",
              "width": 0.5
             },
             "pattern": {
              "fillmode": "overlay",
              "size": 10,
              "solidity": 0.2
             }
            },
            "type": "barpolar"
           }
          ],
          "carpet": [
           {
            "aaxis": {
             "endlinecolor": "#2a3f5f",
             "gridcolor": "white",
             "linecolor": "white",
             "minorgridcolor": "white",
             "startlinecolor": "#2a3f5f"
            },
            "baxis": {
             "endlinecolor": "#2a3f5f",
             "gridcolor": "white",
             "linecolor": "white",
             "minorgridcolor": "white",
             "startlinecolor": "#2a3f5f"
            },
            "type": "carpet"
           }
          ],
          "choropleth": [
           {
            "colorbar": {
             "outlinewidth": 0,
             "ticks": ""
            },
            "type": "choropleth"
           }
          ],
          "contour": [
           {
            "colorbar": {
             "outlinewidth": 0,
             "ticks": ""
            },
            "colorscale": [
             [
              0,
              "#0d0887"
             ],
             [
              0.1111111111111111,
              "#46039f"
             ],
             [
              0.2222222222222222,
              "#7201a8"
             ],
             [
              0.3333333333333333,
              "#9c179e"
             ],
             [
              0.4444444444444444,
              "#bd3786"
             ],
             [
              0.5555555555555556,
              "#d8576b"
             ],
             [
              0.6666666666666666,
              "#ed7953"
             ],
             [
              0.7777777777777778,
              "#fb9f3a"
             ],
             [
              0.8888888888888888,
              "#fdca26"
             ],
             [
              1,
              "#f0f921"
             ]
            ],
            "type": "contour"
           }
          ],
          "contourcarpet": [
           {
            "colorbar": {
             "outlinewidth": 0,
             "ticks": ""
            },
            "type": "contourcarpet"
           }
          ],
          "heatmap": [
           {
            "colorbar": {
             "outlinewidth": 0,
             "ticks": ""
            },
            "colorscale": [
             [
              0,
              "#0d0887"
             ],
             [
              0.1111111111111111,
              "#46039f"
             ],
             [
              0.2222222222222222,
              "#7201a8"
             ],
             [
              0.3333333333333333,
              "#9c179e"
             ],
             [
              0.4444444444444444,
              "#bd3786"
             ],
             [
              0.5555555555555556,
              "#d8576b"
             ],
             [
              0.6666666666666666,
              "#ed7953"
             ],
             [
              0.7777777777777778,
              "#fb9f3a"
             ],
             [
              0.8888888888888888,
              "#fdca26"
             ],
             [
              1,
              "#f0f921"
             ]
            ],
            "type": "heatmap"
           }
          ],
          "heatmapgl": [
           {
            "colorbar": {
             "outlinewidth": 0,
             "ticks": ""
            },
            "colorscale": [
             [
              0,
              "#0d0887"
             ],
             [
              0.1111111111111111,
              "#46039f"
             ],
             [
              0.2222222222222222,
              "#7201a8"
             ],
             [
              0.3333333333333333,
              "#9c179e"
             ],
             [
              0.4444444444444444,
              "#bd3786"
             ],
             [
              0.5555555555555556,
              "#d8576b"
             ],
             [
              0.6666666666666666,
              "#ed7953"
             ],
             [
              0.7777777777777778,
              "#fb9f3a"
             ],
             [
              0.8888888888888888,
              "#fdca26"
             ],
             [
              1,
              "#f0f921"
             ]
            ],
            "type": "heatmapgl"
           }
          ],
          "histogram": [
           {
            "marker": {
             "pattern": {
              "fillmode": "overlay",
              "size": 10,
              "solidity": 0.2
             }
            },
            "type": "histogram"
           }
          ],
          "histogram2d": [
           {
            "colorbar": {
             "outlinewidth": 0,
             "ticks": ""
            },
            "colorscale": [
             [
              0,
              "#0d0887"
             ],
             [
              0.1111111111111111,
              "#46039f"
             ],
             [
              0.2222222222222222,
              "#7201a8"
             ],
             [
              0.3333333333333333,
              "#9c179e"
             ],
             [
              0.4444444444444444,
              "#bd3786"
             ],
             [
              0.5555555555555556,
              "#d8576b"
             ],
             [
              0.6666666666666666,
              "#ed7953"
             ],
             [
              0.7777777777777778,
              "#fb9f3a"
             ],
             [
              0.8888888888888888,
              "#fdca26"
             ],
             [
              1,
              "#f0f921"
             ]
            ],
            "type": "histogram2d"
           }
          ],
          "histogram2dcontour": [
           {
            "colorbar": {
             "outlinewidth": 0,
             "ticks": ""
            },
            "colorscale": [
             [
              0,
              "#0d0887"
             ],
             [
              0.1111111111111111,
              "#46039f"
             ],
             [
              0.2222222222222222,
              "#7201a8"
             ],
             [
              0.3333333333333333,
              "#9c179e"
             ],
             [
              0.4444444444444444,
              "#bd3786"
             ],
             [
              0.5555555555555556,
              "#d8576b"
             ],
             [
              0.6666666666666666,
              "#ed7953"
             ],
             [
              0.7777777777777778,
              "#fb9f3a"
             ],
             [
              0.8888888888888888,
              "#fdca26"
             ],
             [
              1,
              "#f0f921"
             ]
            ],
            "type": "histogram2dcontour"
           }
          ],
          "mesh3d": [
           {
            "colorbar": {
             "outlinewidth": 0,
             "ticks": ""
            },
            "type": "mesh3d"
           }
          ],
          "parcoords": [
           {
            "line": {
             "colorbar": {
              "outlinewidth": 0,
              "ticks": ""
             }
            },
            "type": "parcoords"
           }
          ],
          "pie": [
           {
            "automargin": true,
            "type": "pie"
           }
          ],
          "scatter": [
           {
            "fillpattern": {
             "fillmode": "overlay",
             "size": 10,
             "solidity": 0.2
            },
            "type": "scatter"
           }
          ],
          "scatter3d": [
           {
            "line": {
             "colorbar": {
              "outlinewidth": 0,
              "ticks": ""
             }
            },
            "marker": {
             "colorbar": {
              "outlinewidth": 0,
              "ticks": ""
             }
            },
            "type": "scatter3d"
           }
          ],
          "scattercarpet": [
           {
            "marker": {
             "colorbar": {
              "outlinewidth": 0,
              "ticks": ""
             }
            },
            "type": "scattercarpet"
           }
          ],
          "scattergeo": [
           {
            "marker": {
             "colorbar": {
              "outlinewidth": 0,
              "ticks": ""
             }
            },
            "type": "scattergeo"
           }
          ],
          "scattergl": [
           {
            "marker": {
             "colorbar": {
              "outlinewidth": 0,
              "ticks": ""
             }
            },
            "type": "scattergl"
           }
          ],
          "scattermapbox": [
           {
            "marker": {
             "colorbar": {
              "outlinewidth": 0,
              "ticks": ""
             }
            },
            "type": "scattermapbox"
           }
          ],
          "scatterpolar": [
           {
            "marker": {
             "colorbar": {
              "outlinewidth": 0,
              "ticks": ""
             }
            },
            "type": "scatterpolar"
           }
          ],
          "scatterpolargl": [
           {
            "marker": {
             "colorbar": {
              "outlinewidth": 0,
              "ticks": ""
             }
            },
            "type": "scatterpolargl"
           }
          ],
          "scatterternary": [
           {
            "marker": {
             "colorbar": {
              "outlinewidth": 0,
              "ticks": ""
             }
            },
            "type": "scatterternary"
           }
          ],
          "surface": [
           {
            "colorbar": {
             "outlinewidth": 0,
             "ticks": ""
            },
            "colorscale": [
             [
              0,
              "#0d0887"
             ],
             [
              0.1111111111111111,
              "#46039f"
             ],
             [
              0.2222222222222222,
              "#7201a8"
             ],
             [
              0.3333333333333333,
              "#9c179e"
             ],
             [
              0.4444444444444444,
              "#bd3786"
             ],
             [
              0.5555555555555556,
              "#d8576b"
             ],
             [
              0.6666666666666666,
              "#ed7953"
             ],
             [
              0.7777777777777778,
              "#fb9f3a"
             ],
             [
              0.8888888888888888,
              "#fdca26"
             ],
             [
              1,
              "#f0f921"
             ]
            ],
            "type": "surface"
           }
          ],
          "table": [
           {
            "cells": {
             "fill": {
              "color": "#EBF0F8"
             },
             "line": {
              "color": "white"
             }
            },
            "header": {
             "fill": {
              "color": "#C8D4E3"
             },
             "line": {
              "color": "white"
             }
            },
            "type": "table"
           }
          ]
         },
         "layout": {
          "annotationdefaults": {
           "arrowcolor": "#2a3f5f",
           "arrowhead": 0,
           "arrowwidth": 1
          },
          "autotypenumbers": "strict",
          "coloraxis": {
           "colorbar": {
            "outlinewidth": 0,
            "ticks": ""
           }
          },
          "colorscale": {
           "diverging": [
            [
             0,
             "#8e0152"
            ],
            [
             0.1,
             "#c51b7d"
            ],
            [
             0.2,
             "#de77ae"
            ],
            [
             0.3,
             "#f1b6da"
            ],
            [
             0.4,
             "#fde0ef"
            ],
            [
             0.5,
             "#f7f7f7"
            ],
            [
             0.6,
             "#e6f5d0"
            ],
            [
             0.7,
             "#b8e186"
            ],
            [
             0.8,
             "#7fbc41"
            ],
            [
             0.9,
             "#4d9221"
            ],
            [
             1,
             "#276419"
            ]
           ],
           "sequential": [
            [
             0,
             "#0d0887"
            ],
            [
             0.1111111111111111,
             "#46039f"
            ],
            [
             0.2222222222222222,
             "#7201a8"
            ],
            [
             0.3333333333333333,
             "#9c179e"
            ],
            [
             0.4444444444444444,
             "#bd3786"
            ],
            [
             0.5555555555555556,
             "#d8576b"
            ],
            [
             0.6666666666666666,
             "#ed7953"
            ],
            [
             0.7777777777777778,
             "#fb9f3a"
            ],
            [
             0.8888888888888888,
             "#fdca26"
            ],
            [
             1,
             "#f0f921"
            ]
           ],
           "sequentialminus": [
            [
             0,
             "#0d0887"
            ],
            [
             0.1111111111111111,
             "#46039f"
            ],
            [
             0.2222222222222222,
             "#7201a8"
            ],
            [
             0.3333333333333333,
             "#9c179e"
            ],
            [
             0.4444444444444444,
             "#bd3786"
            ],
            [
             0.5555555555555556,
             "#d8576b"
            ],
            [
             0.6666666666666666,
             "#ed7953"
            ],
            [
             0.7777777777777778,
             "#fb9f3a"
            ],
            [
             0.8888888888888888,
             "#fdca26"
            ],
            [
             1,
             "#f0f921"
            ]
           ]
          },
          "colorway": [
           "#636efa",
           "#EF553B",
           "#00cc96",
           "#ab63fa",
           "#FFA15A",
           "#19d3f3",
           "#FF6692",
           "#B6E880",
           "#FF97FF",
           "#FECB52"
          ],
          "font": {
           "color": "#2a3f5f"
          },
          "geo": {
           "bgcolor": "white",
           "lakecolor": "white",
           "landcolor": "#E5ECF6",
           "showlakes": true,
           "showland": true,
           "subunitcolor": "white"
          },
          "hoverlabel": {
           "align": "left"
          },
          "hovermode": "closest",
          "mapbox": {
           "style": "light"
          },
          "paper_bgcolor": "white",
          "plot_bgcolor": "#E5ECF6",
          "polar": {
           "angularaxis": {
            "gridcolor": "white",
            "linecolor": "white",
            "ticks": ""
           },
           "bgcolor": "#E5ECF6",
           "radialaxis": {
            "gridcolor": "white",
            "linecolor": "white",
            "ticks": ""
           }
          },
          "scene": {
           "xaxis": {
            "backgroundcolor": "#E5ECF6",
            "gridcolor": "white",
            "gridwidth": 2,
            "linecolor": "white",
            "showbackground": true,
            "ticks": "",
            "zerolinecolor": "white"
           },
           "yaxis": {
            "backgroundcolor": "#E5ECF6",
            "gridcolor": "white",
            "gridwidth": 2,
            "linecolor": "white",
            "showbackground": true,
            "ticks": "",
            "zerolinecolor": "white"
           },
           "zaxis": {
            "backgroundcolor": "#E5ECF6",
            "gridcolor": "white",
            "gridwidth": 2,
            "linecolor": "white",
            "showbackground": true,
            "ticks": "",
            "zerolinecolor": "white"
           }
          },
          "shapedefaults": {
           "line": {
            "color": "#2a3f5f"
           }
          },
          "ternary": {
           "aaxis": {
            "gridcolor": "white",
            "linecolor": "white",
            "ticks": ""
           },
           "baxis": {
            "gridcolor": "white",
            "linecolor": "white",
            "ticks": ""
           },
           "bgcolor": "#E5ECF6",
           "caxis": {
            "gridcolor": "white",
            "linecolor": "white",
            "ticks": ""
           }
          },
          "title": {
           "x": 0.05
          },
          "xaxis": {
           "automargin": true,
           "gridcolor": "white",
           "linecolor": "white",
           "ticks": "",
           "title": {
            "standoff": 15
           },
           "zerolinecolor": "white",
           "zerolinewidth": 2
          },
          "yaxis": {
           "automargin": true,
           "gridcolor": "white",
           "linecolor": "white",
           "ticks": "",
           "title": {
            "standoff": 15
           },
           "zerolinecolor": "white",
           "zerolinewidth": 2
          }
         }
        },
        "xaxis": {
         "anchor": "y",
         "domain": [
          0,
          1
         ]
        },
        "yaxis": {
         "anchor": "x",
         "domain": [
          0,
          1
         ]
        }
       }
      }
     },
     "metadata": {},
     "output_type": "display_data"
    }
   ],
   "source": [
    "fig = make_subplots()\n",
    "fig.add_trace(px.line(df, x='valid_since', y='index', title='Indexation').data[0])\n",
    "fig.add_trace(px.line(df, x='valid_since', y=arima_model_fit.fittedvalues, title='Indexation').data[0])\n",
    "\n",
    "# change color of trace \n",
    "fig.data[1].line.color = 'red'\n",
    "# add name \n",
    "fig.data[1].name = 'ARIMA model fit'\n",
    "# dashed line\n",
    "fig.data[1].line.dash = 'dash'\n",
    "\n",
    "# add legend\n",
    "fig.update_layout(showlegend=True)\n",
    "\n",
    "fig.show()"
   ]
  },
  {
   "cell_type": "code",
   "execution_count": 312,
   "metadata": {},
   "outputs": [
    {
     "name": "stderr",
     "output_type": "stream",
     "text": [
      "/opt/homebrew/lib/python3.10/site-packages/statsmodels/tsa/base/tsa_model.py:834: ValueWarning:\n",
      "\n",
      "No supported index is available. Prediction results will be given with an integer index beginning at `start`.\n",
      "\n"
     ]
    },
    {
     "data": {
      "text/html": [
       "<div>\n",
       "<style scoped>\n",
       "    .dataframe tbody tr th:only-of-type {\n",
       "        vertical-align: middle;\n",
       "    }\n",
       "\n",
       "    .dataframe tbody tr th {\n",
       "        vertical-align: top;\n",
       "    }\n",
       "\n",
       "    .dataframe thead th {\n",
       "        text-align: right;\n",
       "    }\n",
       "</style>\n",
       "<table border=\"1\" class=\"dataframe\">\n",
       "  <thead>\n",
       "    <tr style=\"text-align: right;\">\n",
       "      <th>index</th>\n",
       "      <th>mean</th>\n",
       "      <th>mean_se</th>\n",
       "      <th>mean_ci_lower</th>\n",
       "      <th>mean_ci_upper</th>\n",
       "    </tr>\n",
       "  </thead>\n",
       "  <tbody>\n",
       "    <tr>\n",
       "      <th>2022-10-31</th>\n",
       "      <td>1.950412</td>\n",
       "      <td>0.005513</td>\n",
       "      <td>1.939606</td>\n",
       "      <td>1.961217</td>\n",
       "    </tr>\n",
       "    <tr>\n",
       "      <th>2023-10-31</th>\n",
       "      <td>1.978623</td>\n",
       "      <td>0.007930</td>\n",
       "      <td>1.963080</td>\n",
       "      <td>1.994166</td>\n",
       "    </tr>\n",
       "    <tr>\n",
       "      <th>2024-10-31</th>\n",
       "      <td>2.006833</td>\n",
       "      <td>0.009875</td>\n",
       "      <td>1.987479</td>\n",
       "      <td>2.026187</td>\n",
       "    </tr>\n",
       "    <tr>\n",
       "      <th>2025-10-31</th>\n",
       "      <td>2.035042</td>\n",
       "      <td>0.011588</td>\n",
       "      <td>2.012330</td>\n",
       "      <td>2.057755</td>\n",
       "    </tr>\n",
       "    <tr>\n",
       "      <th>2026-10-31</th>\n",
       "      <td>2.063250</td>\n",
       "      <td>0.013162</td>\n",
       "      <td>2.037453</td>\n",
       "      <td>2.089048</td>\n",
       "    </tr>\n",
       "    <tr>\n",
       "      <th>...</th>\n",
       "      <td>...</td>\n",
       "      <td>...</td>\n",
       "      <td>...</td>\n",
       "      <td>...</td>\n",
       "    </tr>\n",
       "    <tr>\n",
       "      <th>2117-10-31</th>\n",
       "      <td>4.626443</td>\n",
       "      <td>0.128384</td>\n",
       "      <td>4.374816</td>\n",
       "      <td>4.878071</td>\n",
       "    </tr>\n",
       "    <tr>\n",
       "      <th>2118-10-31</th>\n",
       "      <td>4.654569</td>\n",
       "      <td>0.129775</td>\n",
       "      <td>4.400214</td>\n",
       "      <td>4.908924</td>\n",
       "    </tr>\n",
       "    <tr>\n",
       "      <th>2119-10-31</th>\n",
       "      <td>4.682694</td>\n",
       "      <td>0.131170</td>\n",
       "      <td>4.425605</td>\n",
       "      <td>4.939783</td>\n",
       "    </tr>\n",
       "    <tr>\n",
       "      <th>2120-10-31</th>\n",
       "      <td>4.710818</td>\n",
       "      <td>0.132569</td>\n",
       "      <td>4.450988</td>\n",
       "      <td>4.970648</td>\n",
       "    </tr>\n",
       "    <tr>\n",
       "      <th>2121-10-31</th>\n",
       "      <td>4.738941</td>\n",
       "      <td>0.133971</td>\n",
       "      <td>4.476363</td>\n",
       "      <td>5.001518</td>\n",
       "    </tr>\n",
       "  </tbody>\n",
       "</table>\n",
       "<p>100 rows × 4 columns</p>\n",
       "</div>"
      ],
      "text/plain": [
       "index           mean   mean_se  mean_ci_lower  mean_ci_upper\n",
       "2022-10-31  1.950412  0.005513       1.939606       1.961217\n",
       "2023-10-31  1.978623  0.007930       1.963080       1.994166\n",
       "2024-10-31  2.006833  0.009875       1.987479       2.026187\n",
       "2025-10-31  2.035042  0.011588       2.012330       2.057755\n",
       "2026-10-31  2.063250  0.013162       2.037453       2.089048\n",
       "...              ...       ...            ...            ...\n",
       "2117-10-31  4.626443  0.128384       4.374816       4.878071\n",
       "2118-10-31  4.654569  0.129775       4.400214       4.908924\n",
       "2119-10-31  4.682694  0.131170       4.425605       4.939783\n",
       "2120-10-31  4.710818  0.132569       4.450988       4.970648\n",
       "2121-10-31  4.738941  0.133971       4.476363       5.001518\n",
       "\n",
       "[100 rows x 4 columns]"
      ]
     },
     "execution_count": 312,
     "metadata": {},
     "output_type": "execute_result"
    }
   ],
   "source": [
    "# forecast for next 5 years every 6 months\n",
    "forecast = arima_model_fit.get_forecast(steps=100)\n",
    "forecast_df = forecast.summary_frame(alpha=0.05)\n",
    "# add date to forecast\n",
    "forecast_df.head()\n",
    "\n",
    "# add 6 months to last date\n",
    "last_date = df.index[-1] + dt.timedelta(days=30)\n",
    "\n",
    "# change index to datetime for each month after last date\n",
    "forecast_df.index = pd.date_range(start=last_date, periods=100, freq='12M')\n",
    "\n",
    "forecast_df"
   ]
  },
  {
   "cell_type": "code",
   "execution_count": 313,
   "metadata": {},
   "outputs": [
    {
     "data": {
      "application/vnd.plotly.v1+json": {
       "config": {
        "plotlyServerURL": "https://plot.ly"
       },
       "data": [
        {
         "hovertemplate": "valid_since=%{x}<br>index=%{y}<extra></extra>",
         "legendgroup": "",
         "line": {
          "color": "#636efa",
          "dash": "solid"
         },
         "marker": {
          "symbol": "circle"
         },
         "mode": "lines",
         "name": "",
         "orientation": "v",
         "showlegend": false,
         "type": "scatter",
         "x": [
          "1990-01-01T00:00:00",
          "1990-02-01T00:00:00",
          "1990-10-01T00:00:00",
          "1991-03-01T00:00:00",
          "1991-12-01T00:00:00",
          "1992-10-01T00:00:00",
          "1993-07-01T00:00:00",
          "1994-11-01T00:00:00",
          "1996-05-01T00:00:00",
          "1997-10-01T00:00:00",
          "1999-06-01T00:00:00",
          "2000-09-01T00:00:00",
          "2001-07-01T00:00:00",
          "2002-03-01T00:00:00",
          "2003-07-01T00:00:00",
          "2004-11-01T00:00:00",
          "2005-09-01T00:00:00",
          "2006-11-01T00:00:00",
          "2008-02-01T00:00:00",
          "2008-06-01T00:00:00",
          "2008-10-01T00:00:00",
          "2010-10-01T00:00:00",
          "2011-06-01T00:00:00",
          "2012-03-01T00:00:00",
          "2013-01-01T00:00:00",
          "2016-07-01T00:00:00",
          "2017-07-01T00:00:00",
          "2018-10-01T00:00:00",
          "2020-04-01T00:00:00",
          "2021-10-01T00:00:00",
          "2022-02-01T00:00:00",
          "2022-04-01T00:00:00",
          "2022-06-01T00:00:00",
          "2022-09-01T00:00:00"
         ],
         "xaxis": "x",
         "y": [
          1,
          1.02,
          1.0404,
          1.0612,
          1.0824,
          1.1041,
          1.1262,
          1.1487,
          1.1717,
          1.1951,
          1.219,
          1.2434,
          1.2682,
          1.2936,
          1.3195,
          1.3459,
          1.3718,
          1.4002,
          1.4282,
          1.4568,
          1.4859,
          1.5157,
          1.546,
          1.5769,
          1.6084,
          1.6406,
          1.6734,
          1.7069,
          1.741,
          1.7758,
          1.8114,
          1.8476,
          1.8845,
          1.9222
         ],
         "yaxis": "y"
        },
        {
         "hovertemplate": "valid_since=%{x}<br>y=%{y}<extra></extra>",
         "legendgroup": "",
         "line": {
          "color": "red",
          "dash": "dash"
         },
         "marker": {
          "symbol": "circle"
         },
         "mode": "lines",
         "name": "ARIMA model fit",
         "orientation": "v",
         "showlegend": false,
         "type": "scatter",
         "x": [
          "1990-01-01T00:00:00",
          "1990-02-01T00:00:00",
          "1990-10-01T00:00:00",
          "1991-03-01T00:00:00",
          "1991-12-01T00:00:00",
          "1992-10-01T00:00:00",
          "1993-07-01T00:00:00",
          "1994-11-01T00:00:00",
          "1996-05-01T00:00:00",
          "1997-10-01T00:00:00",
          "1999-06-01T00:00:00",
          "2000-09-01T00:00:00",
          "2001-07-01T00:00:00",
          "2002-03-01T00:00:00",
          "2003-07-01T00:00:00",
          "2004-11-01T00:00:00",
          "2005-09-01T00:00:00",
          "2006-11-01T00:00:00",
          "2008-02-01T00:00:00",
          "2008-06-01T00:00:00",
          "2008-10-01T00:00:00",
          "2010-10-01T00:00:00",
          "2011-06-01T00:00:00",
          "2012-03-01T00:00:00",
          "2013-01-01T00:00:00",
          "2016-07-01T00:00:00",
          "2017-07-01T00:00:00",
          "2018-10-01T00:00:00",
          "2020-04-01T00:00:00",
          "2021-10-01T00:00:00",
          "2022-02-01T00:00:00",
          "2022-04-01T00:00:00",
          "2022-06-01T00:00:00",
          "2022-09-01T00:00:00"
         ],
         "xaxis": "x",
         "y": [
          0,
          1.000000000221211,
          1.0376565933289583,
          1.0593426806879946,
          1.0807354328178056,
          1.1023382706756226,
          1.1243818669833494,
          1.1467789987664703,
          1.1695493559618035,
          1.1928153669720956,
          1.2164675849502475,
          1.2406202562611688,
          1.265273459459443,
          1.2903188565526822,
          1.3159739877332544,
          1.3421297590067722,
          1.3687862486927715,
          1.3948792472082328,
          1.4236021147775884,
          1.4518669213711732,
          1.4807376226762754,
          1.510108327054188,
          1.540189313960304,
          1.5707697936705733,
          1.6019546915404514,
          1.6337436978792987,
          1.6662409065044064,
          1.6993414434228147,
          1.733149257103476,
          1.7675598762647096,
          1.8026771001782158,
          1.8386042983926811,
          1.8751334755168898,
          1.9123682498012176
         ],
         "yaxis": "y"
        },
        {
         "hovertemplate": "index=%{x}<br>mean=%{y}<extra></extra>",
         "legendgroup": "",
         "line": {
          "color": "green",
          "dash": "solid"
         },
         "marker": {
          "symbol": "circle"
         },
         "mode": "lines",
         "name": "",
         "orientation": "v",
         "showlegend": false,
         "type": "scatter",
         "x": [
          "2022-10-31T00:00:00",
          "2023-10-31T00:00:00",
          "2024-10-31T00:00:00",
          "2025-10-31T00:00:00",
          "2026-10-31T00:00:00",
          "2027-10-31T00:00:00",
          "2028-10-31T00:00:00",
          "2029-10-31T00:00:00",
          "2030-10-31T00:00:00",
          "2031-10-31T00:00:00",
          "2032-10-31T00:00:00",
          "2033-10-31T00:00:00",
          "2034-10-31T00:00:00",
          "2035-10-31T00:00:00",
          "2036-10-31T00:00:00",
          "2037-10-31T00:00:00",
          "2038-10-31T00:00:00",
          "2039-10-31T00:00:00",
          "2040-10-31T00:00:00",
          "2041-10-31T00:00:00",
          "2042-10-31T00:00:00",
          "2043-10-31T00:00:00",
          "2044-10-31T00:00:00",
          "2045-10-31T00:00:00",
          "2046-10-31T00:00:00",
          "2047-10-31T00:00:00",
          "2048-10-31T00:00:00",
          "2049-10-31T00:00:00",
          "2050-10-31T00:00:00",
          "2051-10-31T00:00:00",
          "2052-10-31T00:00:00",
          "2053-10-31T00:00:00",
          "2054-10-31T00:00:00",
          "2055-10-31T00:00:00",
          "2056-10-31T00:00:00",
          "2057-10-31T00:00:00",
          "2058-10-31T00:00:00",
          "2059-10-31T00:00:00",
          "2060-10-31T00:00:00",
          "2061-10-31T00:00:00",
          "2062-10-31T00:00:00",
          "2063-10-31T00:00:00",
          "2064-10-31T00:00:00",
          "2065-10-31T00:00:00",
          "2066-10-31T00:00:00",
          "2067-10-31T00:00:00",
          "2068-10-31T00:00:00",
          "2069-10-31T00:00:00",
          "2070-10-31T00:00:00",
          "2071-10-31T00:00:00",
          "2072-10-31T00:00:00",
          "2073-10-31T00:00:00",
          "2074-10-31T00:00:00",
          "2075-10-31T00:00:00",
          "2076-10-31T00:00:00",
          "2077-10-31T00:00:00",
          "2078-10-31T00:00:00",
          "2079-10-31T00:00:00",
          "2080-10-31T00:00:00",
          "2081-10-31T00:00:00",
          "2082-10-31T00:00:00",
          "2083-10-31T00:00:00",
          "2084-10-31T00:00:00",
          "2085-10-31T00:00:00",
          "2086-10-31T00:00:00",
          "2087-10-31T00:00:00",
          "2088-10-31T00:00:00",
          "2089-10-31T00:00:00",
          "2090-10-31T00:00:00",
          "2091-10-31T00:00:00",
          "2092-10-31T00:00:00",
          "2093-10-31T00:00:00",
          "2094-10-31T00:00:00",
          "2095-10-31T00:00:00",
          "2096-10-31T00:00:00",
          "2097-10-31T00:00:00",
          "2098-10-31T00:00:00",
          "2099-10-31T00:00:00",
          "2100-10-31T00:00:00",
          "2101-10-31T00:00:00",
          "2102-10-31T00:00:00",
          "2103-10-31T00:00:00",
          "2104-10-31T00:00:00",
          "2105-10-31T00:00:00",
          "2106-10-31T00:00:00",
          "2107-10-31T00:00:00",
          "2108-10-31T00:00:00",
          "2109-10-31T00:00:00",
          "2110-10-31T00:00:00",
          "2111-10-31T00:00:00",
          "2112-10-31T00:00:00",
          "2113-10-31T00:00:00",
          "2114-10-31T00:00:00",
          "2115-10-31T00:00:00",
          "2116-10-31T00:00:00",
          "2117-10-31T00:00:00",
          "2118-10-31T00:00:00",
          "2119-10-31T00:00:00",
          "2120-10-31T00:00:00",
          "2121-10-31T00:00:00"
         ],
         "xaxis": "x",
         "y": [
          1.9504118751289306,
          1.978622851002233,
          2.0068329276485715,
          2.0350421050966085,
          2.063250383375006,
          2.0914577625124253,
          2.1196642425375263,
          2.1478698234789686,
          2.1760745053654107,
          2.2042782882255096,
          2.232481172087922,
          2.2606831569813037,
          2.288884242934309,
          2.317084429975592,
          2.3452837181338055,
          2.3734821074376016,
          2.4016795979156313,
          2.429876189596545,
          2.458071882508991,
          2.486266676681619,
          2.514460572143075,
          2.542653568922006,
          2.570845667047058,
          2.599036866546875,
          2.6272271674501013,
          2.6554165697853795,
          2.6836050735813517,
          2.7117926788666584,
          2.7399793856699404,
          2.7681651940198364,
          2.796350103944985,
          2.824534115474023,
          2.8527172286355875,
          2.8808994434583135,
          2.909080759970836,
          2.9372611782017883,
          2.9654406981798034,
          2.9936193199335133,
          3.021797043491549,
          3.04997386888254,
          3.0781497961351163,
          3.1063248252779054,
          3.1344989563395353,
          3.162672189348632,
          3.190844524333821,
          3.219015961323727,
          3.2471865003469733,
          3.275356141432183,
          3.3035248846079774,
          3.3316927299029784,
          3.3598596773458054,
          3.3880257269650778,
          3.4161908787894135,
          3.44435513284743,
          3.472518489167743,
          3.500680947778969,
          3.528842508709722,
          3.5570031719886157,
          3.5851629376442626,
          3.613321805705275,
          3.6414797762002635,
          3.669636849157838,
          3.6977930246066077,
          3.7259483025751807,
          3.754102683092164,
          3.7822561661861647,
          3.8104087518857876,
          3.8385604402196374,
          3.8667112312163177,
          3.894861124904431,
          3.923010121312579,
          3.951158220469363,
          3.979305422403383,
          4.007451727143238,
          4.035597134717525,
          4.063741645154843,
          4.091885258483787,
          4.1200279747329525,
          4.1481697939309345,
          4.176310716106326,
          4.204450741287721,
          4.23258986950371,
          4.260728100782884,
          4.2888654351538325,
          4.317001872645146,
          4.3451374132854115,
          4.373272057103216,
          4.401405804127147,
          4.429538654385788,
          4.457670607907725,
          4.485801664721541,
          4.513931824855819,
          4.54206108833914,
          4.570189455200086,
          4.598316925467235,
          4.626443499169167,
          4.654569176334461,
          4.682693956991693,
          4.71081784116944,
          4.738940828896277
         ],
         "yaxis": "y"
        },
        {
         "hovertemplate": "index=%{x}<br>mean_ci_lower=%{y}<extra></extra>",
         "legendgroup": "",
         "line": {
          "color": "grey",
          "dash": "solid"
         },
         "marker": {
          "symbol": "circle"
         },
         "mode": "lines",
         "name": "",
         "orientation": "v",
         "showlegend": false,
         "type": "scatter",
         "x": [
          "2022-10-31T00:00:00",
          "2023-10-31T00:00:00",
          "2024-10-31T00:00:00",
          "2025-10-31T00:00:00",
          "2026-10-31T00:00:00",
          "2027-10-31T00:00:00",
          "2028-10-31T00:00:00",
          "2029-10-31T00:00:00",
          "2030-10-31T00:00:00",
          "2031-10-31T00:00:00",
          "2032-10-31T00:00:00",
          "2033-10-31T00:00:00",
          "2034-10-31T00:00:00",
          "2035-10-31T00:00:00",
          "2036-10-31T00:00:00",
          "2037-10-31T00:00:00",
          "2038-10-31T00:00:00",
          "2039-10-31T00:00:00",
          "2040-10-31T00:00:00",
          "2041-10-31T00:00:00",
          "2042-10-31T00:00:00",
          "2043-10-31T00:00:00",
          "2044-10-31T00:00:00",
          "2045-10-31T00:00:00",
          "2046-10-31T00:00:00",
          "2047-10-31T00:00:00",
          "2048-10-31T00:00:00",
          "2049-10-31T00:00:00",
          "2050-10-31T00:00:00",
          "2051-10-31T00:00:00",
          "2052-10-31T00:00:00",
          "2053-10-31T00:00:00",
          "2054-10-31T00:00:00",
          "2055-10-31T00:00:00",
          "2056-10-31T00:00:00",
          "2057-10-31T00:00:00",
          "2058-10-31T00:00:00",
          "2059-10-31T00:00:00",
          "2060-10-31T00:00:00",
          "2061-10-31T00:00:00",
          "2062-10-31T00:00:00",
          "2063-10-31T00:00:00",
          "2064-10-31T00:00:00",
          "2065-10-31T00:00:00",
          "2066-10-31T00:00:00",
          "2067-10-31T00:00:00",
          "2068-10-31T00:00:00",
          "2069-10-31T00:00:00",
          "2070-10-31T00:00:00",
          "2071-10-31T00:00:00",
          "2072-10-31T00:00:00",
          "2073-10-31T00:00:00",
          "2074-10-31T00:00:00",
          "2075-10-31T00:00:00",
          "2076-10-31T00:00:00",
          "2077-10-31T00:00:00",
          "2078-10-31T00:00:00",
          "2079-10-31T00:00:00",
          "2080-10-31T00:00:00",
          "2081-10-31T00:00:00",
          "2082-10-31T00:00:00",
          "2083-10-31T00:00:00",
          "2084-10-31T00:00:00",
          "2085-10-31T00:00:00",
          "2086-10-31T00:00:00",
          "2087-10-31T00:00:00",
          "2088-10-31T00:00:00",
          "2089-10-31T00:00:00",
          "2090-10-31T00:00:00",
          "2091-10-31T00:00:00",
          "2092-10-31T00:00:00",
          "2093-10-31T00:00:00",
          "2094-10-31T00:00:00",
          "2095-10-31T00:00:00",
          "2096-10-31T00:00:00",
          "2097-10-31T00:00:00",
          "2098-10-31T00:00:00",
          "2099-10-31T00:00:00",
          "2100-10-31T00:00:00",
          "2101-10-31T00:00:00",
          "2102-10-31T00:00:00",
          "2103-10-31T00:00:00",
          "2104-10-31T00:00:00",
          "2105-10-31T00:00:00",
          "2106-10-31T00:00:00",
          "2107-10-31T00:00:00",
          "2108-10-31T00:00:00",
          "2109-10-31T00:00:00",
          "2110-10-31T00:00:00",
          "2111-10-31T00:00:00",
          "2112-10-31T00:00:00",
          "2113-10-31T00:00:00",
          "2114-10-31T00:00:00",
          "2115-10-31T00:00:00",
          "2116-10-31T00:00:00",
          "2117-10-31T00:00:00",
          "2118-10-31T00:00:00",
          "2119-10-31T00:00:00",
          "2120-10-31T00:00:00",
          "2121-10-31T00:00:00"
         ],
         "xaxis": "x",
         "y": [
          1.9396062720380682,
          1.9630798133051843,
          1.9874787946700405,
          2.012329598616318,
          2.0374527083380425,
          2.0627580017504115,
          2.088193078337134,
          2.113724526788722,
          2.1393296402674573,
          2.1649922454839188,
          2.190700400091588,
          2.2164450302513075,
          2.242219079584417,
          2.268016953860935,
          2.293834145408377,
          2.3196669713144105,
          2.3455123862139664,
          2.371367845426036,
          2.3972312029584577,
          2.4231006342035246,
          2.448974576464437,
          2.474851682585101,
          2.5007307843604774,
          2.526610863350408,
          2.552491027369138,
          2.578370491376414,
          2.6042485618182085,
          2.6301246236972196,
          2.6559981298227733,
          2.6818685918150553,
          2.707735572532274,
          2.733598679660117,
          2.7594575602568776,
          2.78531189608919,
          2.8111613996255898,
          2.837005810580367,
          2.8628448929201076,
          2.8886784322611176,
          2.914506233598549,
          2.940328119318223,
          2.9661439274503456,
          2.991953510130997,
          3.0177567322427348,
          3.0435534702101315,
          3.0693436109297885,
          3.095127050817417,
          3.120903694957138,
          3.146673456340304,
          3.172436255182923,
          3.1981920183122807,
          3.223940678614636,
          3.2496821745369515,
          3.2754164496365368,
          3.3011434521732674,
          3.3268631347397304,
          3.3525754539252066,
          3.3782803700099175,
          3.403977846686378,
          3.429667850805083,
          3.455350352142071,
          3.48102532318619,
          3.5066927389441354,
          3.5323525767615562,
          3.558004816158686,
          3.5836494386791573,
          3.6092864277507624,
          3.6349157685570876,
          3.6605374479190367,
          3.686151454185365,
          3.7117577771314427,
          3.7373564078655286,
          3.762947338741921,
          3.7885305632804034,
          3.8141060760914556,
          3.839673872806774,
          3.8652339500146473,
          3.8907863051998186,
          3.9163309366874643,
          3.9418678435909755,
          3.9673970257632414,
          3.992918483751174,
          4.0184322187532215,
          4.043938232579644,
          4.069436527615365,
          4.0949271067851845,
          4.1204099735211965,
          4.145885131732255,
          4.171352585775339,
          4.196812340428675,
          4.222264400866509,
          4.247708772635402,
          4.273145461631957,
          4.298574474081864,
          4.323995816520193,
          4.349409495772836,
          4.3748155189390365,
          4.400213893374926,
          4.425604626678002,
          4.450987726672494,
          4.476363201395558
         ],
         "yaxis": "y"
        },
        {
         "hovertemplate": "index=%{x}<br>mean_ci_upper=%{y}<extra></extra>",
         "legendgroup": "",
         "line": {
          "color": "purple",
          "dash": "solid"
         },
         "marker": {
          "symbol": "circle"
         },
         "mode": "lines",
         "name": "",
         "orientation": "v",
         "showlegend": false,
         "type": "scatter",
         "x": [
          "2022-10-31T00:00:00",
          "2023-10-31T00:00:00",
          "2024-10-31T00:00:00",
          "2025-10-31T00:00:00",
          "2026-10-31T00:00:00",
          "2027-10-31T00:00:00",
          "2028-10-31T00:00:00",
          "2029-10-31T00:00:00",
          "2030-10-31T00:00:00",
          "2031-10-31T00:00:00",
          "2032-10-31T00:00:00",
          "2033-10-31T00:00:00",
          "2034-10-31T00:00:00",
          "2035-10-31T00:00:00",
          "2036-10-31T00:00:00",
          "2037-10-31T00:00:00",
          "2038-10-31T00:00:00",
          "2039-10-31T00:00:00",
          "2040-10-31T00:00:00",
          "2041-10-31T00:00:00",
          "2042-10-31T00:00:00",
          "2043-10-31T00:00:00",
          "2044-10-31T00:00:00",
          "2045-10-31T00:00:00",
          "2046-10-31T00:00:00",
          "2047-10-31T00:00:00",
          "2048-10-31T00:00:00",
          "2049-10-31T00:00:00",
          "2050-10-31T00:00:00",
          "2051-10-31T00:00:00",
          "2052-10-31T00:00:00",
          "2053-10-31T00:00:00",
          "2054-10-31T00:00:00",
          "2055-10-31T00:00:00",
          "2056-10-31T00:00:00",
          "2057-10-31T00:00:00",
          "2058-10-31T00:00:00",
          "2059-10-31T00:00:00",
          "2060-10-31T00:00:00",
          "2061-10-31T00:00:00",
          "2062-10-31T00:00:00",
          "2063-10-31T00:00:00",
          "2064-10-31T00:00:00",
          "2065-10-31T00:00:00",
          "2066-10-31T00:00:00",
          "2067-10-31T00:00:00",
          "2068-10-31T00:00:00",
          "2069-10-31T00:00:00",
          "2070-10-31T00:00:00",
          "2071-10-31T00:00:00",
          "2072-10-31T00:00:00",
          "2073-10-31T00:00:00",
          "2074-10-31T00:00:00",
          "2075-10-31T00:00:00",
          "2076-10-31T00:00:00",
          "2077-10-31T00:00:00",
          "2078-10-31T00:00:00",
          "2079-10-31T00:00:00",
          "2080-10-31T00:00:00",
          "2081-10-31T00:00:00",
          "2082-10-31T00:00:00",
          "2083-10-31T00:00:00",
          "2084-10-31T00:00:00",
          "2085-10-31T00:00:00",
          "2086-10-31T00:00:00",
          "2087-10-31T00:00:00",
          "2088-10-31T00:00:00",
          "2089-10-31T00:00:00",
          "2090-10-31T00:00:00",
          "2091-10-31T00:00:00",
          "2092-10-31T00:00:00",
          "2093-10-31T00:00:00",
          "2094-10-31T00:00:00",
          "2095-10-31T00:00:00",
          "2096-10-31T00:00:00",
          "2097-10-31T00:00:00",
          "2098-10-31T00:00:00",
          "2099-10-31T00:00:00",
          "2100-10-31T00:00:00",
          "2101-10-31T00:00:00",
          "2102-10-31T00:00:00",
          "2103-10-31T00:00:00",
          "2104-10-31T00:00:00",
          "2105-10-31T00:00:00",
          "2106-10-31T00:00:00",
          "2107-10-31T00:00:00",
          "2108-10-31T00:00:00",
          "2109-10-31T00:00:00",
          "2110-10-31T00:00:00",
          "2111-10-31T00:00:00",
          "2112-10-31T00:00:00",
          "2113-10-31T00:00:00",
          "2114-10-31T00:00:00",
          "2115-10-31T00:00:00",
          "2116-10-31T00:00:00",
          "2117-10-31T00:00:00",
          "2118-10-31T00:00:00",
          "2119-10-31T00:00:00",
          "2120-10-31T00:00:00",
          "2121-10-31T00:00:00"
         ],
         "xaxis": "x",
         "y": [
          1.9612174782197929,
          1.9941658886992817,
          2.0261870606271026,
          2.057754611576899,
          2.0890480584119695,
          2.120157523274439,
          2.1511354067379185,
          2.1820151201692153,
          2.212819370463364,
          2.2435643309671005,
          2.274261944084256,
          2.3049212837113,
          2.3355494062842013,
          2.366151906090249,
          2.3967332908592343,
          2.4272972435607927,
          2.4578468096172963,
          2.4883845337670536,
          2.5189125620595245,
          2.549432719159713,
          2.579946567821713,
          2.610455455258911,
          2.6409605497336384,
          2.6714628697433422,
          2.7019633075310647,
          2.7324626481943453,
          2.762961585344495,
          2.7934607340360973,
          2.8239606415171075,
          2.8544617962246175,
          2.884964635357696,
          2.9154695512879294,
          2.9459768970142974,
          2.976486990827437,
          3.007000120316082,
          3.03751654582321,
          3.068036503439499,
          3.098560207605909,
          3.1290878533845485,
          3.1596196184468575,
          3.190155664819887,
          3.220696140424814,
          3.251241180436336,
          3.2817909084871326,
          3.3123454377378536,
          3.342904871830037,
          3.373469305736809,
          3.4040388265240615,
          3.434613514033032,
          3.465193441493676,
          3.495778676076975,
          3.526369279393204,
          3.5569653079422903,
          3.587566813521592,
          3.618173843595756,
          3.6487864416327316,
          3.6794046474095263,
          3.7100284972908533,
          3.740658024483442,
          3.7712932592684787,
          3.801934229214337,
          3.8325809593715405,
          3.8632334724516593,
          3.8938917889916755,
          3.924555927505171,
          3.955225904621567,
          3.9859017352144877,
          4.016583432520238,
          4.04727100824727,
          4.07796447267742,
          4.10866383475963,
          4.139369102196805,
          4.170080281526363,
          4.20079737819502,
          4.231520396628277,
          4.262249340295038,
          4.292984211767755,
          4.32372501277844,
          4.354471744270894,
          4.385224406449411,
          4.415982998824267,
          4.446747520254198,
          4.477517968986123,
          4.5082943426923,
          4.539076638505107,
          4.569864853049626,
          4.600658982474178,
          4.631459022478954,
          4.662264968342901,
          4.693076814948942,
          4.7238945568076804,
          4.75471818807968,
          4.785547702596416,
          4.8163830938799785,
          4.847224355161634,
          4.878071479399298,
          4.9089244592939965,
          4.939783287305385,
          4.9706479556663865,
          5.0015184563969965
         ],
         "yaxis": "y"
        }
       ],
       "layout": {
        "showlegend": true,
        "template": {
         "data": {
          "bar": [
           {
            "error_x": {
             "color": "#2a3f5f"
            },
            "error_y": {
             "color": "#2a3f5f"
            },
            "marker": {
             "line": {
              "color": "#E5ECF6",
              "width": 0.5
             },
             "pattern": {
              "fillmode": "overlay",
              "size": 10,
              "solidity": 0.2
             }
            },
            "type": "bar"
           }
          ],
          "barpolar": [
           {
            "marker": {
             "line": {
              "color": "#E5ECF6",
              "width": 0.5
             },
             "pattern": {
              "fillmode": "overlay",
              "size": 10,
              "solidity": 0.2
             }
            },
            "type": "barpolar"
           }
          ],
          "carpet": [
           {
            "aaxis": {
             "endlinecolor": "#2a3f5f",
             "gridcolor": "white",
             "linecolor": "white",
             "minorgridcolor": "white",
             "startlinecolor": "#2a3f5f"
            },
            "baxis": {
             "endlinecolor": "#2a3f5f",
             "gridcolor": "white",
             "linecolor": "white",
             "minorgridcolor": "white",
             "startlinecolor": "#2a3f5f"
            },
            "type": "carpet"
           }
          ],
          "choropleth": [
           {
            "colorbar": {
             "outlinewidth": 0,
             "ticks": ""
            },
            "type": "choropleth"
           }
          ],
          "contour": [
           {
            "colorbar": {
             "outlinewidth": 0,
             "ticks": ""
            },
            "colorscale": [
             [
              0,
              "#0d0887"
             ],
             [
              0.1111111111111111,
              "#46039f"
             ],
             [
              0.2222222222222222,
              "#7201a8"
             ],
             [
              0.3333333333333333,
              "#9c179e"
             ],
             [
              0.4444444444444444,
              "#bd3786"
             ],
             [
              0.5555555555555556,
              "#d8576b"
             ],
             [
              0.6666666666666666,
              "#ed7953"
             ],
             [
              0.7777777777777778,
              "#fb9f3a"
             ],
             [
              0.8888888888888888,
              "#fdca26"
             ],
             [
              1,
              "#f0f921"
             ]
            ],
            "type": "contour"
           }
          ],
          "contourcarpet": [
           {
            "colorbar": {
             "outlinewidth": 0,
             "ticks": ""
            },
            "type": "contourcarpet"
           }
          ],
          "heatmap": [
           {
            "colorbar": {
             "outlinewidth": 0,
             "ticks": ""
            },
            "colorscale": [
             [
              0,
              "#0d0887"
             ],
             [
              0.1111111111111111,
              "#46039f"
             ],
             [
              0.2222222222222222,
              "#7201a8"
             ],
             [
              0.3333333333333333,
              "#9c179e"
             ],
             [
              0.4444444444444444,
              "#bd3786"
             ],
             [
              0.5555555555555556,
              "#d8576b"
             ],
             [
              0.6666666666666666,
              "#ed7953"
             ],
             [
              0.7777777777777778,
              "#fb9f3a"
             ],
             [
              0.8888888888888888,
              "#fdca26"
             ],
             [
              1,
              "#f0f921"
             ]
            ],
            "type": "heatmap"
           }
          ],
          "heatmapgl": [
           {
            "colorbar": {
             "outlinewidth": 0,
             "ticks": ""
            },
            "colorscale": [
             [
              0,
              "#0d0887"
             ],
             [
              0.1111111111111111,
              "#46039f"
             ],
             [
              0.2222222222222222,
              "#7201a8"
             ],
             [
              0.3333333333333333,
              "#9c179e"
             ],
             [
              0.4444444444444444,
              "#bd3786"
             ],
             [
              0.5555555555555556,
              "#d8576b"
             ],
             [
              0.6666666666666666,
              "#ed7953"
             ],
             [
              0.7777777777777778,
              "#fb9f3a"
             ],
             [
              0.8888888888888888,
              "#fdca26"
             ],
             [
              1,
              "#f0f921"
             ]
            ],
            "type": "heatmapgl"
           }
          ],
          "histogram": [
           {
            "marker": {
             "pattern": {
              "fillmode": "overlay",
              "size": 10,
              "solidity": 0.2
             }
            },
            "type": "histogram"
           }
          ],
          "histogram2d": [
           {
            "colorbar": {
             "outlinewidth": 0,
             "ticks": ""
            },
            "colorscale": [
             [
              0,
              "#0d0887"
             ],
             [
              0.1111111111111111,
              "#46039f"
             ],
             [
              0.2222222222222222,
              "#7201a8"
             ],
             [
              0.3333333333333333,
              "#9c179e"
             ],
             [
              0.4444444444444444,
              "#bd3786"
             ],
             [
              0.5555555555555556,
              "#d8576b"
             ],
             [
              0.6666666666666666,
              "#ed7953"
             ],
             [
              0.7777777777777778,
              "#fb9f3a"
             ],
             [
              0.8888888888888888,
              "#fdca26"
             ],
             [
              1,
              "#f0f921"
             ]
            ],
            "type": "histogram2d"
           }
          ],
          "histogram2dcontour": [
           {
            "colorbar": {
             "outlinewidth": 0,
             "ticks": ""
            },
            "colorscale": [
             [
              0,
              "#0d0887"
             ],
             [
              0.1111111111111111,
              "#46039f"
             ],
             [
              0.2222222222222222,
              "#7201a8"
             ],
             [
              0.3333333333333333,
              "#9c179e"
             ],
             [
              0.4444444444444444,
              "#bd3786"
             ],
             [
              0.5555555555555556,
              "#d8576b"
             ],
             [
              0.6666666666666666,
              "#ed7953"
             ],
             [
              0.7777777777777778,
              "#fb9f3a"
             ],
             [
              0.8888888888888888,
              "#fdca26"
             ],
             [
              1,
              "#f0f921"
             ]
            ],
            "type": "histogram2dcontour"
           }
          ],
          "mesh3d": [
           {
            "colorbar": {
             "outlinewidth": 0,
             "ticks": ""
            },
            "type": "mesh3d"
           }
          ],
          "parcoords": [
           {
            "line": {
             "colorbar": {
              "outlinewidth": 0,
              "ticks": ""
             }
            },
            "type": "parcoords"
           }
          ],
          "pie": [
           {
            "automargin": true,
            "type": "pie"
           }
          ],
          "scatter": [
           {
            "fillpattern": {
             "fillmode": "overlay",
             "size": 10,
             "solidity": 0.2
            },
            "type": "scatter"
           }
          ],
          "scatter3d": [
           {
            "line": {
             "colorbar": {
              "outlinewidth": 0,
              "ticks": ""
             }
            },
            "marker": {
             "colorbar": {
              "outlinewidth": 0,
              "ticks": ""
             }
            },
            "type": "scatter3d"
           }
          ],
          "scattercarpet": [
           {
            "marker": {
             "colorbar": {
              "outlinewidth": 0,
              "ticks": ""
             }
            },
            "type": "scattercarpet"
           }
          ],
          "scattergeo": [
           {
            "marker": {
             "colorbar": {
              "outlinewidth": 0,
              "ticks": ""
             }
            },
            "type": "scattergeo"
           }
          ],
          "scattergl": [
           {
            "marker": {
             "colorbar": {
              "outlinewidth": 0,
              "ticks": ""
             }
            },
            "type": "scattergl"
           }
          ],
          "scattermapbox": [
           {
            "marker": {
             "colorbar": {
              "outlinewidth": 0,
              "ticks": ""
             }
            },
            "type": "scattermapbox"
           }
          ],
          "scatterpolar": [
           {
            "marker": {
             "colorbar": {
              "outlinewidth": 0,
              "ticks": ""
             }
            },
            "type": "scatterpolar"
           }
          ],
          "scatterpolargl": [
           {
            "marker": {
             "colorbar": {
              "outlinewidth": 0,
              "ticks": ""
             }
            },
            "type": "scatterpolargl"
           }
          ],
          "scatterternary": [
           {
            "marker": {
             "colorbar": {
              "outlinewidth": 0,
              "ticks": ""
             }
            },
            "type": "scatterternary"
           }
          ],
          "surface": [
           {
            "colorbar": {
             "outlinewidth": 0,
             "ticks": ""
            },
            "colorscale": [
             [
              0,
              "#0d0887"
             ],
             [
              0.1111111111111111,
              "#46039f"
             ],
             [
              0.2222222222222222,
              "#7201a8"
             ],
             [
              0.3333333333333333,
              "#9c179e"
             ],
             [
              0.4444444444444444,
              "#bd3786"
             ],
             [
              0.5555555555555556,
              "#d8576b"
             ],
             [
              0.6666666666666666,
              "#ed7953"
             ],
             [
              0.7777777777777778,
              "#fb9f3a"
             ],
             [
              0.8888888888888888,
              "#fdca26"
             ],
             [
              1,
              "#f0f921"
             ]
            ],
            "type": "surface"
           }
          ],
          "table": [
           {
            "cells": {
             "fill": {
              "color": "#EBF0F8"
             },
             "line": {
              "color": "white"
             }
            },
            "header": {
             "fill": {
              "color": "#C8D4E3"
             },
             "line": {
              "color": "white"
             }
            },
            "type": "table"
           }
          ]
         },
         "layout": {
          "annotationdefaults": {
           "arrowcolor": "#2a3f5f",
           "arrowhead": 0,
           "arrowwidth": 1
          },
          "autotypenumbers": "strict",
          "coloraxis": {
           "colorbar": {
            "outlinewidth": 0,
            "ticks": ""
           }
          },
          "colorscale": {
           "diverging": [
            [
             0,
             "#8e0152"
            ],
            [
             0.1,
             "#c51b7d"
            ],
            [
             0.2,
             "#de77ae"
            ],
            [
             0.3,
             "#f1b6da"
            ],
            [
             0.4,
             "#fde0ef"
            ],
            [
             0.5,
             "#f7f7f7"
            ],
            [
             0.6,
             "#e6f5d0"
            ],
            [
             0.7,
             "#b8e186"
            ],
            [
             0.8,
             "#7fbc41"
            ],
            [
             0.9,
             "#4d9221"
            ],
            [
             1,
             "#276419"
            ]
           ],
           "sequential": [
            [
             0,
             "#0d0887"
            ],
            [
             0.1111111111111111,
             "#46039f"
            ],
            [
             0.2222222222222222,
             "#7201a8"
            ],
            [
             0.3333333333333333,
             "#9c179e"
            ],
            [
             0.4444444444444444,
             "#bd3786"
            ],
            [
             0.5555555555555556,
             "#d8576b"
            ],
            [
             0.6666666666666666,
             "#ed7953"
            ],
            [
             0.7777777777777778,
             "#fb9f3a"
            ],
            [
             0.8888888888888888,
             "#fdca26"
            ],
            [
             1,
             "#f0f921"
            ]
           ],
           "sequentialminus": [
            [
             0,
             "#0d0887"
            ],
            [
             0.1111111111111111,
             "#46039f"
            ],
            [
             0.2222222222222222,
             "#7201a8"
            ],
            [
             0.3333333333333333,
             "#9c179e"
            ],
            [
             0.4444444444444444,
             "#bd3786"
            ],
            [
             0.5555555555555556,
             "#d8576b"
            ],
            [
             0.6666666666666666,
             "#ed7953"
            ],
            [
             0.7777777777777778,
             "#fb9f3a"
            ],
            [
             0.8888888888888888,
             "#fdca26"
            ],
            [
             1,
             "#f0f921"
            ]
           ]
          },
          "colorway": [
           "#636efa",
           "#EF553B",
           "#00cc96",
           "#ab63fa",
           "#FFA15A",
           "#19d3f3",
           "#FF6692",
           "#B6E880",
           "#FF97FF",
           "#FECB52"
          ],
          "font": {
           "color": "#2a3f5f"
          },
          "geo": {
           "bgcolor": "white",
           "lakecolor": "white",
           "landcolor": "#E5ECF6",
           "showlakes": true,
           "showland": true,
           "subunitcolor": "white"
          },
          "hoverlabel": {
           "align": "left"
          },
          "hovermode": "closest",
          "mapbox": {
           "style": "light"
          },
          "paper_bgcolor": "white",
          "plot_bgcolor": "#E5ECF6",
          "polar": {
           "angularaxis": {
            "gridcolor": "white",
            "linecolor": "white",
            "ticks": ""
           },
           "bgcolor": "#E5ECF6",
           "radialaxis": {
            "gridcolor": "white",
            "linecolor": "white",
            "ticks": ""
           }
          },
          "scene": {
           "xaxis": {
            "backgroundcolor": "#E5ECF6",
            "gridcolor": "white",
            "gridwidth": 2,
            "linecolor": "white",
            "showbackground": true,
            "ticks": "",
            "zerolinecolor": "white"
           },
           "yaxis": {
            "backgroundcolor": "#E5ECF6",
            "gridcolor": "white",
            "gridwidth": 2,
            "linecolor": "white",
            "showbackground": true,
            "ticks": "",
            "zerolinecolor": "white"
           },
           "zaxis": {
            "backgroundcolor": "#E5ECF6",
            "gridcolor": "white",
            "gridwidth": 2,
            "linecolor": "white",
            "showbackground": true,
            "ticks": "",
            "zerolinecolor": "white"
           }
          },
          "shapedefaults": {
           "line": {
            "color": "#2a3f5f"
           }
          },
          "ternary": {
           "aaxis": {
            "gridcolor": "white",
            "linecolor": "white",
            "ticks": ""
           },
           "baxis": {
            "gridcolor": "white",
            "linecolor": "white",
            "ticks": ""
           },
           "bgcolor": "#E5ECF6",
           "caxis": {
            "gridcolor": "white",
            "linecolor": "white",
            "ticks": ""
           }
          },
          "title": {
           "x": 0.05
          },
          "xaxis": {
           "automargin": true,
           "gridcolor": "white",
           "linecolor": "white",
           "ticks": "",
           "title": {
            "standoff": 15
           },
           "zerolinecolor": "white",
           "zerolinewidth": 2
          },
          "yaxis": {
           "automargin": true,
           "gridcolor": "white",
           "linecolor": "white",
           "ticks": "",
           "title": {
            "standoff": 15
           },
           "zerolinecolor": "white",
           "zerolinewidth": 2
          }
         }
        },
        "title": {
         "text": "Indexation forecast"
        },
        "xaxis": {
         "anchor": "y",
         "domain": [
          0,
          1
         ]
        },
        "yaxis": {
         "anchor": "x",
         "domain": [
          0,
          1
         ]
        }
       }
      }
     },
     "metadata": {},
     "output_type": "display_data"
    }
   ],
   "source": [
    "\n",
    "\n",
    "# plot forecast\n",
    "fig = make_subplots(rows=1, cols=1)\n",
    "fig.add_trace(px.line(df, x='valid_since', y='index', title='Indexation').data[0], row=1, col=1)\n",
    "fig.add_trace(px.line(df, x='valid_since', y=arima_model_fit.fittedvalues, title='Indexation').data[0], row=1, col=1)\n",
    "fig.add_trace(px.line(forecast_df, x=forecast_df.index, y='mean', title='Indexation').data[0], row=1, col=1)\n",
    "fig.add_trace(px.line(forecast_df, x=forecast_df.index, y='mean_ci_lower', title='Indexation').data[0], row=1, col=1)\n",
    "fig.add_trace(px.line(forecast_df, x=forecast_df.index, y='mean_ci_upper', title='Indexation').data[0], row=1, col=1)\n",
    "\n",
    "# change color of trace\n",
    "# change color of trace \n",
    "fig.data[1].line.color = 'red'\n",
    "# add name \n",
    "fig.data[1].name = 'ARIMA model fit'\n",
    "# dashed line\n",
    "fig.data[1].line.dash = 'dash'\n",
    "\n",
    "# change color of trace\n",
    "fig.data[2].line.color = 'green'\n",
    "fig.data[3].line.color = 'grey'\n",
    "fig.data[4].line.color = 'purple'\n",
    "\n",
    "# add legend\n",
    "fig.update_layout(showlegend=True, title='Indexation forecast')\n",
    "\n",
    "fig.show()"
   ]
  },
  {
   "cell_type": "code",
   "execution_count": 314,
   "metadata": {},
   "outputs": [
    {
     "data": {
      "text/html": [
       "<div>\n",
       "<style scoped>\n",
       "    .dataframe tbody tr th:only-of-type {\n",
       "        vertical-align: middle;\n",
       "    }\n",
       "\n",
       "    .dataframe tbody tr th {\n",
       "        vertical-align: top;\n",
       "    }\n",
       "\n",
       "    .dataframe thead th {\n",
       "        text-align: right;\n",
       "    }\n",
       "</style>\n",
       "<table border=\"1\" class=\"dataframe\">\n",
       "  <thead>\n",
       "    <tr style=\"text-align: right;\">\n",
       "      <th>index</th>\n",
       "      <th>mean</th>\n",
       "      <th>mean_se</th>\n",
       "      <th>mean_ci_lower</th>\n",
       "      <th>mean_ci_upper</th>\n",
       "    </tr>\n",
       "  </thead>\n",
       "  <tbody>\n",
       "    <tr>\n",
       "      <th>2022-10-31</th>\n",
       "      <td>1.950412</td>\n",
       "      <td>0.005513</td>\n",
       "      <td>1.939606</td>\n",
       "      <td>1.961217</td>\n",
       "    </tr>\n",
       "    <tr>\n",
       "      <th>2023-10-31</th>\n",
       "      <td>1.978623</td>\n",
       "      <td>0.007930</td>\n",
       "      <td>1.963080</td>\n",
       "      <td>1.994166</td>\n",
       "    </tr>\n",
       "    <tr>\n",
       "      <th>2024-10-31</th>\n",
       "      <td>2.006833</td>\n",
       "      <td>0.009875</td>\n",
       "      <td>1.987479</td>\n",
       "      <td>2.026187</td>\n",
       "    </tr>\n",
       "    <tr>\n",
       "      <th>2025-10-31</th>\n",
       "      <td>2.035042</td>\n",
       "      <td>0.011588</td>\n",
       "      <td>2.012330</td>\n",
       "      <td>2.057755</td>\n",
       "    </tr>\n",
       "    <tr>\n",
       "      <th>2026-10-31</th>\n",
       "      <td>2.063250</td>\n",
       "      <td>0.013162</td>\n",
       "      <td>2.037453</td>\n",
       "      <td>2.089048</td>\n",
       "    </tr>\n",
       "    <tr>\n",
       "      <th>...</th>\n",
       "      <td>...</td>\n",
       "      <td>...</td>\n",
       "      <td>...</td>\n",
       "      <td>...</td>\n",
       "    </tr>\n",
       "    <tr>\n",
       "      <th>2117-10-31</th>\n",
       "      <td>4.626443</td>\n",
       "      <td>0.128384</td>\n",
       "      <td>4.374816</td>\n",
       "      <td>4.878071</td>\n",
       "    </tr>\n",
       "    <tr>\n",
       "      <th>2118-10-31</th>\n",
       "      <td>4.654569</td>\n",
       "      <td>0.129775</td>\n",
       "      <td>4.400214</td>\n",
       "      <td>4.908924</td>\n",
       "    </tr>\n",
       "    <tr>\n",
       "      <th>2119-10-31</th>\n",
       "      <td>4.682694</td>\n",
       "      <td>0.131170</td>\n",
       "      <td>4.425605</td>\n",
       "      <td>4.939783</td>\n",
       "    </tr>\n",
       "    <tr>\n",
       "      <th>2120-10-31</th>\n",
       "      <td>4.710818</td>\n",
       "      <td>0.132569</td>\n",
       "      <td>4.450988</td>\n",
       "      <td>4.970648</td>\n",
       "    </tr>\n",
       "    <tr>\n",
       "      <th>2121-10-31</th>\n",
       "      <td>4.738941</td>\n",
       "      <td>0.133971</td>\n",
       "      <td>4.476363</td>\n",
       "      <td>5.001518</td>\n",
       "    </tr>\n",
       "  </tbody>\n",
       "</table>\n",
       "<p>100 rows × 4 columns</p>\n",
       "</div>"
      ],
      "text/plain": [
       "index           mean   mean_se  mean_ci_lower  mean_ci_upper\n",
       "2022-10-31  1.950412  0.005513       1.939606       1.961217\n",
       "2023-10-31  1.978623  0.007930       1.963080       1.994166\n",
       "2024-10-31  2.006833  0.009875       1.987479       2.026187\n",
       "2025-10-31  2.035042  0.011588       2.012330       2.057755\n",
       "2026-10-31  2.063250  0.013162       2.037453       2.089048\n",
       "...              ...       ...            ...            ...\n",
       "2117-10-31  4.626443  0.128384       4.374816       4.878071\n",
       "2118-10-31  4.654569  0.129775       4.400214       4.908924\n",
       "2119-10-31  4.682694  0.131170       4.425605       4.939783\n",
       "2120-10-31  4.710818  0.132569       4.450988       4.970648\n",
       "2121-10-31  4.738941  0.133971       4.476363       5.001518\n",
       "\n",
       "[100 rows x 4 columns]"
      ]
     },
     "execution_count": 314,
     "metadata": {},
     "output_type": "execute_result"
    }
   ],
   "source": [
    "# show data of prediction\n",
    "forecast_df"
   ]
  },
  {
   "cell_type": "code",
   "execution_count": 315,
   "metadata": {},
   "outputs": [
    {
     "data": {
      "text/html": [
       "<div>\n",
       "<style scoped>\n",
       "    .dataframe tbody tr th:only-of-type {\n",
       "        vertical-align: middle;\n",
       "    }\n",
       "\n",
       "    .dataframe tbody tr th {\n",
       "        vertical-align: top;\n",
       "    }\n",
       "\n",
       "    .dataframe thead th {\n",
       "        text-align: right;\n",
       "    }\n",
       "</style>\n",
       "<table border=\"1\" class=\"dataframe\">\n",
       "  <thead>\n",
       "    <tr style=\"text-align: right;\">\n",
       "      <th></th>\n",
       "      <th>index</th>\n",
       "      <th>coefficient</th>\n",
       "    </tr>\n",
       "    <tr>\n",
       "      <th>valid_since</th>\n",
       "      <th></th>\n",
       "      <th></th>\n",
       "    </tr>\n",
       "  </thead>\n",
       "  <tbody>\n",
       "    <tr>\n",
       "      <th>1950-01-01</th>\n",
       "      <td>0.2000</td>\n",
       "      <td>1.00</td>\n",
       "    </tr>\n",
       "    <tr>\n",
       "      <th>1955-01-01</th>\n",
       "      <td>0.2300</td>\n",
       "      <td>1.00</td>\n",
       "    </tr>\n",
       "    <tr>\n",
       "      <th>1960-01-01</th>\n",
       "      <td>0.2700</td>\n",
       "      <td>1.00</td>\n",
       "    </tr>\n",
       "    <tr>\n",
       "      <th>1970-01-01</th>\n",
       "      <td>0.3300</td>\n",
       "      <td>1.00</td>\n",
       "    </tr>\n",
       "    <tr>\n",
       "      <th>1975-01-01</th>\n",
       "      <td>0.5000</td>\n",
       "      <td>1.00</td>\n",
       "    </tr>\n",
       "    <tr>\n",
       "      <th>...</th>\n",
       "      <td>...</td>\n",
       "      <td>...</td>\n",
       "    </tr>\n",
       "    <tr>\n",
       "      <th>2117-10-31</th>\n",
       "      <td>4.6264</td>\n",
       "      <td>0.42</td>\n",
       "    </tr>\n",
       "    <tr>\n",
       "      <th>2118-10-31</th>\n",
       "      <td>4.6546</td>\n",
       "      <td>0.42</td>\n",
       "    </tr>\n",
       "    <tr>\n",
       "      <th>2119-10-31</th>\n",
       "      <td>4.6827</td>\n",
       "      <td>0.42</td>\n",
       "    </tr>\n",
       "    <tr>\n",
       "      <th>2120-10-31</th>\n",
       "      <td>4.7108</td>\n",
       "      <td>0.41</td>\n",
       "    </tr>\n",
       "    <tr>\n",
       "      <th>2121-10-31</th>\n",
       "      <td>4.7389</td>\n",
       "      <td>0.41</td>\n",
       "    </tr>\n",
       "  </tbody>\n",
       "</table>\n",
       "<p>141 rows × 2 columns</p>\n",
       "</div>"
      ],
      "text/plain": [
       "              index  coefficient\n",
       "valid_since                     \n",
       "1950-01-01   0.2000         1.00\n",
       "1955-01-01   0.2300         1.00\n",
       "1960-01-01   0.2700         1.00\n",
       "1970-01-01   0.3300         1.00\n",
       "1975-01-01   0.5000         1.00\n",
       "...             ...          ...\n",
       "2117-10-31   4.6264         0.42\n",
       "2118-10-31   4.6546         0.42\n",
       "2119-10-31   4.6827         0.42\n",
       "2120-10-31   4.7108         0.41\n",
       "2121-10-31   4.7389         0.41\n",
       "\n",
       "[141 rows x 2 columns]"
      ]
     },
     "execution_count": 315,
     "metadata": {},
     "output_type": "execute_result"
    }
   ],
   "source": [
    "# add column to df\n",
    "df['coefficient'] = 1\n",
    "\n",
    "# drop rank\n",
    "df = df.drop(columns=['rank'])\n",
    "df = df.drop(columns=['valid_since'])\n",
    "\n",
    "forecast_to_combine_df = forecast_df.copy()\n",
    "\n",
    "# add coefficient to forecast based on the prediction of arima\n",
    "forecast_to_combine_df['coefficient'] = forecast_to_combine_df['mean'] / forecast_to_combine_df['mean'].iloc[0]\n",
    "\n",
    "forecast_to_combine_df['coefficient'] = round(1 / forecast_to_combine_df['coefficient'], 2)\n",
    "\n",
    "forecast_to_combine_df['index'] = round(forecast_to_combine_df['mean'], 4)\n",
    "forecast_to_combine_df = forecast_to_combine_df.drop(columns=['mean', 'mean_se', 'mean_ci_lower', 'mean_ci_upper'])\n",
    "\n",
    "# combine data of prediction with original data\n",
    "df = pd.concat([df, forecast_to_combine_df], axis=0)\n",
    "\n",
    "# name to index\n",
    "df.index.name = 'valid_since'\n",
    "\n",
    "# append a new row at the beginning of the dataframe\n",
    "# df = df.append({'valid_since': '1950-01-01', 'index': 1, 'coefficient': 1})\n",
    "\n",
    "# valid_since,index,coefficient\n",
    "# 1950-01-01,0.20,1.0\n",
    "# 1955-01-01,0.23,1.0\n",
    "# 1960-01-01,0.27,1.0\n",
    "# 1970-01-01,0.33,1.0\n",
    "# 1975-01-01,0.50,1.0\n",
    "# 1980-01-01,0.67,1.0\n",
    "# 1985-06-01,0.83,1.0\n",
    "\n",
    "# append a new row at the beginning of the csv file\n",
    "\n",
    "new_df = pd.DataFrame({\n",
    "    'valid_since': ['1950-01-01', '1955-01-01', '1960-01-01', '1970-01-01', '1975-01-01', '1980-01-01', '1985-06-01'], \n",
    "    'index': [0.20, 0.23, 0.27, 0.33, 0.50, 0.67, 0.83], \n",
    "    'coefficient': [1.0, 1.0, 1.0, 1.0, 1.0, 1.0, 1.0]\n",
    "    })\n",
    "\n",
    "new_df.index = pd.to_datetime(new_df['valid_since'], format='%Y-%m-%d')\n",
    "\n",
    "new_df.drop(columns=['valid_since'], inplace=True)\n",
    "\n",
    "# combine new_df with df\n",
    "df = pd.concat([new_df, df], axis=0)\n",
    "\n",
    "df.to_csv('./index_df_with_prediction.csv')\n",
    "\n",
    "df\n"
   ]
  }
 ],
 "metadata": {
  "kernelspec": {
   "display_name": "Python 3.10.6 64-bit",
   "language": "python",
   "name": "python3"
  },
  "language_info": {
   "codemirror_mode": {
    "name": "ipython",
    "version": 3
   },
   "file_extension": ".py",
   "mimetype": "text/x-python",
   "name": "python",
   "nbconvert_exporter": "python",
   "pygments_lexer": "ipython3",
   "version": "3.10.6"
  },
  "orig_nbformat": 4,
  "vscode": {
   "interpreter": {
    "hash": "b0fa6594d8f4cbf19f97940f81e996739fb7646882a419484c72d19e05852a7e"
   }
  }
 },
 "nbformat": 4,
 "nbformat_minor": 2
}
