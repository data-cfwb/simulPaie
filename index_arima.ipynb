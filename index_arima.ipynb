{
 "cells": [
  {
   "cell_type": "markdown",
   "metadata": {},
   "source": [
    "## **WARNING**: This exercise is currently not working. This is a work in progress. Please check back later.\n",
    "\n",
    "# Prediction of index using ARIMA\n",
    "\n",
    "This notebook shows how to use ARIMA to predict the index of a time series. \n",
    "\n",
    "Author: Martin Erpicum\n",
    "\n",
    "\n",
    "## Importing the libraries"
   ]
  },
  {
   "cell_type": "code",
   "execution_count": 1,
   "metadata": {},
   "outputs": [
    {
     "name": "stdout",
     "output_type": "stream",
     "text": [
      "Requirement already satisfied: statsmodels in /opt/homebrew/lib/python3.10/site-packages (0.13.2)\n",
      "Requirement already satisfied: packaging>=21.3 in /opt/homebrew/lib/python3.10/site-packages (from statsmodels) (21.3)\n",
      "Requirement already satisfied: numpy>=1.17 in /opt/homebrew/lib/python3.10/site-packages (from statsmodels) (1.23.2)\n",
      "Requirement already satisfied: patsy>=0.5.2 in /opt/homebrew/lib/python3.10/site-packages (from statsmodels) (0.5.3)\n",
      "Requirement already satisfied: pandas>=0.25 in /opt/homebrew/lib/python3.10/site-packages (from statsmodels) (1.4.3)\n",
      "Requirement already satisfied: scipy>=1.3 in /opt/homebrew/lib/python3.10/site-packages (from statsmodels) (1.9.2)\n",
      "Requirement already satisfied: pyparsing!=3.0.5,>=2.0.2 in /opt/homebrew/lib/python3.10/site-packages (from packaging>=21.3->statsmodels) (3.0.9)\n",
      "Requirement already satisfied: pytz>=2020.1 in /opt/homebrew/lib/python3.10/site-packages (from pandas>=0.25->statsmodels) (2022.2.1)\n",
      "Requirement already satisfied: python-dateutil>=2.8.1 in /opt/homebrew/lib/python3.10/site-packages (from pandas>=0.25->statsmodels) (2.8.2)\n",
      "Requirement already satisfied: six in /opt/homebrew/lib/python3.10/site-packages (from patsy>=0.5.2->statsmodels) (1.16.0)\n"
     ]
    }
   ],
   "source": [
    "!pip3 install statsmodels\n",
    "import pandas as pd\n",
    "import plotly.express as px\n",
    "from plotly.subplots import make_subplots\n",
    "from statsmodels.tsa.arima.model import ARIMA\n",
    "import matplotlib.pyplot as plt\n",
    "import datetime as dt"
   ]
  },
  {
   "cell_type": "code",
   "execution_count": 2,
   "metadata": {},
   "outputs": [],
   "source": [
    "\n",
    "df = pd.read_csv('./index_df.csv', sep=';')\n",
    "\n",
    "df['valid_since'] = pd.to_datetime(df['valid_since'], format='%d/%m/%Y')\n",
    "df.index = df['valid_since']\n",
    "df['index'] = df['index'].str.replace(',', '.').astype(float)\n",
    "df.head()\n",
    "\n",
    "# split train and test\n",
    "train = df.iloc[:-12]\n",
    "test = df.iloc[-12:]"
   ]
  },
  {
   "cell_type": "code",
   "execution_count": 3,
   "metadata": {},
   "outputs": [
    {
     "name": "stdout",
     "output_type": "stream",
     "text": [
      "                               SARIMAX Results                                \n",
      "==============================================================================\n",
      "Dep. Variable:                  index   No. Observations:                   43\n",
      "Model:                 ARIMA(1, 1, 1)   Log Likelihood                 125.364\n",
      "Date:                Mon, 28 Nov 2022   AIC                           -244.728\n",
      "Time:                        09:33:30   BIC                           -239.515\n",
      "Sample:                             0   HQIC                          -242.817\n",
      "                                 - 43                                         \n",
      "Covariance Type:                  opg                                         \n",
      "==============================================================================\n",
      "                 coef    std err          z      P>|z|      [0.025      0.975]\n",
      "------------------------------------------------------------------------------\n",
      "ar.L1          0.9979      0.009    108.338      0.000       0.980       1.016\n",
      "ma.L1         -0.8472      0.080    -10.613      0.000      -1.004      -0.691\n",
      "sigma2         0.0001   1.46e-05      9.544      0.000       0.000       0.000\n",
      "===================================================================================\n",
      "Ljung-Box (L1) (Q):                   0.36   Jarque-Bera (JB):               175.47\n",
      "Prob(Q):                              0.55   Prob(JB):                         0.00\n",
      "Heteroskedasticity (H):              42.24   Skew:                            -1.10\n",
      "Prob(H) (two-sided):                  0.00   Kurtosis:                        12.77\n",
      "===================================================================================\n",
      "\n",
      "Warnings:\n",
      "[1] Covariance matrix calculated using the outer product of gradients (complex-step).\n"
     ]
    },
    {
     "name": "stderr",
     "output_type": "stream",
     "text": [
      "/opt/homebrew/lib/python3.10/site-packages/statsmodels/tsa/base/tsa_model.py:471: ValueWarning: A date index has been provided, but it has no associated frequency information and so will be ignored when e.g. forecasting.\n",
      "  self._init_dates(dates, freq)\n",
      "/opt/homebrew/lib/python3.10/site-packages/statsmodels/tsa/base/tsa_model.py:471: ValueWarning: A date index has been provided, but it has no associated frequency information and so will be ignored when e.g. forecasting.\n",
      "  self._init_dates(dates, freq)\n",
      "/opt/homebrew/lib/python3.10/site-packages/statsmodels/tsa/base/tsa_model.py:471: ValueWarning: A date index has been provided, but it has no associated frequency information and so will be ignored when e.g. forecasting.\n",
      "  self._init_dates(dates, freq)\n",
      "/opt/homebrew/lib/python3.10/site-packages/statsmodels/tsa/statespace/sarimax.py:966: UserWarning: Non-stationary starting autoregressive parameters found. Using zeros as starting parameters.\n",
      "  warn('Non-stationary starting autoregressive parameters'\n"
     ]
    }
   ],
   "source": [
    "arima_model = ARIMA(df['index'], order=(1, 1, 1))\n",
    "arima_model_fit = arima_model.fit()\n",
    "print(arima_model_fit.summary())"
   ]
  },
  {
   "cell_type": "code",
   "execution_count": 4,
   "metadata": {},
   "outputs": [
    {
     "data": {
      "image/png": "[encoded data removed]",
      "text/plain": [
       "<Figure size 640x480 with 4 Axes>"
      ]
     },
     "metadata": {},
     "output_type": "display_data"
    }
   ],
   "source": [
    "# plot arima model fit\n",
    "arima_model_fit.plot_diagnostics()\n",
    "plt.show()\n"
   ]
  },
  {
   "cell_type": "code",
   "execution_count": 5,
   "metadata": {},
   "outputs": [
    {
     "data": {
      "application/vnd.plotly.v1+json": {
       "config": {
        "plotlyServerURL": "https://plot.ly"
       },
       "data": [
        {
         "hovertemplate": "valid_since=%{x}<br>index=%{y}<extra></extra>",
         "legendgroup": "",
         "line": {
          "color": "#636efa",
          "dash": "solid"
         },
         "marker": {
          "symbol": "circle"
         },
         "mode": "lines",
         "name": "",
         "orientation": "v",
         "showlegend": false,
         "type": "scatter",
         "x": [
          "1990-01-01T00:00:00",
          "1990-02-01T00:00:00",
          "1990-10-01T00:00:00",
          "1991-03-01T00:00:00",
          "1991-12-01T00:00:00",
          "1992-10-01T00:00:00",
          "1993-07-01T00:00:00",
          "1994-11-01T00:00:00",
          "1996-05-01T00:00:00",
          "1997-10-01T00:00:00",
          "1999-06-01T00:00:00",
          "2000-09-01T00:00:00",
          "2001-07-01T00:00:00",
          "2002-03-01T00:00:00",
          "2003-07-01T00:00:00",
          "2004-11-01T00:00:00",
          "2005-09-01T00:00:00",
          "2006-11-01T00:00:00",
          "2008-02-01T00:00:00",
          "2008-06-01T00:00:00",
          "2008-10-01T00:00:00",
          "2010-10-01T00:00:00",
          "2011-06-01T00:00:00",
          "2012-03-01T00:00:00",
          "2013-01-01T00:00:00",
          "2016-07-01T00:00:00",
          "2017-07-01T00:00:00",
          "2018-10-01T00:00:00",
          "2020-04-01T00:00:00",
          "2021-10-01T00:00:00",
          "2022-02-01T00:00:00",
          "2022-04-01T00:00:00",
          "2022-06-01T00:00:00",
          "2022-09-01T00:00:00",
          "2022-12-01T00:00:00",
          "2023-01-01T00:00:00",
          "2023-02-01T00:00:00",
          "2023-03-01T00:00:00",
          "2023-04-01T00:00:00",
          "2023-05-01T00:00:00",
          "2023-06-01T00:00:00",
          "2023-07-01T00:00:00",
          "2023-08-01T00:00:00"
         ],
         "xaxis": "x",
         "y": [
          1,
          1.02,
          1.0404,
          1.0612,
          1.0824,
          1.1041,
          1.1262,
          1.1487,
          1.1717,
          1.1951,
          1.219,
          1.2434,
          1.2682,
          1.2936,
          1.3195,
          1.3459,
          1.3718,
          1.4002,
          1.4282,
          1.4568,
          1.4859,
          1.5157,
          1.546,
          1.5769,
          1.6084,
          1.6406,
          1.6734,
          1.7069,
          1.741,
          1.7758,
          1.8114,
          1.8476,
          1.8845,
          1.9222,
          1.9607,
          2.0398,
          2.0806,
          2.0806,
          2.1222,
          2.1646,
          2.1646,
          2.2079,
          2.2521
         ],
         "yaxis": "y"
        },
        {
         "hovertemplate": "valid_since=%{x}<br>y=%{y}<extra></extra>",
         "legendgroup": "",
         "line": {
          "color": "red",
          "dash": "dash"
         },
         "marker": {
          "symbol": "circle"
         },
         "mode": "lines",
         "name": "ARIMA model fit",
         "orientation": "v",
         "showlegend": false,
         "type": "scatter",
         "x": [
          "1990-01-01T00:00:00",
          "1990-02-01T00:00:00",
          "1990-10-01T00:00:00",
          "1991-03-01T00:00:00",
          "1991-12-01T00:00:00",
          "1992-10-01T00:00:00",
          "1993-07-01T00:00:00",
          "1994-11-01T00:00:00",
          "1996-05-01T00:00:00",
          "1997-10-01T00:00:00",
          "1999-06-01T00:00:00",
          "2000-09-01T00:00:00",
          "2001-07-01T00:00:00",
          "2002-03-01T00:00:00",
          "2003-07-01T00:00:00",
          "2004-11-01T00:00:00",
          "2005-09-01T00:00:00",
          "2006-11-01T00:00:00",
          "2008-02-01T00:00:00",
          "2008-06-01T00:00:00",
          "2008-10-01T00:00:00",
          "2010-10-01T00:00:00",
          "2011-06-01T00:00:00",
          "2012-03-01T00:00:00",
          "2013-01-01T00:00:00",
          "2016-07-01T00:00:00",
          "2017-07-01T00:00:00",
          "2018-10-01T00:00:00",
          "2020-04-01T00:00:00",
          "2021-10-01T00:00:00",
          "2022-02-01T00:00:00",
          "2022-04-01T00:00:00",
          "2022-06-01T00:00:00",
          "2022-09-01T00:00:00",
          "2022-12-01T00:00:00",
          "2023-01-01T00:00:00",
          "2023-02-01T00:00:00",
          "2023-03-01T00:00:00",
          "2023-04-01T00:00:00",
          "2023-05-01T00:00:00",
          "2023-06-01T00:00:00",
          "2023-07-01T00:00:00",
          "2023-08-01T00:00:00"
         ],
         "xaxis": "x",
         "y": [
          0,
          1.0000000007619183,
          1.037280504125087,
          1.05910921360444,
          1.0805613263959153,
          1.1022035016134968,
          1.124286576645169,
          1.1467269675472713,
          1.169548052865078,
          1.1928792567269053,
          1.2166060436231665,
          1.240849391426221,
          1.2656087024921858,
          1.2907674342273345,
          1.3165583382202215,
          1.3428617171514174,
          1.369676440808021,
          1.395849094688577,
          1.4248583955665621,
          1.4533120877376597,
          1.482386180702264,
          1.5119626050033788,
          1.5422713592757116,
          1.573077391793914,
          1.604496294567651,
          1.6365261548082928,
          1.6692804167722672,
          1.702640300754148,
          1.7367200456481386,
          1.7714015579843088,
          1.8067996532299553,
          1.843026876818274,
          1.879848640138856,
          1.9173808542213662,
          1.9557369959517814,
          1.9949134000426083,
          2.0807050994317366,
          2.1214020150419604,
          2.115165896535846,
          2.1577522508635747,
          2.2011084167795394,
          2.195528525363057,
          2.2406270095781844
         ],
         "yaxis": "y"
        }
       ],
       "layout": {
        "legend": {
         "x": 0.01,
         "xanchor": "left",
         "y": 0.99,
         "yanchor": "top"
        },
        "showlegend": true,
        "template": {
         "data": {
          "bar": [
           {
            "error_x": {
             "color": "#2a3f5f"
            },
            "error_y": {
             "color": "#2a3f5f"
            },
            "marker": {
             "line": {
              "color": "#E5ECF6",
              "width": 0.5
             },
             "pattern": {
              "fillmode": "overlay",
              "size": 10,
              "solidity": 0.2
             }
            },
            "type": "bar"
           }
          ],
          "barpolar": [
           {
            "marker": {
             "line": {
              "color": "#E5ECF6",
              "width": 0.5
             },
             "pattern": {
              "fillmode": "overlay",
              "size": 10,
              "solidity": 0.2
             }
            },
            "type": "barpolar"
           }
          ],
          "carpet": [
           {
            "aaxis": {
             "endlinecolor": "#2a3f5f",
             "gridcolor": "white",
             "linecolor": "white",
             "minorgridcolor": "white",
             "startlinecolor": "#2a3f5f"
            },
            "baxis": {
             "endlinecolor": "#2a3f5f",
             "gridcolor": "white",
             "linecolor": "white",
             "minorgridcolor": "white",
             "startlinecolor": "#2a3f5f"
            },
            "type": "carpet"
           }
          ],
          "choropleth": [
           {
            "colorbar": {
             "outlinewidth": 0,
             "ticks": ""
            },
            "type": "choropleth"
           }
          ],
          "contour": [
           {
            "colorbar": {
             "outlinewidth": 0,
             "ticks": ""
            },
            "colorscale": [
             [
              0,
              "#0d0887"
             ],
             [
              0.1111111111111111,
              "#46039f"
             ],
             [
              0.2222222222222222,
              "#7201a8"
             ],
             [
              0.3333333333333333,
              "#9c179e"
             ],
             [
              0.4444444444444444,
              "#bd3786"
             ],
             [
              0.5555555555555556,
              "#d8576b"
             ],
             [
              0.6666666666666666,
              "#ed7953"
             ],
             [
              0.7777777777777778,
              "#fb9f3a"
             ],
             [
              0.8888888888888888,
              "#fdca26"
             ],
             [
              1,
              "#f0f921"
             ]
            ],
            "type": "contour"
           }
          ],
          "contourcarpet": [
           {
            "colorbar": {
             "outlinewidth": 0,
             "ticks": ""
            },
            "type": "contourcarpet"
           }
          ],
          "heatmap": [
           {
            "colorbar": {
             "outlinewidth": 0,
             "ticks": ""
            },
            "colorscale": [
             [
              0,
              "#0d0887"
             ],
             [
              0.1111111111111111,
              "#46039f"
             ],
             [
              0.2222222222222222,
              "#7201a8"
             ],
             [
              0.3333333333333333,
              "#9c179e"
             ],
             [
              0.4444444444444444,
              "#bd3786"
             ],
             [
              0.5555555555555556,
              "#d8576b"
             ],
             [
              0.6666666666666666,
              "#ed7953"
             ],
             [
              0.7777777777777778,
              "#fb9f3a"
             ],
             [
              0.8888888888888888,
              "#fdca26"
             ],
             [
              1,
              "#f0f921"
             ]
            ],
            "type": "heatmap"
           }
          ],
          "heatmapgl": [
           {
            "colorbar": {
             "outlinewidth": 0,
             "ticks": ""
            },
            "colorscale": [
             [
              0,
              "#0d0887"
             ],
             [
              0.1111111111111111,
              "#46039f"
             ],
             [
              0.2222222222222222,
              "#7201a8"
             ],
             [
              0.3333333333333333,
              "#9c179e"
             ],
             [
              0.4444444444444444,
              "#bd3786"
             ],
             [
              0.5555555555555556,
              "#d8576b"
             ],
             [
              0.6666666666666666,
              "#ed7953"
             ],
             [
              0.7777777777777778,
              "#fb9f3a"
             ],
             [
              0.8888888888888888,
              "#fdca26"
             ],
             [
              1,
              "#f0f921"
             ]
            ],
            "type": "heatmapgl"
           }
          ],
          "histogram": [
           {
            "marker": {
             "pattern": {
              "fillmode": "overlay",
              "size": 10,
              "solidity": 0.2
             }
            },
            "type": "histogram"
           }
          ],
          "histogram2d": [
           {
            "colorbar": {
             "outlinewidth": 0,
             "ticks": ""
            },
            "colorscale": [
             [
              0,
              "#0d0887"
             ],
             [
              0.1111111111111111,
              "#46039f"
             ],
             [
              0.2222222222222222,
              "#7201a8"
             ],
             [
              0.3333333333333333,
              "#9c179e"
             ],
             [
              0.4444444444444444,
              "#bd3786"
             ],
             [
              0.5555555555555556,
              "#d8576b"
             ],
             [
              0.6666666666666666,
              "#ed7953"
             ],
             [
              0.7777777777777778,
              "#fb9f3a"
             ],
             [
              0.8888888888888888,
              "#fdca26"
             ],
             [
              1,
              "#f0f921"
             ]
            ],
            "type": "histogram2d"
           }
          ],
          "histogram2dcontour": [
           {
            "colorbar": {
             "outlinewidth": 0,
             "ticks": ""
            },
            "colorscale": [
             [
              0,
              "#0d0887"
             ],
             [
              0.1111111111111111,
              "#46039f"
             ],
             [
              0.2222222222222222,
              "#7201a8"
             ],
             [
              0.3333333333333333,
              "#9c179e"
             ],
             [
              0.4444444444444444,
              "#bd3786"
             ],
             [
              0.5555555555555556,
              "#d8576b"
             ],
             [
              0.6666666666666666,
              "#ed7953"
             ],
             [
              0.7777777777777778,
              "#fb9f3a"
             ],
             [
              0.8888888888888888,
              "#fdca26"
             ],
             [
              1,
              "#f0f921"
             ]
            ],
            "type": "histogram2dcontour"
           }
          ],
          "mesh3d": [
           {
            "colorbar": {
             "outlinewidth": 0,
             "ticks": ""
            },
            "type": "mesh3d"
           }
          ],
          "parcoords": [
           {
            "line": {
             "colorbar": {
              "outlinewidth": 0,
              "ticks": ""
             }
            },
            "type": "parcoords"
           }
          ],
          "pie": [
           {
            "automargin": true,
            "type": "pie"
           }
          ],
          "scatter": [
           {
            "fillpattern": {
             "fillmode": "overlay",
             "size": 10,
             "solidity": 0.2
            },
            "type": "scatter"
           }
          ],
          "scatter3d": [
           {
            "line": {
             "colorbar": {
              "outlinewidth": 0,
              "ticks": ""
             }
            },
            "marker": {
             "colorbar": {
              "outlinewidth": 0,
              "ticks": ""
             }
            },
            "type": "scatter3d"
           }
          ],
          "scattercarpet": [
           {
            "marker": {
             "colorbar": {
              "outlinewidth": 0,
              "ticks": ""
             }
            },
            "type": "scattercarpet"
           }
          ],
          "scattergeo": [
           {
            "marker": {
             "colorbar": {
              "outlinewidth": 0,
              "ticks": ""
             }
            },
            "type": "scattergeo"
           }
          ],
          "scattergl": [
           {
            "marker": {
             "colorbar": {
              "outlinewidth": 0,
              "ticks": ""
             }
            },
            "type": "scattergl"
           }
          ],
          "scattermapbox": [
           {
            "marker": {
             "colorbar": {
              "outlinewidth": 0,
              "ticks": ""
             }
            },
            "type": "scattermapbox"
           }
          ],
          "scatterpolar": [
           {
            "marker": {
             "colorbar": {
              "outlinewidth": 0,
              "ticks": ""
             }
            },
            "type": "scatterpolar"
           }
          ],
          "scatterpolargl": [
           {
            "marker": {
             "colorbar": {
              "outlinewidth": 0,
              "ticks": ""
             }
            },
            "type": "scatterpolargl"
           }
          ],
          "scatterternary": [
           {
            "marker": {
             "colorbar": {
              "outlinewidth": 0,
              "ticks": ""
             }
            },
            "type": "scatterternary"
           }
          ],
          "surface": [
           {
            "colorbar": {
             "outlinewidth": 0,
             "ticks": ""
            },
            "colorscale": [
             [
              0,
              "#0d0887"
             ],
             [
              0.1111111111111111,
              "#46039f"
             ],
             [
              0.2222222222222222,
              "#7201a8"
             ],
             [
              0.3333333333333333,
              "#9c179e"
             ],
             [
              0.4444444444444444,
              "#bd3786"
             ],
             [
              0.5555555555555556,
              "#d8576b"
             ],
             [
              0.6666666666666666,
              "#ed7953"
             ],
             [
              0.7777777777777778,
              "#fb9f3a"
             ],
             [
              0.8888888888888888,
              "#fdca26"
             ],
             [
              1,
              "#f0f921"
             ]
            ],
            "type": "surface"
           }
          ],
          "table": [
           {
            "cells": {
             "fill": {
              "color": "#EBF0F8"
             },
             "line": {
              "color": "white"
             }
            },
            "header": {
             "fill": {
              "color": "#C8D4E3"
             },
             "line": {
              "color": "white"
             }
            },
            "type": "table"
           }
          ]
         },
         "layout": {
          "annotationdefaults": {
           "arrowcolor": "#2a3f5f",
           "arrowhead": 0,
           "arrowwidth": 1
          },
          "autotypenumbers": "strict",
          "coloraxis": {
           "colorbar": {
            "outlinewidth": 0,
            "ticks": ""
           }
          },
          "colorscale": {
           "diverging": [
            [
             0,
             "#8e0152"
            ],
            [
             0.1,
             "#c51b7d"
            ],
            [
             0.2,
             "#de77ae"
            ],
            [
             0.3,
             "#f1b6da"
            ],
            [
             0.4,
             "#fde0ef"
            ],
            [
             0.5,
             "#f7f7f7"
            ],
            [
             0.6,
             "#e6f5d0"
            ],
            [
             0.7,
             "#b8e186"
            ],
            [
             0.8,
             "#7fbc41"
            ],
            [
             0.9,
             "#4d9221"
            ],
            [
             1,
             "#276419"
            ]
           ],
           "sequential": [
            [
             0,
             "#0d0887"
            ],
            [
             0.1111111111111111,
             "#46039f"
            ],
            [
             0.2222222222222222,
             "#7201a8"
            ],
            [
             0.3333333333333333,
             "#9c179e"
            ],
            [
             0.4444444444444444,
             "#bd3786"
            ],
            [
             0.5555555555555556,
             "#d8576b"
            ],
            [
             0.6666666666666666,
             "#ed7953"
            ],
            [
             0.7777777777777778,
             "#fb9f3a"
            ],
            [
             0.8888888888888888,
             "#fdca26"
            ],
            [
             1,
             "#f0f921"
            ]
           ],
           "sequentialminus": [
            [
             0,
             "#0d0887"
            ],
            [
             0.1111111111111111,
             "#46039f"
            ],
            [
             0.2222222222222222,
             "#7201a8"
            ],
            [
             0.3333333333333333,
             "#9c179e"
            ],
            [
             0.4444444444444444,
             "#bd3786"
            ],
            [
             0.5555555555555556,
             "#d8576b"
            ],
            [
             0.6666666666666666,
             "#ed7953"
            ],
            [
             0.7777777777777778,
             "#fb9f3a"
            ],
            [
             0.8888888888888888,
             "#fdca26"
            ],
            [
             1,
             "#f0f921"
            ]
           ]
          },
          "colorway": [
           "#636efa",
           "#EF553B",
           "#00cc96",
           "#ab63fa",
           "#FFA15A",
           "#19d3f3",
           "#FF6692",
           "#B6E880",
           "#FF97FF",
           "#FECB52"
          ],
          "font": {
           "color": "#2a3f5f"
          },
          "geo": {
           "bgcolor": "white",
           "lakecolor": "white",
           "landcolor": "#E5ECF6",
           "showlakes": true,
           "showland": true,
           "subunitcolor": "white"
          },
          "hoverlabel": {
           "align": "left"
          },
          "hovermode": "closest",
          "mapbox": {
           "style": "light"
          },
          "paper_bgcolor": "white",
          "plot_bgcolor": "#E5ECF6",
          "polar": {
           "angularaxis": {
            "gridcolor": "white",
            "linecolor": "white",
            "ticks": ""
           },
           "bgcolor": "#E5ECF6",
           "radialaxis": {
            "gridcolor": "white",
            "linecolor": "white",
            "ticks": ""
           }
          },
          "scene": {
           "xaxis": {
            "backgroundcolor": "#E5ECF6",
            "gridcolor": "white",
            "gridwidth": 2,
            "linecolor": "white",
            "showbackground": true,
            "ticks": "",
            "zerolinecolor": "white"
           },
           "yaxis": {
            "backgroundcolor": "#E5ECF6",
            "gridcolor": "white",
            "gridwidth": 2,
            "linecolor": "white",
            "showbackground": true,
            "ticks": "",
            "zerolinecolor": "white"
           },
           "zaxis": {
            "backgroundcolor": "#E5ECF6",
            "gridcolor": "white",
            "gridwidth": 2,
            "linecolor": "white",
            "showbackground": true,
            "ticks": "",
            "zerolinecolor": "white"
           }
          },
          "shapedefaults": {
           "line": {
            "color": "#2a3f5f"
           }
          },
          "ternary": {
           "aaxis": {
            "gridcolor": "white",
            "linecolor": "white",
            "ticks": ""
           },
           "baxis": {
            "gridcolor": "white",
            "linecolor": "white",
            "ticks": ""
           },
           "bgcolor": "#E5ECF6",
           "caxis": {
            "gridcolor": "white",
            "linecolor": "white",
            "ticks": ""
           }
          },
          "title": {
           "x": 0.05
          },
          "xaxis": {
           "automargin": true,
           "gridcolor": "white",
           "linecolor": "white",
           "ticks": "",
           "title": {
            "standoff": 15
           },
           "zerolinecolor": "white",
           "zerolinewidth": 2
          },
          "yaxis": {
           "automargin": true,
           "gridcolor": "white",
           "linecolor": "white",
           "ticks": "",
           "title": {
            "standoff": 15
           },
           "zerolinecolor": "white",
           "zerolinewidth": 2
          }
         }
        },
        "width": 500,
        "xaxis": {
         "anchor": "y",
         "domain": [
          0,
          1
         ]
        },
        "yaxis": {
         "anchor": "x",
         "domain": [
          0,
          1
         ]
        }
       }
      }
     },
     "metadata": {},
     "output_type": "display_data"
    }
   ],
   "source": [
    "\n",
    "fig = make_subplots()\n",
    "fig.add_trace(px.line(df, x='valid_since', y='index', title='Indexation').data[0])\n",
    "fig.add_trace(px.line(df, x='valid_since', y=arima_model_fit.fittedvalues, title='Indexation').data[0])\n",
    "\n",
    "# change color of trace \n",
    "fig.data[1].line.color = 'red'\n",
    "# add name \n",
    "fig.data[1].name = 'ARIMA model fit'\n",
    "# dashed line\n",
    "fig.data[1].line.dash = 'dash'\n",
    "\n",
    "# add legend\n",
    "fig.update_layout(showlegend=True, legend=dict(\n",
    "    yanchor=\"top\",\n",
    "    y=0.99,\n",
    "    xanchor=\"left\",\n",
    "    x=0.01\n",
    "))\n",
    "\n",
    "# define width of figure\n",
    "fig.update_layout(width=500)\n",
    "\n",
    "\n",
    "\n",
    "fig.show()"
   ]
  },
  {
   "cell_type": "code",
   "execution_count": 6,
   "metadata": {},
   "outputs": [
    {
     "name": "stderr",
     "output_type": "stream",
     "text": [
      "/opt/homebrew/lib/python3.10/site-packages/statsmodels/tsa/base/tsa_model.py:834: ValueWarning:\n",
      "\n",
      "No supported index is available. Prediction results will be given with an integer index beginning at `start`.\n",
      "\n"
     ]
    },
    {
     "data": {
      "text/html": [
       "<div>\n",
       "<style scoped>\n",
       "    .dataframe tbody tr th:only-of-type {\n",
       "        vertical-align: middle;\n",
       "    }\n",
       "\n",
       "    .dataframe tbody tr th {\n",
       "        vertical-align: top;\n",
       "    }\n",
       "\n",
       "    .dataframe thead th {\n",
       "        text-align: right;\n",
       "    }\n",
       "</style>\n",
       "<table border=\"1\" class=\"dataframe\">\n",
       "  <thead>\n",
       "    <tr style=\"text-align: right;\">\n",
       "      <th>index</th>\n",
       "      <th>mean</th>\n",
       "      <th>mean_se</th>\n",
       "      <th>mean_ci_lower</th>\n",
       "      <th>mean_ci_upper</th>\n",
       "    </tr>\n",
       "  </thead>\n",
       "  <tbody>\n",
       "    <tr>\n",
       "      <th>2023-08-31</th>\n",
       "      <td>2.286486</td>\n",
       "      <td>0.011803</td>\n",
       "      <td>2.263352</td>\n",
       "      <td>2.309620</td>\n",
       "    </tr>\n",
       "    <tr>\n",
       "      <th>2024-08-31</th>\n",
       "      <td>2.320799</td>\n",
       "      <td>0.017994</td>\n",
       "      <td>2.285531</td>\n",
       "      <td>2.356067</td>\n",
       "    </tr>\n",
       "    <tr>\n",
       "      <th>2025-08-31</th>\n",
       "      <td>2.355039</td>\n",
       "      <td>0.023657</td>\n",
       "      <td>2.308673</td>\n",
       "      <td>2.401405</td>\n",
       "    </tr>\n",
       "    <tr>\n",
       "      <th>2026-08-31</th>\n",
       "      <td>2.389206</td>\n",
       "      <td>0.029206</td>\n",
       "      <td>2.331962</td>\n",
       "      <td>2.446449</td>\n",
       "    </tr>\n",
       "    <tr>\n",
       "      <th>2027-08-31</th>\n",
       "      <td>2.423299</td>\n",
       "      <td>0.034786</td>\n",
       "      <td>2.355120</td>\n",
       "      <td>2.491479</td>\n",
       "    </tr>\n",
       "    <tr>\n",
       "      <th>...</th>\n",
       "      <td>...</td>\n",
       "      <td>...</td>\n",
       "      <td>...</td>\n",
       "      <td>...</td>\n",
       "    </tr>\n",
       "    <tr>\n",
       "      <th>2118-08-31</th>\n",
       "      <td>5.240027</td>\n",
       "      <td>0.992421</td>\n",
       "      <td>3.294918</td>\n",
       "      <td>7.185137</td>\n",
       "    </tr>\n",
       "    <tr>\n",
       "      <th>2119-08-31</th>\n",
       "      <td>5.268041</td>\n",
       "      <td>1.006269</td>\n",
       "      <td>3.295790</td>\n",
       "      <td>7.240291</td>\n",
       "    </tr>\n",
       "    <tr>\n",
       "      <th>2120-08-31</th>\n",
       "      <td>5.295994</td>\n",
       "      <td>1.020166</td>\n",
       "      <td>3.296506</td>\n",
       "      <td>7.295483</td>\n",
       "    </tr>\n",
       "    <tr>\n",
       "      <th>2121-08-31</th>\n",
       "      <td>5.323888</td>\n",
       "      <td>1.034112</td>\n",
       "      <td>3.297066</td>\n",
       "      <td>7.350711</td>\n",
       "    </tr>\n",
       "    <tr>\n",
       "      <th>2122-08-31</th>\n",
       "      <td>5.351723</td>\n",
       "      <td>1.048106</td>\n",
       "      <td>3.297472</td>\n",
       "      <td>7.405974</td>\n",
       "    </tr>\n",
       "  </tbody>\n",
       "</table>\n",
       "<p>100 rows × 4 columns</p>\n",
       "</div>"
      ],
      "text/plain": [
       "index           mean   mean_se  mean_ci_lower  mean_ci_upper\n",
       "2023-08-31  2.286486  0.011803       2.263352       2.309620\n",
       "2024-08-31  2.320799  0.017994       2.285531       2.356067\n",
       "2025-08-31  2.355039  0.023657       2.308673       2.401405\n",
       "2026-08-31  2.389206  0.029206       2.331962       2.446449\n",
       "2027-08-31  2.423299  0.034786       2.355120       2.491479\n",
       "...              ...       ...            ...            ...\n",
       "2118-08-31  5.240027  0.992421       3.294918       7.185137\n",
       "2119-08-31  5.268041  1.006269       3.295790       7.240291\n",
       "2120-08-31  5.295994  1.020166       3.296506       7.295483\n",
       "2121-08-31  5.323888  1.034112       3.297066       7.350711\n",
       "2122-08-31  5.351723  1.048106       3.297472       7.405974\n",
       "\n",
       "[100 rows x 4 columns]"
      ]
     },
     "execution_count": 6,
     "metadata": {},
     "output_type": "execute_result"
    }
   ],
   "source": [
    "# forecast for next 5 years every 6 months\n",
    "forecast = arima_model_fit.get_forecast(steps=100)\n",
    "forecast_df = forecast.summary_frame(alpha=0.05)\n",
    "# add date to forecast\n",
    "forecast_df.head()\n",
    "\n",
    "# add 6 months to last date\n",
    "last_date = df.index[-1] + dt.timedelta(days=30)\n",
    "\n",
    "# change index to datetime for each month after last date\n",
    "forecast_df.index = pd.date_range(start=last_date, periods=100, freq='12M')\n",
    "\n",
    "forecast_df"
   ]
  },
  {
   "cell_type": "code",
   "execution_count": 7,
   "metadata": {},
   "outputs": [
    {
     "data": {
      "application/vnd.plotly.v1+json": {
       "config": {
        "plotlyServerURL": "https://plot.ly"
       },
       "data": [
        {
         "hovertemplate": "valid_since=%{x}<br>index=%{y}<extra></extra>",
         "legendgroup": "",
         "line": {
          "color": "#636efa",
          "dash": "solid"
         },
         "marker": {
          "symbol": "circle"
         },
         "mode": "lines",
         "name": "",
         "orientation": "v",
         "showlegend": false,
         "type": "scatter",
         "x": [
          "1990-01-01T00:00:00",
          "1990-02-01T00:00:00",
          "1990-10-01T00:00:00",
          "1991-03-01T00:00:00",
          "1991-12-01T00:00:00",
          "1992-10-01T00:00:00",
          "1993-07-01T00:00:00",
          "1994-11-01T00:00:00",
          "1996-05-01T00:00:00",
          "1997-10-01T00:00:00",
          "1999-06-01T00:00:00",
          "2000-09-01T00:00:00",
          "2001-07-01T00:00:00",
          "2002-03-01T00:00:00",
          "2003-07-01T00:00:00",
          "2004-11-01T00:00:00",
          "2005-09-01T00:00:00",
          "2006-11-01T00:00:00",
          "2008-02-01T00:00:00",
          "2008-06-01T00:00:00",
          "2008-10-01T00:00:00",
          "2010-10-01T00:00:00",
          "2011-06-01T00:00:00",
          "2012-03-01T00:00:00",
          "2013-01-01T00:00:00",
          "2016-07-01T00:00:00",
          "2017-07-01T00:00:00",
          "2018-10-01T00:00:00",
          "2020-04-01T00:00:00",
          "2021-10-01T00:00:00",
          "2022-02-01T00:00:00",
          "2022-04-01T00:00:00",
          "2022-06-01T00:00:00",
          "2022-09-01T00:00:00",
          "2022-12-01T00:00:00",
          "2023-01-01T00:00:00",
          "2023-02-01T00:00:00",
          "2023-03-01T00:00:00",
          "2023-04-01T00:00:00",
          "2023-05-01T00:00:00",
          "2023-06-01T00:00:00",
          "2023-07-01T00:00:00",
          "2023-08-01T00:00:00"
         ],
         "xaxis": "x",
         "y": [
          1,
          1.02,
          1.0404,
          1.0612,
          1.0824,
          1.1041,
          1.1262,
          1.1487,
          1.1717,
          1.1951,
          1.219,
          1.2434,
          1.2682,
          1.2936,
          1.3195,
          1.3459,
          1.3718,
          1.4002,
          1.4282,
          1.4568,
          1.4859,
          1.5157,
          1.546,
          1.5769,
          1.6084,
          1.6406,
          1.6734,
          1.7069,
          1.741,
          1.7758,
          1.8114,
          1.8476,
          1.8845,
          1.9222,
          1.9607,
          2.0398,
          2.0806,
          2.0806,
          2.1222,
          2.1646,
          2.1646,
          2.2079,
          2.2521
         ],
         "yaxis": "y"
        },
        {
         "hovertemplate": "valid_since=%{x}<br>y=%{y}<extra></extra>",
         "legendgroup": "",
         "line": {
          "color": "red",
          "dash": "dash"
         },
         "marker": {
          "symbol": "circle"
         },
         "mode": "lines",
         "name": "ARIMA model fit",
         "orientation": "v",
         "showlegend": false,
         "type": "scatter",
         "x": [
          "1990-01-01T00:00:00",
          "1990-02-01T00:00:00",
          "1990-10-01T00:00:00",
          "1991-03-01T00:00:00",
          "1991-12-01T00:00:00",
          "1992-10-01T00:00:00",
          "1993-07-01T00:00:00",
          "1994-11-01T00:00:00",
          "1996-05-01T00:00:00",
          "1997-10-01T00:00:00",
          "1999-06-01T00:00:00",
          "2000-09-01T00:00:00",
          "2001-07-01T00:00:00",
          "2002-03-01T00:00:00",
          "2003-07-01T00:00:00",
          "2004-11-01T00:00:00",
          "2005-09-01T00:00:00",
          "2006-11-01T00:00:00",
          "2008-02-01T00:00:00",
          "2008-06-01T00:00:00",
          "2008-10-01T00:00:00",
          "2010-10-01T00:00:00",
          "2011-06-01T00:00:00",
          "2012-03-01T00:00:00",
          "2013-01-01T00:00:00",
          "2016-07-01T00:00:00",
          "2017-07-01T00:00:00",
          "2018-10-01T00:00:00",
          "2020-04-01T00:00:00",
          "2021-10-01T00:00:00",
          "2022-02-01T00:00:00",
          "2022-04-01T00:00:00",
          "2022-06-01T00:00:00",
          "2022-09-01T00:00:00",
          "2022-12-01T00:00:00",
          "2023-01-01T00:00:00",
          "2023-02-01T00:00:00",
          "2023-03-01T00:00:00",
          "2023-04-01T00:00:00",
          "2023-05-01T00:00:00",
          "2023-06-01T00:00:00",
          "2023-07-01T00:00:00",
          "2023-08-01T00:00:00"
         ],
         "xaxis": "x",
         "y": [
          0,
          1.0000000007619183,
          1.037280504125087,
          1.05910921360444,
          1.0805613263959153,
          1.1022035016134968,
          1.124286576645169,
          1.1467269675472713,
          1.169548052865078,
          1.1928792567269053,
          1.2166060436231665,
          1.240849391426221,
          1.2656087024921858,
          1.2907674342273345,
          1.3165583382202215,
          1.3428617171514174,
          1.369676440808021,
          1.395849094688577,
          1.4248583955665621,
          1.4533120877376597,
          1.482386180702264,
          1.5119626050033788,
          1.5422713592757116,
          1.573077391793914,
          1.604496294567651,
          1.6365261548082928,
          1.6692804167722672,
          1.702640300754148,
          1.7367200456481386,
          1.7714015579843088,
          1.8067996532299553,
          1.843026876818274,
          1.879848640138856,
          1.9173808542213662,
          1.9557369959517814,
          1.9949134000426083,
          2.0807050994317366,
          2.1214020150419604,
          2.115165896535846,
          2.1577522508635747,
          2.2011084167795394,
          2.195528525363057,
          2.2406270095781844
         ],
         "yaxis": "y"
        },
        {
         "hovertemplate": "index=%{x}<br>mean=%{y}<extra></extra>",
         "legendgroup": "",
         "line": {
          "color": "green",
          "dash": "solid"
         },
         "marker": {
          "symbol": "circle"
         },
         "mode": "lines",
         "name": "",
         "orientation": "v",
         "showlegend": false,
         "type": "scatter",
         "x": [
          "2023-08-31T00:00:00",
          "2024-08-31T00:00:00",
          "2025-08-31T00:00:00",
          "2026-08-31T00:00:00",
          "2027-08-31T00:00:00",
          "2028-08-31T00:00:00",
          "2029-08-31T00:00:00",
          "2030-08-31T00:00:00",
          "2031-08-31T00:00:00",
          "2032-08-31T00:00:00",
          "2033-08-31T00:00:00",
          "2034-08-31T00:00:00",
          "2035-08-31T00:00:00",
          "2036-08-31T00:00:00",
          "2037-08-31T00:00:00",
          "2038-08-31T00:00:00",
          "2039-08-31T00:00:00",
          "2040-08-31T00:00:00",
          "2041-08-31T00:00:00",
          "2042-08-31T00:00:00",
          "2043-08-31T00:00:00",
          "2044-08-31T00:00:00",
          "2045-08-31T00:00:00",
          "2046-08-31T00:00:00",
          "2047-08-31T00:00:00",
          "2048-08-31T00:00:00",
          "2049-08-31T00:00:00",
          "2050-08-31T00:00:00",
          "2051-08-31T00:00:00",
          "2052-08-31T00:00:00",
          "2053-08-31T00:00:00",
          "2054-08-31T00:00:00",
          "2055-08-31T00:00:00",
          "2056-08-31T00:00:00",
          "2057-08-31T00:00:00",
          "2058-08-31T00:00:00",
          "2059-08-31T00:00:00",
          "2060-08-31T00:00:00",
          "2061-08-31T00:00:00",
          "2062-08-31T00:00:00",
          "2063-08-31T00:00:00",
          "2064-08-31T00:00:00",
          "2065-08-31T00:00:00",
          "2066-08-31T00:00:00",
          "2067-08-31T00:00:00",
          "2068-08-31T00:00:00",
          "2069-08-31T00:00:00",
          "2070-08-31T00:00:00",
          "2071-08-31T00:00:00",
          "2072-08-31T00:00:00",
          "2073-08-31T00:00:00",
          "2074-08-31T00:00:00",
          "2075-08-31T00:00:00",
          "2076-08-31T00:00:00",
          "2077-08-31T00:00:00",
          "2078-08-31T00:00:00",
          "2079-08-31T00:00:00",
          "2080-08-31T00:00:00",
          "2081-08-31T00:00:00",
          "2082-08-31T00:00:00",
          "2083-08-31T00:00:00",
          "2084-08-31T00:00:00",
          "2085-08-31T00:00:00",
          "2086-08-31T00:00:00",
          "2087-08-31T00:00:00",
          "2088-08-31T00:00:00",
          "2089-08-31T00:00:00",
          "2090-08-31T00:00:00",
          "2091-08-31T00:00:00",
          "2092-08-31T00:00:00",
          "2093-08-31T00:00:00",
          "2094-08-31T00:00:00",
          "2095-08-31T00:00:00",
          "2096-08-31T00:00:00",
          "2097-08-31T00:00:00",
          "2098-08-31T00:00:00",
          "2099-08-31T00:00:00",
          "2100-08-31T00:00:00",
          "2101-08-31T00:00:00",
          "2102-08-31T00:00:00",
          "2103-08-31T00:00:00",
          "2104-08-31T00:00:00",
          "2105-08-31T00:00:00",
          "2106-08-31T00:00:00",
          "2107-08-31T00:00:00",
          "2108-08-31T00:00:00",
          "2109-08-31T00:00:00",
          "2110-08-31T00:00:00",
          "2111-08-31T00:00:00",
          "2112-08-31T00:00:00",
          "2113-08-31T00:00:00",
          "2114-08-31T00:00:00",
          "2115-08-31T00:00:00",
          "2116-08-31T00:00:00",
          "2117-08-31T00:00:00",
          "2118-08-31T00:00:00",
          "2119-08-31T00:00:00",
          "2120-08-31T00:00:00",
          "2121-08-31T00:00:00",
          "2122-08-31T00:00:00"
         ],
         "xaxis": "x",
         "y": [
          2.286486251235328,
          2.320799161020652,
          2.3550388857838485,
          2.3892055816191546,
          2.4232994042878784,
          2.4573205092191084,
          2.491269051510424,
          2.5251451859286,
          2.5589490669103148,
          2.5926808485628525,
          2.626340684664807,
          2.659928728666781,
          2.693445133692088,
          2.7268900525374486,
          2.7602636376736878,
          2.7935660412464296,
          2.8267974150767916,
          2.859957910662076,
          2.893047679176461,
          2.9260668714716895,
          2.9590156380777572,
          2.9918941292035983,
          3.0247024947377716,
          3.0574408842491416,
          3.090109446987563,
          3.1227083318845588,
          3.1552376875540005,
          3.187697662292785,
          3.220088404081512,
          3.2524100605851567,
          3.284662779153744,
          3.316846706823021,
          3.348961990315125,
          3.381008776039255,
          3.412987210092338,
          3.444897438259694,
          3.4767396060157028,
          3.5085138585244655,
          3.540220340640467,
          3.571859196909237,
          3.603430571568006,
          3.634934608546368,
          3.6663714514669308,
          3.6977412436459756,
          3.729044128094108,
          3.7602802475169095,
          3.79144974431559,
          3.822552760587636,
          3.8535894381274574,
          3.8845599184270356,
          3.9154643426765676,
          3.9463028517651098,
          3.97707558628122,
          4.0077826865136,
          4.038424292451733,
          4.0690005437865215,
          4.099511579910927,
          4.129957539920603,
          4.160338562614531,
          4.19065478649565,
          4.220906349771492,
          4.251093390354808,
          4.281216045864201,
          4.31127445362475,
          4.341268750668639,
          4.371199073735776,
          4.401065559274426,
          4.430868343441823,
          4.460607562104796,
          4.4902833508403885,
          4.5198958449364754,
          4.54944517939238,
          4.578931488919488,
          4.608354907941865,
          4.637715570596868,
          4.6670136107357525,
          4.69624916192429,
          4.725422357443372,
          4.754533330289619,
          4.783582213175987,
          4.812569138532373,
          4.8414942385062165,
          4.870357644963105,
          4.899159489487374,
          4.927899903382705,
          4.956579017672725,
          4.9851969631016075,
          5.013753870134663,
          5.042249868958938,
          5.0706850894838045,
          5.099059661341556,
          5.127373713887998,
          5.155627376203035,
          5.1838207770912605,
          5.211954045082546,
          5.240027308432624,
          5.268040695123674,
          5.2959943328649075,
          5.323888349093147,
          5.351722870973409
         ],
         "yaxis": "y"
        },
        {
         "hovertemplate": "index=%{x}<br>mean_ci_lower=%{y}<extra></extra>",
         "legendgroup": "",
         "line": {
          "color": "grey",
          "dash": "solid"
         },
         "marker": {
          "symbol": "circle"
         },
         "mode": "lines",
         "name": "",
         "orientation": "v",
         "showlegend": false,
         "type": "scatter",
         "x": [
          "2023-08-31T00:00:00",
          "2024-08-31T00:00:00",
          "2025-08-31T00:00:00",
          "2026-08-31T00:00:00",
          "2027-08-31T00:00:00",
          "2028-08-31T00:00:00",
          "2029-08-31T00:00:00",
          "2030-08-31T00:00:00",
          "2031-08-31T00:00:00",
          "2032-08-31T00:00:00",
          "2033-08-31T00:00:00",
          "2034-08-31T00:00:00",
          "2035-08-31T00:00:00",
          "2036-08-31T00:00:00",
          "2037-08-31T00:00:00",
          "2038-08-31T00:00:00",
          "2039-08-31T00:00:00",
          "2040-08-31T00:00:00",
          "2041-08-31T00:00:00",
          "2042-08-31T00:00:00",
          "2043-08-31T00:00:00",
          "2044-08-31T00:00:00",
          "2045-08-31T00:00:00",
          "2046-08-31T00:00:00",
          "2047-08-31T00:00:00",
          "2048-08-31T00:00:00",
          "2049-08-31T00:00:00",
          "2050-08-31T00:00:00",
          "2051-08-31T00:00:00",
          "2052-08-31T00:00:00",
          "2053-08-31T00:00:00",
          "2054-08-31T00:00:00",
          "2055-08-31T00:00:00",
          "2056-08-31T00:00:00",
          "2057-08-31T00:00:00",
          "2058-08-31T00:00:00",
          "2059-08-31T00:00:00",
          "2060-08-31T00:00:00",
          "2061-08-31T00:00:00",
          "2062-08-31T00:00:00",
          "2063-08-31T00:00:00",
          "2064-08-31T00:00:00",
          "2065-08-31T00:00:00",
          "2066-08-31T00:00:00",
          "2067-08-31T00:00:00",
          "2068-08-31T00:00:00",
          "2069-08-31T00:00:00",
          "2070-08-31T00:00:00",
          "2071-08-31T00:00:00",
          "2072-08-31T00:00:00",
          "2073-08-31T00:00:00",
          "2074-08-31T00:00:00",
          "2075-08-31T00:00:00",
          "2076-08-31T00:00:00",
          "2077-08-31T00:00:00",
          "2078-08-31T00:00:00",
          "2079-08-31T00:00:00",
          "2080-08-31T00:00:00",
          "2081-08-31T00:00:00",
          "2082-08-31T00:00:00",
          "2083-08-31T00:00:00",
          "2084-08-31T00:00:00",
          "2085-08-31T00:00:00",
          "2086-08-31T00:00:00",
          "2087-08-31T00:00:00",
          "2088-08-31T00:00:00",
          "2089-08-31T00:00:00",
          "2090-08-31T00:00:00",
          "2091-08-31T00:00:00",
          "2092-08-31T00:00:00",
          "2093-08-31T00:00:00",
          "2094-08-31T00:00:00",
          "2095-08-31T00:00:00",
          "2096-08-31T00:00:00",
          "2097-08-31T00:00:00",
          "2098-08-31T00:00:00",
          "2099-08-31T00:00:00",
          "2100-08-31T00:00:00",
          "2101-08-31T00:00:00",
          "2102-08-31T00:00:00",
          "2103-08-31T00:00:00",
          "2104-08-31T00:00:00",
          "2105-08-31T00:00:00",
          "2106-08-31T00:00:00",
          "2107-08-31T00:00:00",
          "2108-08-31T00:00:00",
          "2109-08-31T00:00:00",
          "2110-08-31T00:00:00",
          "2111-08-31T00:00:00",
          "2112-08-31T00:00:00",
          "2113-08-31T00:00:00",
          "2114-08-31T00:00:00",
          "2115-08-31T00:00:00",
          "2116-08-31T00:00:00",
          "2117-08-31T00:00:00",
          "2118-08-31T00:00:00",
          "2119-08-31T00:00:00",
          "2120-08-31T00:00:00",
          "2121-08-31T00:00:00",
          "2122-08-31T00:00:00"
         ],
         "xaxis": "x",
         "y": [
          2.263352182025806,
          2.2855311107432943,
          2.30867282705298,
          2.3319620677886004,
          2.3551201256362733,
          2.378023633337949,
          2.4006113980792754,
          2.4228516937613933,
          2.444728284516341,
          2.466233651367829,
          2.487365409427502,
          2.5081242875925365,
          2.528512933110733,
          2.5485351776581147,
          2.568195573813469,
          2.5874990959645343,
          2.6064509442959833,
          2.625056415037754,
          2.6433208141932534,
          2.6612494002855374,
          2.6788473467357097,
          2.6961197176656153,
          2.713071452951335,
          2.7297073596821937,
          2.746032108062264,
          2.762050230386398,
          2.7777661221296293,
          2.7931840444702294,
          2.8083081277634596,
          2.8231423756219165,
          2.8376906693571033,
          2.8519567726075783,
          2.865944336029954,
          2.8796569019658556,
          2.8930979090246707,
          2.9062706965413705,
          2.919178508882796,
          2.931824499586104,
          2.944211735320472,
          2.95634319966853,
          2.9682217967278,
          2.979850354535101,
          2.9912316283187206,
          3.0023683035843827,
          3.01326299904181,
          3.023918269379111,
          3.0343366078924303,
          3.044520448978294,
          3.0544721704960116,
          3.0641940960072676,
          3.0736884968998144,
          3.0829575944018717,
          3.092003561493536,
          3.1008285247211846,
          3.1094345659205254,
          3.1178237238536397,
          3.125997995765046,
          3.133959338861503,
          3.141709671720005,
          3.1492508756281263,
          3.156584795860625,
          3.1637132428959616,
          3.1706379935761717,
          3.17736079221329,
          3.18388335164535,
          3.1902073542447633,
          3.1963344528817297,
          3.202266271845142,
          3.208004407723312,
          3.2135504302466797,
          3.218905883094555,
          3.224072284667792,
          3.229051128829193,
          3.233843885613331,
          3.2384520019073593,
          3.242876902104304,
          3.247119988730235,
          3.2511826430466213,
          3.25506622562911,
          3.2587720769238913,
          3.2623015177827535,
          3.2656558499778363,
          3.2688363566970864,
          3.271844303021301,
          3.274680936383654,
          3.2773474870124994,
          3.279845168358235,
          3.282175177504954,
          3.284338695567575,
          3.2863368880751005,
          3.288170905340615,
          3.2898418828186267,
          3.2913509414502826,
          3.2926991879969982,
          3.2938877153629895,
          3.294917602907189,
          3.2957899167449805,
          3.296505710040189,
          3.297066023287723,
          3.2974718845872566
         ],
         "yaxis": "y"
        },
        {
         "hovertemplate": "index=%{x}<br>mean_ci_upper=%{y}<extra></extra>",
         "legendgroup": "",
         "line": {
          "color": "purple",
          "dash": "solid"
         },
         "marker": {
          "symbol": "circle"
         },
         "mode": "lines",
         "name": "",
         "orientation": "v",
         "showlegend": false,
         "type": "scatter",
         "x": [
          "2023-08-31T00:00:00",
          "2024-08-31T00:00:00",
          "2025-08-31T00:00:00",
          "2026-08-31T00:00:00",
          "2027-08-31T00:00:00",
          "2028-08-31T00:00:00",
          "2029-08-31T00:00:00",
          "2030-08-31T00:00:00",
          "2031-08-31T00:00:00",
          "2032-08-31T00:00:00",
          "2033-08-31T00:00:00",
          "2034-08-31T00:00:00",
          "2035-08-31T00:00:00",
          "2036-08-31T00:00:00",
          "2037-08-31T00:00:00",
          "2038-08-31T00:00:00",
          "2039-08-31T00:00:00",
          "2040-08-31T00:00:00",
          "2041-08-31T00:00:00",
          "2042-08-31T00:00:00",
          "2043-08-31T00:00:00",
          "2044-08-31T00:00:00",
          "2045-08-31T00:00:00",
          "2046-08-31T00:00:00",
          "2047-08-31T00:00:00",
          "2048-08-31T00:00:00",
          "2049-08-31T00:00:00",
          "2050-08-31T00:00:00",
          "2051-08-31T00:00:00",
          "2052-08-31T00:00:00",
          "2053-08-31T00:00:00",
          "2054-08-31T00:00:00",
          "2055-08-31T00:00:00",
          "2056-08-31T00:00:00",
          "2057-08-31T00:00:00",
          "2058-08-31T00:00:00",
          "2059-08-31T00:00:00",
          "2060-08-31T00:00:00",
          "2061-08-31T00:00:00",
          "2062-08-31T00:00:00",
          "2063-08-31T00:00:00",
          "2064-08-31T00:00:00",
          "2065-08-31T00:00:00",
          "2066-08-31T00:00:00",
          "2067-08-31T00:00:00",
          "2068-08-31T00:00:00",
          "2069-08-31T00:00:00",
          "2070-08-31T00:00:00",
          "2071-08-31T00:00:00",
          "2072-08-31T00:00:00",
          "2073-08-31T00:00:00",
          "2074-08-31T00:00:00",
          "2075-08-31T00:00:00",
          "2076-08-31T00:00:00",
          "2077-08-31T00:00:00",
          "2078-08-31T00:00:00",
          "2079-08-31T00:00:00",
          "2080-08-31T00:00:00",
          "2081-08-31T00:00:00",
          "2082-08-31T00:00:00",
          "2083-08-31T00:00:00",
          "2084-08-31T00:00:00",
          "2085-08-31T00:00:00",
          "2086-08-31T00:00:00",
          "2087-08-31T00:00:00",
          "2088-08-31T00:00:00",
          "2089-08-31T00:00:00",
          "2090-08-31T00:00:00",
          "2091-08-31T00:00:00",
          "2092-08-31T00:00:00",
          "2093-08-31T00:00:00",
          "2094-08-31T00:00:00",
          "2095-08-31T00:00:00",
          "2096-08-31T00:00:00",
          "2097-08-31T00:00:00",
          "2098-08-31T00:00:00",
          "2099-08-31T00:00:00",
          "2100-08-31T00:00:00",
          "2101-08-31T00:00:00",
          "2102-08-31T00:00:00",
          "2103-08-31T00:00:00",
          "2104-08-31T00:00:00",
          "2105-08-31T00:00:00",
          "2106-08-31T00:00:00",
          "2107-08-31T00:00:00",
          "2108-08-31T00:00:00",
          "2109-08-31T00:00:00",
          "2110-08-31T00:00:00",
          "2111-08-31T00:00:00",
          "2112-08-31T00:00:00",
          "2113-08-31T00:00:00",
          "2114-08-31T00:00:00",
          "2115-08-31T00:00:00",
          "2116-08-31T00:00:00",
          "2117-08-31T00:00:00",
          "2118-08-31T00:00:00",
          "2119-08-31T00:00:00",
          "2120-08-31T00:00:00",
          "2121-08-31T00:00:00",
          "2122-08-31T00:00:00"
         ],
         "xaxis": "x",
         "y": [
          2.3096203204448504,
          2.3560672112980097,
          2.401404944514717,
          2.446449095449709,
          2.4914786829394835,
          2.536617385100268,
          2.5819267049415724,
          2.6274386780958063,
          2.6731698493042884,
          2.719128045757876,
          2.7653159599021118,
          2.8117331697410255,
          2.858377334273443,
          2.9052449274167826,
          2.9523317015339066,
          2.999632986528325,
          3.0471438858576,
          3.094859406286398,
          3.1427745441596686,
          3.1908843426578417,
          3.239183929419805,
          3.2876685407415813,
          3.3363335365242084,
          3.3851744088160896,
          3.434186785912862,
          3.4833664333827197,
          3.5327092529783717,
          3.5822112801153407,
          3.631868680399564,
          3.681677745548397,
          3.731634888950385,
          3.7817366410384636,
          3.8319796446002963,
          3.8823606501126546,
          3.9328765111600053,
          3.9835241799780174,
          4.03430070314861,
          4.085203217462827,
          4.136228945960462,
          4.1873751941499435,
          4.238639346408212,
          4.290018862557635,
          4.341511274615141,
          4.393114183707569,
          4.444825257146406,
          4.496642225654708,
          4.54856288073875,
          4.600585072196978,
          4.652706705758903,
          4.704925740846804,
          4.757240188453321,
          4.809648109128348,
          4.862147611068904,
          4.914736848306016,
          4.967414018982941,
          5.020177363719403,
          5.0730251640568085,
          5.125955740979704,
          5.178967453509058,
          5.232058697363174,
          5.285227903682359,
          5.3384735378136545,
          5.39179409815223,
          5.445188115036211,
          5.4986541496919275,
          5.5521907932267895,
          5.605796665667122,
          5.659470415038504,
          5.71321071648628,
          5.767016271434097,
          5.820885806778396,
          5.874818074116967,
          5.928811849009783,
          5.9828659302704,
          6.036979139286376,
          6.091150319367201,
          6.145378335118345,
          6.199662071840122,
          6.254000434950129,
          6.3083923494280825,
          6.3628367592819925,
          6.417332627034597,
          6.471878933229124,
          6.526474675953447,
          6.581118870381755,
          6.635810548332951,
          6.69054875784498,
          6.745332562764373,
          6.8001610423503,
          6.855033290892509,
          6.909948417342497,
          6.96490554495737,
          7.019903810955787,
          7.074942366185523,
          7.130020374802102,
          7.185137013958059,
          7.240291473502368,
          7.295482955689626,
          7.35071067489857,
          7.405973857359561
         ],
         "yaxis": "y"
        }
       ],
       "layout": {
        "showlegend": true,
        "template": {
         "data": {
          "bar": [
           {
            "error_x": {
             "color": "#2a3f5f"
            },
            "error_y": {
             "color": "#2a3f5f"
            },
            "marker": {
             "line": {
              "color": "#E5ECF6",
              "width": 0.5
             },
             "pattern": {
              "fillmode": "overlay",
              "size": 10,
              "solidity": 0.2
             }
            },
            "type": "bar"
           }
          ],
          "barpolar": [
           {
            "marker": {
             "line": {
              "color": "#E5ECF6",
              "width": 0.5
             },
             "pattern": {
              "fillmode": "overlay",
              "size": 10,
              "solidity": 0.2
             }
            },
            "type": "barpolar"
           }
          ],
          "carpet": [
           {
            "aaxis": {
             "endlinecolor": "#2a3f5f",
             "gridcolor": "white",
             "linecolor": "white",
             "minorgridcolor": "white",
             "startlinecolor": "#2a3f5f"
            },
            "baxis": {
             "endlinecolor": "#2a3f5f",
             "gridcolor": "white",
             "linecolor": "white",
             "minorgridcolor": "white",
             "startlinecolor": "#2a3f5f"
            },
            "type": "carpet"
           }
          ],
          "choropleth": [
           {
            "colorbar": {
             "outlinewidth": 0,
             "ticks": ""
            },
            "type": "choropleth"
           }
          ],
          "contour": [
           {
            "colorbar": {
             "outlinewidth": 0,
             "ticks": ""
            },
            "colorscale": [
             [
              0,
              "#0d0887"
             ],
             [
              0.1111111111111111,
              "#46039f"
             ],
             [
              0.2222222222222222,
              "#7201a8"
             ],
             [
              0.3333333333333333,
              "#9c179e"
             ],
             [
              0.4444444444444444,
              "#bd3786"
             ],
             [
              0.5555555555555556,
              "#d8576b"
             ],
             [
              0.6666666666666666,
              "#ed7953"
             ],
             [
              0.7777777777777778,
              "#fb9f3a"
             ],
             [
              0.8888888888888888,
              "#fdca26"
             ],
             [
              1,
              "#f0f921"
             ]
            ],
            "type": "contour"
           }
          ],
          "contourcarpet": [
           {
            "colorbar": {
             "outlinewidth": 0,
             "ticks": ""
            },
            "type": "contourcarpet"
           }
          ],
          "heatmap": [
           {
            "colorbar": {
             "outlinewidth": 0,
             "ticks": ""
            },
            "colorscale": [
             [
              0,
              "#0d0887"
             ],
             [
              0.1111111111111111,
              "#46039f"
             ],
             [
              0.2222222222222222,
              "#7201a8"
             ],
             [
              0.3333333333333333,
              "#9c179e"
             ],
             [
              0.4444444444444444,
              "#bd3786"
             ],
             [
              0.5555555555555556,
              "#d8576b"
             ],
             [
              0.6666666666666666,
              "#ed7953"
             ],
             [
              0.7777777777777778,
              "#fb9f3a"
             ],
             [
              0.8888888888888888,
              "#fdca26"
             ],
             [
              1,
              "#f0f921"
             ]
            ],
            "type": "heatmap"
           }
          ],
          "heatmapgl": [
           {
            "colorbar": {
             "outlinewidth": 0,
             "ticks": ""
            },
            "colorscale": [
             [
              0,
              "#0d0887"
             ],
             [
              0.1111111111111111,
              "#46039f"
             ],
             [
              0.2222222222222222,
              "#7201a8"
             ],
             [
              0.3333333333333333,
              "#9c179e"
             ],
             [
              0.4444444444444444,
              "#bd3786"
             ],
             [
              0.5555555555555556,
              "#d8576b"
             ],
             [
              0.6666666666666666,
              "#ed7953"
             ],
             [
              0.7777777777777778,
              "#fb9f3a"
             ],
             [
              0.8888888888888888,
              "#fdca26"
             ],
             [
              1,
              "#f0f921"
             ]
            ],
            "type": "heatmapgl"
           }
          ],
          "histogram": [
           {
            "marker": {
             "pattern": {
              "fillmode": "overlay",
              "size": 10,
              "solidity": 0.2
             }
            },
            "type": "histogram"
           }
          ],
          "histogram2d": [
           {
            "colorbar": {
             "outlinewidth": 0,
             "ticks": ""
            },
            "colorscale": [
             [
              0,
              "#0d0887"
             ],
             [
              0.1111111111111111,
              "#46039f"
             ],
             [
              0.2222222222222222,
              "#7201a8"
             ],
             [
              0.3333333333333333,
              "#9c179e"
             ],
             [
              0.4444444444444444,
              "#bd3786"
             ],
             [
              0.5555555555555556,
              "#d8576b"
             ],
             [
              0.6666666666666666,
              "#ed7953"
             ],
             [
              0.7777777777777778,
              "#fb9f3a"
             ],
             [
              0.8888888888888888,
              "#fdca26"
             ],
             [
              1,
              "#f0f921"
             ]
            ],
            "type": "histogram2d"
           }
          ],
          "histogram2dcontour": [
           {
            "colorbar": {
             "outlinewidth": 0,
             "ticks": ""
            },
            "colorscale": [
             [
              0,
              "#0d0887"
             ],
             [
              0.1111111111111111,
              "#46039f"
             ],
             [
              0.2222222222222222,
              "#7201a8"
             ],
             [
              0.3333333333333333,
              "#9c179e"
             ],
             [
              0.4444444444444444,
              "#bd3786"
             ],
             [
              0.5555555555555556,
              "#d8576b"
             ],
             [
              0.6666666666666666,
              "#ed7953"
             ],
             [
              0.7777777777777778,
              "#fb9f3a"
             ],
             [
              0.8888888888888888,
              "#fdca26"
             ],
             [
              1,
              "#f0f921"
             ]
            ],
            "type": "histogram2dcontour"
           }
          ],
          "mesh3d": [
           {
            "colorbar": {
             "outlinewidth": 0,
             "ticks": ""
            },
            "type": "mesh3d"
           }
          ],
          "parcoords": [
           {
            "line": {
             "colorbar": {
              "outlinewidth": 0,
              "ticks": ""
             }
            },
            "type": "parcoords"
           }
          ],
          "pie": [
           {
            "automargin": true,
            "type": "pie"
           }
          ],
          "scatter": [
           {
            "fillpattern": {
             "fillmode": "overlay",
             "size": 10,
             "solidity": 0.2
            },
            "type": "scatter"
           }
          ],
          "scatter3d": [
           {
            "line": {
             "colorbar": {
              "outlinewidth": 0,
              "ticks": ""
             }
            },
            "marker": {
             "colorbar": {
              "outlinewidth": 0,
              "ticks": ""
             }
            },
            "type": "scatter3d"
           }
          ],
          "scattercarpet": [
           {
            "marker": {
             "colorbar": {
              "outlinewidth": 0,
              "ticks": ""
             }
            },
            "type": "scattercarpet"
           }
          ],
          "scattergeo": [
           {
            "marker": {
             "colorbar": {
              "outlinewidth": 0,
              "ticks": ""
             }
            },
            "type": "scattergeo"
           }
          ],
          "scattergl": [
           {
            "marker": {
             "colorbar": {
              "outlinewidth": 0,
              "ticks": ""
             }
            },
            "type": "scattergl"
           }
          ],
          "scattermapbox": [
           {
            "marker": {
             "colorbar": {
              "outlinewidth": 0,
              "ticks": ""
             }
            },
            "type": "scattermapbox"
           }
          ],
          "scatterpolar": [
           {
            "marker": {
             "colorbar": {
              "outlinewidth": 0,
              "ticks": ""
             }
            },
            "type": "scatterpolar"
           }
          ],
          "scatterpolargl": [
           {
            "marker": {
             "colorbar": {
              "outlinewidth": 0,
              "ticks": ""
             }
            },
            "type": "scatterpolargl"
           }
          ],
          "scatterternary": [
           {
            "marker": {
             "colorbar": {
              "outlinewidth": 0,
              "ticks": ""
             }
            },
            "type": "scatterternary"
           }
          ],
          "surface": [
           {
            "colorbar": {
             "outlinewidth": 0,
             "ticks": ""
            },
            "colorscale": [
             [
              0,
              "#0d0887"
             ],
             [
              0.1111111111111111,
              "#46039f"
             ],
             [
              0.2222222222222222,
              "#7201a8"
             ],
             [
              0.3333333333333333,
              "#9c179e"
             ],
             [
              0.4444444444444444,
              "#bd3786"
             ],
             [
              0.5555555555555556,
              "#d8576b"
             ],
             [
              0.6666666666666666,
              "#ed7953"
             ],
             [
              0.7777777777777778,
              "#fb9f3a"
             ],
             [
              0.8888888888888888,
              "#fdca26"
             ],
             [
              1,
              "#f0f921"
             ]
            ],
            "type": "surface"
           }
          ],
          "table": [
           {
            "cells": {
             "fill": {
              "color": "#EBF0F8"
             },
             "line": {
              "color": "white"
             }
            },
            "header": {
             "fill": {
              "color": "#C8D4E3"
             },
             "line": {
              "color": "white"
             }
            },
            "type": "table"
           }
          ]
         },
         "layout": {
          "annotationdefaults": {
           "arrowcolor": "#2a3f5f",
           "arrowhead": 0,
           "arrowwidth": 1
          },
          "autotypenumbers": "strict",
          "coloraxis": {
           "colorbar": {
            "outlinewidth": 0,
            "ticks": ""
           }
          },
          "colorscale": {
           "diverging": [
            [
             0,
             "#8e0152"
            ],
            [
             0.1,
             "#c51b7d"
            ],
            [
             0.2,
             "#de77ae"
            ],
            [
             0.3,
             "#f1b6da"
            ],
            [
             0.4,
             "#fde0ef"
            ],
            [
             0.5,
             "#f7f7f7"
            ],
            [
             0.6,
             "#e6f5d0"
            ],
            [
             0.7,
             "#b8e186"
            ],
            [
             0.8,
             "#7fbc41"
            ],
            [
             0.9,
             "#4d9221"
            ],
            [
             1,
             "#276419"
            ]
           ],
           "sequential": [
            [
             0,
             "#0d0887"
            ],
            [
             0.1111111111111111,
             "#46039f"
            ],
            [
             0.2222222222222222,
             "#7201a8"
            ],
            [
             0.3333333333333333,
             "#9c179e"
            ],
            [
             0.4444444444444444,
             "#bd3786"
            ],
            [
             0.5555555555555556,
             "#d8576b"
            ],
            [
             0.6666666666666666,
             "#ed7953"
            ],
            [
             0.7777777777777778,
             "#fb9f3a"
            ],
            [
             0.8888888888888888,
             "#fdca26"
            ],
            [
             1,
             "#f0f921"
            ]
           ],
           "sequentialminus": [
            [
             0,
             "#0d0887"
            ],
            [
             0.1111111111111111,
             "#46039f"
            ],
            [
             0.2222222222222222,
             "#7201a8"
            ],
            [
             0.3333333333333333,
             "#9c179e"
            ],
            [
             0.4444444444444444,
             "#bd3786"
            ],
            [
             0.5555555555555556,
             "#d8576b"
            ],
            [
             0.6666666666666666,
             "#ed7953"
            ],
            [
             0.7777777777777778,
             "#fb9f3a"
            ],
            [
             0.8888888888888888,
             "#fdca26"
            ],
            [
             1,
             "#f0f921"
            ]
           ]
          },
          "colorway": [
           "#636efa",
           "#EF553B",
           "#00cc96",
           "#ab63fa",
           "#FFA15A",
           "#19d3f3",
           "#FF6692",
           "#B6E880",
           "#FF97FF",
           "#FECB52"
          ],
          "font": {
           "color": "#2a3f5f"
          },
          "geo": {
           "bgcolor": "white",
           "lakecolor": "white",
           "landcolor": "#E5ECF6",
           "showlakes": true,
           "showland": true,
           "subunitcolor": "white"
          },
          "hoverlabel": {
           "align": "left"
          },
          "hovermode": "closest",
          "mapbox": {
           "style": "light"
          },
          "paper_bgcolor": "white",
          "plot_bgcolor": "#E5ECF6",
          "polar": {
           "angularaxis": {
            "gridcolor": "white",
            "linecolor": "white",
            "ticks": ""
           },
           "bgcolor": "#E5ECF6",
           "radialaxis": {
            "gridcolor": "white",
            "linecolor": "white",
            "ticks": ""
           }
          },
          "scene": {
           "xaxis": {
            "backgroundcolor": "#E5ECF6",
            "gridcolor": "white",
            "gridwidth": 2,
            "linecolor": "white",
            "showbackground": true,
            "ticks": "",
            "zerolinecolor": "white"
           },
           "yaxis": {
            "backgroundcolor": "#E5ECF6",
            "gridcolor": "white",
            "gridwidth": 2,
            "linecolor": "white",
            "showbackground": true,
            "ticks": "",
            "zerolinecolor": "white"
           },
           "zaxis": {
            "backgroundcolor": "#E5ECF6",
            "gridcolor": "white",
            "gridwidth": 2,
            "linecolor": "white",
            "showbackground": true,
            "ticks": "",
            "zerolinecolor": "white"
           }
          },
          "shapedefaults": {
           "line": {
            "color": "#2a3f5f"
           }
          },
          "ternary": {
           "aaxis": {
            "gridcolor": "white",
            "linecolor": "white",
            "ticks": ""
           },
           "baxis": {
            "gridcolor": "white",
            "linecolor": "white",
            "ticks": ""
           },
           "bgcolor": "#E5ECF6",
           "caxis": {
            "gridcolor": "white",
            "linecolor": "white",
            "ticks": ""
           }
          },
          "title": {
           "x": 0.05
          },
          "xaxis": {
           "automargin": true,
           "gridcolor": "white",
           "linecolor": "white",
           "ticks": "",
           "title": {
            "standoff": 15
           },
           "zerolinecolor": "white",
           "zerolinewidth": 2
          },
          "yaxis": {
           "automargin": true,
           "gridcolor": "white",
           "linecolor": "white",
           "ticks": "",
           "title": {
            "standoff": 15
           },
           "zerolinecolor": "white",
           "zerolinewidth": 2
          }
         }
        },
        "title": {
         "text": "Indexation forecast"
        },
        "xaxis": {
         "anchor": "y",
         "domain": [
          0,
          1
         ]
        },
        "yaxis": {
         "anchor": "x",
         "domain": [
          0,
          1
         ]
        }
       }
      }
     },
     "metadata": {},
     "output_type": "display_data"
    }
   ],
   "source": [
    "\n",
    "\n",
    "# plot forecast\n",
    "fig = make_subplots(rows=1, cols=1)\n",
    "fig.add_trace(px.line(df, x='valid_since', y='index', title='Indexation').data[0], row=1, col=1)\n",
    "fig.add_trace(px.line(df, x='valid_since', y=arima_model_fit.fittedvalues, title='Indexation').data[0], row=1, col=1)\n",
    "fig.add_trace(px.line(forecast_df, x=forecast_df.index, y='mean', title='Indexation').data[0], row=1, col=1)\n",
    "fig.add_trace(px.line(forecast_df, x=forecast_df.index, y='mean_ci_lower', title='Indexation').data[0], row=1, col=1)\n",
    "fig.add_trace(px.line(forecast_df, x=forecast_df.index, y='mean_ci_upper', title='Indexation').data[0], row=1, col=1)\n",
    "\n",
    "# change color of trace\n",
    "# change color of trace \n",
    "fig.data[1].line.color = 'red'\n",
    "# add name \n",
    "fig.data[1].name = 'ARIMA model fit'\n",
    "# dashed line\n",
    "fig.data[1].line.dash = 'dash'\n",
    "\n",
    "# change color of trace\n",
    "fig.data[2].line.color = 'green'\n",
    "fig.data[3].line.color = 'grey'\n",
    "fig.data[4].line.color = 'purple'\n",
    "\n",
    "# add legend\n",
    "fig.update_layout(showlegend=True, title='Indexation forecast')\n",
    "\n",
    "fig.show()"
   ]
  },
  {
   "cell_type": "code",
   "execution_count": 8,
   "metadata": {},
   "outputs": [
    {
     "data": {
      "text/html": [
       "<div>\n",
       "<style scoped>\n",
       "    .dataframe tbody tr th:only-of-type {\n",
       "        vertical-align: middle;\n",
       "    }\n",
       "\n",
       "    .dataframe tbody tr th {\n",
       "        vertical-align: top;\n",
       "    }\n",
       "\n",
       "    .dataframe thead th {\n",
       "        text-align: right;\n",
       "    }\n",
       "</style>\n",
       "<table border=\"1\" class=\"dataframe\">\n",
       "  <thead>\n",
       "    <tr style=\"text-align: right;\">\n",
       "      <th>index</th>\n",
       "      <th>mean</th>\n",
       "      <th>mean_se</th>\n",
       "      <th>mean_ci_lower</th>\n",
       "      <th>mean_ci_upper</th>\n",
       "    </tr>\n",
       "  </thead>\n",
       "  <tbody>\n",
       "    <tr>\n",
       "      <th>2023-08-31</th>\n",
       "      <td>2.286486</td>\n",
       "      <td>0.011803</td>\n",
       "      <td>2.263352</td>\n",
       "      <td>2.309620</td>\n",
       "    </tr>\n",
       "    <tr>\n",
       "      <th>2024-08-31</th>\n",
       "      <td>2.320799</td>\n",
       "      <td>0.017994</td>\n",
       "      <td>2.285531</td>\n",
       "      <td>2.356067</td>\n",
       "    </tr>\n",
       "    <tr>\n",
       "      <th>2025-08-31</th>\n",
       "      <td>2.355039</td>\n",
       "      <td>0.023657</td>\n",
       "      <td>2.308673</td>\n",
       "      <td>2.401405</td>\n",
       "    </tr>\n",
       "    <tr>\n",
       "      <th>2026-08-31</th>\n",
       "      <td>2.389206</td>\n",
       "      <td>0.029206</td>\n",
       "      <td>2.331962</td>\n",
       "      <td>2.446449</td>\n",
       "    </tr>\n",
       "    <tr>\n",
       "      <th>2027-08-31</th>\n",
       "      <td>2.423299</td>\n",
       "      <td>0.034786</td>\n",
       "      <td>2.355120</td>\n",
       "      <td>2.491479</td>\n",
       "    </tr>\n",
       "    <tr>\n",
       "      <th>...</th>\n",
       "      <td>...</td>\n",
       "      <td>...</td>\n",
       "      <td>...</td>\n",
       "      <td>...</td>\n",
       "    </tr>\n",
       "    <tr>\n",
       "      <th>2118-08-31</th>\n",
       "      <td>5.240027</td>\n",
       "      <td>0.992421</td>\n",
       "      <td>3.294918</td>\n",
       "      <td>7.185137</td>\n",
       "    </tr>\n",
       "    <tr>\n",
       "      <th>2119-08-31</th>\n",
       "      <td>5.268041</td>\n",
       "      <td>1.006269</td>\n",
       "      <td>3.295790</td>\n",
       "      <td>7.240291</td>\n",
       "    </tr>\n",
       "    <tr>\n",
       "      <th>2120-08-31</th>\n",
       "      <td>5.295994</td>\n",
       "      <td>1.020166</td>\n",
       "      <td>3.296506</td>\n",
       "      <td>7.295483</td>\n",
       "    </tr>\n",
       "    <tr>\n",
       "      <th>2121-08-31</th>\n",
       "      <td>5.323888</td>\n",
       "      <td>1.034112</td>\n",
       "      <td>3.297066</td>\n",
       "      <td>7.350711</td>\n",
       "    </tr>\n",
       "    <tr>\n",
       "      <th>2122-08-31</th>\n",
       "      <td>5.351723</td>\n",
       "      <td>1.048106</td>\n",
       "      <td>3.297472</td>\n",
       "      <td>7.405974</td>\n",
       "    </tr>\n",
       "  </tbody>\n",
       "</table>\n",
       "<p>100 rows × 4 columns</p>\n",
       "</div>"
      ],
      "text/plain": [
       "index           mean   mean_se  mean_ci_lower  mean_ci_upper\n",
       "2023-08-31  2.286486  0.011803       2.263352       2.309620\n",
       "2024-08-31  2.320799  0.017994       2.285531       2.356067\n",
       "2025-08-31  2.355039  0.023657       2.308673       2.401405\n",
       "2026-08-31  2.389206  0.029206       2.331962       2.446449\n",
       "2027-08-31  2.423299  0.034786       2.355120       2.491479\n",
       "...              ...       ...            ...            ...\n",
       "2118-08-31  5.240027  0.992421       3.294918       7.185137\n",
       "2119-08-31  5.268041  1.006269       3.295790       7.240291\n",
       "2120-08-31  5.295994  1.020166       3.296506       7.295483\n",
       "2121-08-31  5.323888  1.034112       3.297066       7.350711\n",
       "2122-08-31  5.351723  1.048106       3.297472       7.405974\n",
       "\n",
       "[100 rows x 4 columns]"
      ]
     },
     "execution_count": 8,
     "metadata": {},
     "output_type": "execute_result"
    }
   ],
   "source": [
    "# show data of prediction\n",
    "forecast_df"
   ]
  },
  {
   "cell_type": "code",
   "execution_count": 9,
   "metadata": {},
   "outputs": [
    {
     "data": {
      "text/html": [
       "<div>\n",
       "<style scoped>\n",
       "    .dataframe tbody tr th:only-of-type {\n",
       "        vertical-align: middle;\n",
       "    }\n",
       "\n",
       "    .dataframe tbody tr th {\n",
       "        vertical-align: top;\n",
       "    }\n",
       "\n",
       "    .dataframe thead th {\n",
       "        text-align: right;\n",
       "    }\n",
       "</style>\n",
       "<table border=\"1\" class=\"dataframe\">\n",
       "  <thead>\n",
       "    <tr style=\"text-align: right;\">\n",
       "      <th></th>\n",
       "      <th>index</th>\n",
       "      <th>coefficient</th>\n",
       "    </tr>\n",
       "    <tr>\n",
       "      <th>valid_since</th>\n",
       "      <th></th>\n",
       "      <th></th>\n",
       "    </tr>\n",
       "  </thead>\n",
       "  <tbody>\n",
       "    <tr>\n",
       "      <th>1950-01-01</th>\n",
       "      <td>0.2000</td>\n",
       "      <td>1.00</td>\n",
       "    </tr>\n",
       "    <tr>\n",
       "      <th>1955-01-01</th>\n",
       "      <td>0.2300</td>\n",
       "      <td>1.00</td>\n",
       "    </tr>\n",
       "    <tr>\n",
       "      <th>1960-01-01</th>\n",
       "      <td>0.2700</td>\n",
       "      <td>1.00</td>\n",
       "    </tr>\n",
       "    <tr>\n",
       "      <th>1970-01-01</th>\n",
       "      <td>0.3300</td>\n",
       "      <td>1.00</td>\n",
       "    </tr>\n",
       "    <tr>\n",
       "      <th>1975-01-01</th>\n",
       "      <td>0.5000</td>\n",
       "      <td>1.00</td>\n",
       "    </tr>\n",
       "    <tr>\n",
       "      <th>...</th>\n",
       "      <td>...</td>\n",
       "      <td>...</td>\n",
       "    </tr>\n",
       "    <tr>\n",
       "      <th>2118-08-31</th>\n",
       "      <td>5.2400</td>\n",
       "      <td>0.44</td>\n",
       "    </tr>\n",
       "    <tr>\n",
       "      <th>2119-08-31</th>\n",
       "      <td>5.2680</td>\n",
       "      <td>0.43</td>\n",
       "    </tr>\n",
       "    <tr>\n",
       "      <th>2120-08-31</th>\n",
       "      <td>5.2960</td>\n",
       "      <td>0.43</td>\n",
       "    </tr>\n",
       "    <tr>\n",
       "      <th>2121-08-31</th>\n",
       "      <td>5.3239</td>\n",
       "      <td>0.43</td>\n",
       "    </tr>\n",
       "    <tr>\n",
       "      <th>2122-08-31</th>\n",
       "      <td>5.3517</td>\n",
       "      <td>0.43</td>\n",
       "    </tr>\n",
       "  </tbody>\n",
       "</table>\n",
       "<p>150 rows × 2 columns</p>\n",
       "</div>"
      ],
      "text/plain": [
       "              index  coefficient\n",
       "valid_since                     \n",
       "1950-01-01   0.2000         1.00\n",
       "1955-01-01   0.2300         1.00\n",
       "1960-01-01   0.2700         1.00\n",
       "1970-01-01   0.3300         1.00\n",
       "1975-01-01   0.5000         1.00\n",
       "...             ...          ...\n",
       "2118-08-31   5.2400         0.44\n",
       "2119-08-31   5.2680         0.43\n",
       "2120-08-31   5.2960         0.43\n",
       "2121-08-31   5.3239         0.43\n",
       "2122-08-31   5.3517         0.43\n",
       "\n",
       "[150 rows x 2 columns]"
      ]
     },
     "execution_count": 9,
     "metadata": {},
     "output_type": "execute_result"
    }
   ],
   "source": [
    "# add column to df\n",
    "df['coefficient'] = 1\n",
    "\n",
    "# drop rank\n",
    "df = df.drop(columns=['rank'])\n",
    "df = df.drop(columns=['valid_since'])\n",
    "\n",
    "forecast_to_combine_df = forecast_df.copy()\n",
    "\n",
    "# add coefficient to forecast based on the prediction of arima\n",
    "forecast_to_combine_df['coefficient'] = forecast_to_combine_df['mean'] / forecast_to_combine_df['mean'].iloc[0]\n",
    "\n",
    "forecast_to_combine_df['coefficient'] = round(1 / forecast_to_combine_df['coefficient'], 2)\n",
    "\n",
    "forecast_to_combine_df['index'] = round(forecast_to_combine_df['mean'], 4)\n",
    "forecast_to_combine_df = forecast_to_combine_df.drop(columns=['mean', 'mean_se', 'mean_ci_lower', 'mean_ci_upper'])\n",
    "\n",
    "# combine data of prediction with original data\n",
    "df = pd.concat([df, forecast_to_combine_df], axis=0)\n",
    "\n",
    "# name to index\n",
    "df.index.name = 'valid_since'\n",
    "\n",
    "# append a new row at the beginning of the dataframe\n",
    "# df = df.append({'valid_since': '1950-01-01', 'index': 1, 'coefficient': 1})\n",
    "\n",
    "# valid_since,index,coefficient\n",
    "# 1950-01-01,0.20,1.0\n",
    "# 1955-01-01,0.23,1.0\n",
    "# 1960-01-01,0.27,1.0\n",
    "# 1970-01-01,0.33,1.0\n",
    "# 1975-01-01,0.50,1.0\n",
    "# 1980-01-01,0.67,1.0\n",
    "# 1985-06-01,0.83,1.0\n",
    "\n",
    "# append a new row at the beginning of the csv file\n",
    "\n",
    "new_df = pd.DataFrame({\n",
    "    'valid_since': ['1950-01-01', '1955-01-01', '1960-01-01', '1970-01-01', '1975-01-01', '1980-01-01', '1985-06-01'], \n",
    "    'index': [0.20, 0.23, 0.27, 0.33, 0.50, 0.67, 0.83], \n",
    "    'coefficient': [1.0, 1.0, 1.0, 1.0, 1.0, 1.0, 1.0]\n",
    "    })\n",
    "\n",
    "new_df.index = pd.to_datetime(new_df['valid_since'], format='%Y-%m-%d')\n",
    "\n",
    "new_df.drop(columns=['valid_since'], inplace=True)\n",
    "\n",
    "# combine new_df with df\n",
    "df = pd.concat([new_df, df], axis=0)\n",
    "\n",
    "df.to_csv('./index_df_with_prediction.csv')\n",
    "\n",
    "df\n"
   ]
  }
 ],
 "metadata": {
  "kernelspec": {
   "display_name": "Python 3.10.6 64-bit",
   "language": "python",
   "name": "python3"
  },
  "language_info": {
   "codemirror_mode": {
    "name": "ipython",
    "version": 3
   },
   "file_extension": ".py",
   "mimetype": "text/x-python",
   "name": "python",
   "nbconvert_exporter": "python",
   "pygments_lexer": "ipython3",
   "version": "3.10.8"
  },
  "orig_nbformat": 4,
  "vscode": {
   "interpreter": {
    "hash": "b0fa6594d8f4cbf19f97940f81e996739fb7646882a419484c72d19e05852a7e"
   }
  }
 },
 "nbformat": 4,
 "nbformat_minor": 2
}
